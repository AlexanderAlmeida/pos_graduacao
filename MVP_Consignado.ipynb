{
  "nbformat": 4,
  "nbformat_minor": 0,
  "metadata": {
    "colab": {
      "provenance": [],
      "authorship_tag": "ABX9TyPtZeQLYWpCKMNBkjwNrMV0",
      "include_colab_link": true
    },
    "kernelspec": {
      "name": "python3",
      "display_name": "Python 3"
    },
    "language_info": {
      "name": "python"
    }
  },
  "cells": [
    {
      "cell_type": "markdown",
      "metadata": {
        "id": "view-in-github",
        "colab_type": "text"
      },
      "source": [
        "<a href=\"https://colab.research.google.com/github/AlexanderAlmeida/pos_graduacao/blob/master/MVP_Consignado.ipynb\" target=\"_parent\"><img src=\"https://colab.research.google.com/assets/colab-badge.svg\" alt=\"Open In Colab\"/></a>"
      ]
    },
    {
      "cell_type": "markdown",
      "source": [
        "# MVP - Crédito Consignado\n",
        "\n",
        "- O objetivo principal é criar uma predição para poder conceder crédito consignado as pessoas com matrícula federal. A regrá principal consiste em ser menor que 85 anos de idade, com margem de saldo superior à 35% dos parcelamentos vigentes. Treinaremos modelos de machine learning para o problema de classificação.\n",
        "\n",
        "**Dataset**\n",
        "\n",
        " O dataset possui 5000 instâncias e 8 atributos, com um mix de tipos de dados categóricos e numéricos. Abaixo a descrição das colunas:\n",
        "\n",
        "Colunas:\n",
        "- Sexo: sexo do cidadão\n",
        "- Idade: idade do cidadão\n",
        "- UF: unidade federativa\n",
        "- Situação Funcional: Aposentado / Ativo e etc...\n",
        "- Tipo Contrato: Estável (Aposentadoria estávle) / Não Estável (Cidadão pode perder a aposentadoria ou pensão\n",
        "- Pmt_Valor: Valor total dos parcelamentos vigentes\n",
        "- Margem_Saldo: Valor total disponível para cessão de crédito\n",
        "- Conceder: Classe de saída: 0 - CONCEDER e 1 - NÃO CONCEDER\n",
        "\n",
        "\n",
        "\n",
        "\n",
        "\n",
        "\n",
        "\n",
        "\n"
      ],
      "metadata": {
        "id": "T9qv8izbybiG"
      }
    },
    {
      "cell_type": "markdown",
      "source": [
        "**Realizar as importações necessárias para o projeto**"
      ],
      "metadata": {
        "id": "94QShc1k2hem"
      }
    },
    {
      "cell_type": "code",
      "source": [
        "# Configuração para não exibir os warnings\n",
        "import warnings\n",
        "warnings.filterwarnings(\"ignore\")\n",
        "\n",
        "# Imports necessários\n",
        "import pandas as pd # para importação do dataset\n",
        "import numpy as np #\n",
        "import matplotlib.pyplot as plt\n",
        "import plotly.express as px\n",
        "import seaborn as sns\n",
        "from imblearn.over_sampling import SMOTE # tratamento do balanceamento por Oversampling\n",
        "from sklearn.preprocessing import StandardScaler\n",
        "from sklearn.preprocessing import MinMaxScaler # realiza o ajuste de escalonamento\n",
        "from sklearn.preprocessing import LabelEncoder # para converter variáveis categóticas\n",
        "from sklearn.model_selection import train_test_split # para particionar em bases de treino e teste (holdout)\n",
        "from sklearn.model_selection import KFold # para preparar os folds da validação cruzada\n",
        "from sklearn.model_selection import StratifiedKFold # estratificação dos Kfolds\n",
        "from sklearn.model_selection import cross_val_score # para executar a validação cruzada\n",
        "from sklearn.model_selection import GridSearchCV\n",
        "from sklearn.metrics import accuracy_score # para a exibição da acurácia do modelo\n",
        "from sklearn.metrics import confusion_matrix, ConfusionMatrixDisplay # para matriz de confusão\n",
        "from sklearn.pipeline import Pipeline # para criação dos pipelines\n",
        "from sklearn.linear_model import LogisticRegression # algorítmo de regressão logistica\n",
        "from sklearn.tree import DecisionTreeClassifier # algorítmos arvore de classificação\n",
        "from sklearn.neighbors import KNeighborsClassifier # algorítmos KNN\n",
        "from sklearn.naive_bayes import GaussianNB # algoritmo Naive Bayes\n",
        "from sklearn.svm import SVC # algoritmo SVC\n",
        "from sklearn.ensemble import BaggingClassifier # ensemble Bagging\n",
        "from sklearn.ensemble import RandomForestClassifier # ensemble RF\n",
        "from sklearn.ensemble import ExtraTreesClassifier # ensemble ExtraTree\n",
        "from sklearn.ensemble import VotingClassifier # ensemblre Voting\n",
        "from sklearn.ensemble import AdaBoostClassifier # ensembel ADA Boost\n",
        "from sklearn.ensemble import GradientBoostingClassifier # ensemble GradientBoost\n",
        "from sklearn.ensemble import HistGradientBoostingClassifier # ensemble GradientBoost\n",
        "from statistics import mean"
      ],
      "metadata": {
        "id": "eb4HORdF2eJb"
      },
      "execution_count": 19,
      "outputs": []
    },
    {
      "cell_type": "markdown",
      "source": [
        "**Carregando os dados históricos da base de consignado**"
      ],
      "metadata": {
        "id": "JwmZAjap3Yf_"
      }
    },
    {
      "cell_type": "code",
      "source": [
        "# Carregar os dados\n",
        "\n",
        "url = \"https://raw.githubusercontent.com/AlexanderAlmeida/pos_graduacao/master/consignado_final.csv\"\n",
        "data_consig = pd.read_csv(url, delimiter=',') # leitura do dataset consignado\n",
        "data_consig.head() # exibição das 5 primeiras linhas do dataset"
      ],
      "metadata": {
        "colab": {
          "base_uri": "https://localhost:8080/",
          "height": 206
        },
        "id": "1lNTgJvx3foK",
        "outputId": "6a452b3d-8d39-4496-b264-99221e00ff85"
      },
      "execution_count": 20,
      "outputs": [
        {
          "output_type": "execute_result",
          "data": {
            "text/plain": [
              "        sexo  idade  uf situacao_funcional tipo_contrato  pmt_valor  \\\n",
              "0  MASCULINO     40  BA   ATIVO PERMANENTE       ESTAVEL    2011.71   \n",
              "1  MASCULINO     40  BA   ATIVO PERMANENTE       ESTAVEL    3129.31   \n",
              "2  MASCULINO     38  MS   ATIVO PERMANENTE       ESTAVEL     976.12   \n",
              "3  MASCULINO     38  MS   ATIVO PERMANENTE       ESTAVEL    2960.64   \n",
              "4   FEMININO     89  PR         APOSENTADO       ESTAVEL     422.80   \n",
              "\n",
              "   margem_saldo  conceder  \n",
              "0      -1309.80         1  \n",
              "1       1104.00         1  \n",
              "2        235.91         1  \n",
              "3       3684.51         1  \n",
              "4      12923.68         1  "
            ],
            "text/html": [
              "\n",
              "  <div id=\"df-4025c747-fd2c-4280-bb69-3d3329844681\" class=\"colab-df-container\">\n",
              "    <div>\n",
              "<style scoped>\n",
              "    .dataframe tbody tr th:only-of-type {\n",
              "        vertical-align: middle;\n",
              "    }\n",
              "\n",
              "    .dataframe tbody tr th {\n",
              "        vertical-align: top;\n",
              "    }\n",
              "\n",
              "    .dataframe thead th {\n",
              "        text-align: right;\n",
              "    }\n",
              "</style>\n",
              "<table border=\"1\" class=\"dataframe\">\n",
              "  <thead>\n",
              "    <tr style=\"text-align: right;\">\n",
              "      <th></th>\n",
              "      <th>sexo</th>\n",
              "      <th>idade</th>\n",
              "      <th>uf</th>\n",
              "      <th>situacao_funcional</th>\n",
              "      <th>tipo_contrato</th>\n",
              "      <th>pmt_valor</th>\n",
              "      <th>margem_saldo</th>\n",
              "      <th>conceder</th>\n",
              "    </tr>\n",
              "  </thead>\n",
              "  <tbody>\n",
              "    <tr>\n",
              "      <th>0</th>\n",
              "      <td>MASCULINO</td>\n",
              "      <td>40</td>\n",
              "      <td>BA</td>\n",
              "      <td>ATIVO PERMANENTE</td>\n",
              "      <td>ESTAVEL</td>\n",
              "      <td>2011.71</td>\n",
              "      <td>-1309.80</td>\n",
              "      <td>1</td>\n",
              "    </tr>\n",
              "    <tr>\n",
              "      <th>1</th>\n",
              "      <td>MASCULINO</td>\n",
              "      <td>40</td>\n",
              "      <td>BA</td>\n",
              "      <td>ATIVO PERMANENTE</td>\n",
              "      <td>ESTAVEL</td>\n",
              "      <td>3129.31</td>\n",
              "      <td>1104.00</td>\n",
              "      <td>1</td>\n",
              "    </tr>\n",
              "    <tr>\n",
              "      <th>2</th>\n",
              "      <td>MASCULINO</td>\n",
              "      <td>38</td>\n",
              "      <td>MS</td>\n",
              "      <td>ATIVO PERMANENTE</td>\n",
              "      <td>ESTAVEL</td>\n",
              "      <td>976.12</td>\n",
              "      <td>235.91</td>\n",
              "      <td>1</td>\n",
              "    </tr>\n",
              "    <tr>\n",
              "      <th>3</th>\n",
              "      <td>MASCULINO</td>\n",
              "      <td>38</td>\n",
              "      <td>MS</td>\n",
              "      <td>ATIVO PERMANENTE</td>\n",
              "      <td>ESTAVEL</td>\n",
              "      <td>2960.64</td>\n",
              "      <td>3684.51</td>\n",
              "      <td>1</td>\n",
              "    </tr>\n",
              "    <tr>\n",
              "      <th>4</th>\n",
              "      <td>FEMININO</td>\n",
              "      <td>89</td>\n",
              "      <td>PR</td>\n",
              "      <td>APOSENTADO</td>\n",
              "      <td>ESTAVEL</td>\n",
              "      <td>422.80</td>\n",
              "      <td>12923.68</td>\n",
              "      <td>1</td>\n",
              "    </tr>\n",
              "  </tbody>\n",
              "</table>\n",
              "</div>\n",
              "    <div class=\"colab-df-buttons\">\n",
              "\n",
              "  <div class=\"colab-df-container\">\n",
              "    <button class=\"colab-df-convert\" onclick=\"convertToInteractive('df-4025c747-fd2c-4280-bb69-3d3329844681')\"\n",
              "            title=\"Convert this dataframe to an interactive table.\"\n",
              "            style=\"display:none;\">\n",
              "\n",
              "  <svg xmlns=\"http://www.w3.org/2000/svg\" height=\"24px\" viewBox=\"0 -960 960 960\">\n",
              "    <path d=\"M120-120v-720h720v720H120Zm60-500h600v-160H180v160Zm220 220h160v-160H400v160Zm0 220h160v-160H400v160ZM180-400h160v-160H180v160Zm440 0h160v-160H620v160ZM180-180h160v-160H180v160Zm440 0h160v-160H620v160Z\"/>\n",
              "  </svg>\n",
              "    </button>\n",
              "\n",
              "  <style>\n",
              "    .colab-df-container {\n",
              "      display:flex;\n",
              "      gap: 12px;\n",
              "    }\n",
              "\n",
              "    .colab-df-convert {\n",
              "      background-color: #E8F0FE;\n",
              "      border: none;\n",
              "      border-radius: 50%;\n",
              "      cursor: pointer;\n",
              "      display: none;\n",
              "      fill: #1967D2;\n",
              "      height: 32px;\n",
              "      padding: 0 0 0 0;\n",
              "      width: 32px;\n",
              "    }\n",
              "\n",
              "    .colab-df-convert:hover {\n",
              "      background-color: #E2EBFA;\n",
              "      box-shadow: 0px 1px 2px rgba(60, 64, 67, 0.3), 0px 1px 3px 1px rgba(60, 64, 67, 0.15);\n",
              "      fill: #174EA6;\n",
              "    }\n",
              "\n",
              "    .colab-df-buttons div {\n",
              "      margin-bottom: 4px;\n",
              "    }\n",
              "\n",
              "    [theme=dark] .colab-df-convert {\n",
              "      background-color: #3B4455;\n",
              "      fill: #D2E3FC;\n",
              "    }\n",
              "\n",
              "    [theme=dark] .colab-df-convert:hover {\n",
              "      background-color: #434B5C;\n",
              "      box-shadow: 0px 1px 3px 1px rgba(0, 0, 0, 0.15);\n",
              "      filter: drop-shadow(0px 1px 2px rgba(0, 0, 0, 0.3));\n",
              "      fill: #FFFFFF;\n",
              "    }\n",
              "  </style>\n",
              "\n",
              "    <script>\n",
              "      const buttonEl =\n",
              "        document.querySelector('#df-4025c747-fd2c-4280-bb69-3d3329844681 button.colab-df-convert');\n",
              "      buttonEl.style.display =\n",
              "        google.colab.kernel.accessAllowed ? 'block' : 'none';\n",
              "\n",
              "      async function convertToInteractive(key) {\n",
              "        const element = document.querySelector('#df-4025c747-fd2c-4280-bb69-3d3329844681');\n",
              "        const dataTable =\n",
              "          await google.colab.kernel.invokeFunction('convertToInteractive',\n",
              "                                                    [key], {});\n",
              "        if (!dataTable) return;\n",
              "\n",
              "        const docLinkHtml = 'Like what you see? Visit the ' +\n",
              "          '<a target=\"_blank\" href=https://colab.research.google.com/notebooks/data_table.ipynb>data table notebook</a>'\n",
              "          + ' to learn more about interactive tables.';\n",
              "        element.innerHTML = '';\n",
              "        dataTable['output_type'] = 'display_data';\n",
              "        await google.colab.output.renderOutput(dataTable, element);\n",
              "        const docLink = document.createElement('div');\n",
              "        docLink.innerHTML = docLinkHtml;\n",
              "        element.appendChild(docLink);\n",
              "      }\n",
              "    </script>\n",
              "  </div>\n",
              "\n",
              "\n",
              "<div id=\"df-036a8006-31dc-4404-bca6-d1b861a6f8c2\">\n",
              "  <button class=\"colab-df-quickchart\" onclick=\"quickchart('df-036a8006-31dc-4404-bca6-d1b861a6f8c2')\"\n",
              "            title=\"Suggest charts\"\n",
              "            style=\"display:none;\">\n",
              "\n",
              "<svg xmlns=\"http://www.w3.org/2000/svg\" height=\"24px\"viewBox=\"0 0 24 24\"\n",
              "     width=\"24px\">\n",
              "    <g>\n",
              "        <path d=\"M19 3H5c-1.1 0-2 .9-2 2v14c0 1.1.9 2 2 2h14c1.1 0 2-.9 2-2V5c0-1.1-.9-2-2-2zM9 17H7v-7h2v7zm4 0h-2V7h2v10zm4 0h-2v-4h2v4z\"/>\n",
              "    </g>\n",
              "</svg>\n",
              "  </button>\n",
              "\n",
              "<style>\n",
              "  .colab-df-quickchart {\n",
              "      --bg-color: #E8F0FE;\n",
              "      --fill-color: #1967D2;\n",
              "      --hover-bg-color: #E2EBFA;\n",
              "      --hover-fill-color: #174EA6;\n",
              "      --disabled-fill-color: #AAA;\n",
              "      --disabled-bg-color: #DDD;\n",
              "  }\n",
              "\n",
              "  [theme=dark] .colab-df-quickchart {\n",
              "      --bg-color: #3B4455;\n",
              "      --fill-color: #D2E3FC;\n",
              "      --hover-bg-color: #434B5C;\n",
              "      --hover-fill-color: #FFFFFF;\n",
              "      --disabled-bg-color: #3B4455;\n",
              "      --disabled-fill-color: #666;\n",
              "  }\n",
              "\n",
              "  .colab-df-quickchart {\n",
              "    background-color: var(--bg-color);\n",
              "    border: none;\n",
              "    border-radius: 50%;\n",
              "    cursor: pointer;\n",
              "    display: none;\n",
              "    fill: var(--fill-color);\n",
              "    height: 32px;\n",
              "    padding: 0;\n",
              "    width: 32px;\n",
              "  }\n",
              "\n",
              "  .colab-df-quickchart:hover {\n",
              "    background-color: var(--hover-bg-color);\n",
              "    box-shadow: 0 1px 2px rgba(60, 64, 67, 0.3), 0 1px 3px 1px rgba(60, 64, 67, 0.15);\n",
              "    fill: var(--button-hover-fill-color);\n",
              "  }\n",
              "\n",
              "  .colab-df-quickchart-complete:disabled,\n",
              "  .colab-df-quickchart-complete:disabled:hover {\n",
              "    background-color: var(--disabled-bg-color);\n",
              "    fill: var(--disabled-fill-color);\n",
              "    box-shadow: none;\n",
              "  }\n",
              "\n",
              "  .colab-df-spinner {\n",
              "    border: 2px solid var(--fill-color);\n",
              "    border-color: transparent;\n",
              "    border-bottom-color: var(--fill-color);\n",
              "    animation:\n",
              "      spin 1s steps(1) infinite;\n",
              "  }\n",
              "\n",
              "  @keyframes spin {\n",
              "    0% {\n",
              "      border-color: transparent;\n",
              "      border-bottom-color: var(--fill-color);\n",
              "      border-left-color: var(--fill-color);\n",
              "    }\n",
              "    20% {\n",
              "      border-color: transparent;\n",
              "      border-left-color: var(--fill-color);\n",
              "      border-top-color: var(--fill-color);\n",
              "    }\n",
              "    30% {\n",
              "      border-color: transparent;\n",
              "      border-left-color: var(--fill-color);\n",
              "      border-top-color: var(--fill-color);\n",
              "      border-right-color: var(--fill-color);\n",
              "    }\n",
              "    40% {\n",
              "      border-color: transparent;\n",
              "      border-right-color: var(--fill-color);\n",
              "      border-top-color: var(--fill-color);\n",
              "    }\n",
              "    60% {\n",
              "      border-color: transparent;\n",
              "      border-right-color: var(--fill-color);\n",
              "    }\n",
              "    80% {\n",
              "      border-color: transparent;\n",
              "      border-right-color: var(--fill-color);\n",
              "      border-bottom-color: var(--fill-color);\n",
              "    }\n",
              "    90% {\n",
              "      border-color: transparent;\n",
              "      border-bottom-color: var(--fill-color);\n",
              "    }\n",
              "  }\n",
              "</style>\n",
              "\n",
              "  <script>\n",
              "    async function quickchart(key) {\n",
              "      const quickchartButtonEl =\n",
              "        document.querySelector('#' + key + ' button');\n",
              "      quickchartButtonEl.disabled = true;  // To prevent multiple clicks.\n",
              "      quickchartButtonEl.classList.add('colab-df-spinner');\n",
              "      try {\n",
              "        const charts = await google.colab.kernel.invokeFunction(\n",
              "            'suggestCharts', [key], {});\n",
              "      } catch (error) {\n",
              "        console.error('Error during call to suggestCharts:', error);\n",
              "      }\n",
              "      quickchartButtonEl.classList.remove('colab-df-spinner');\n",
              "      quickchartButtonEl.classList.add('colab-df-quickchart-complete');\n",
              "    }\n",
              "    (() => {\n",
              "      let quickchartButtonEl =\n",
              "        document.querySelector('#df-036a8006-31dc-4404-bca6-d1b861a6f8c2 button');\n",
              "      quickchartButtonEl.style.display =\n",
              "        google.colab.kernel.accessAllowed ? 'block' : 'none';\n",
              "    })();\n",
              "  </script>\n",
              "</div>\n",
              "\n",
              "    </div>\n",
              "  </div>\n"
            ],
            "application/vnd.google.colaboratory.intrinsic+json": {
              "type": "dataframe",
              "variable_name": "data_consig",
              "summary": "{\n  \"name\": \"data_consig\",\n  \"rows\": 5000,\n  \"fields\": [\n    {\n      \"column\": \"sexo\",\n      \"properties\": {\n        \"dtype\": \"category\",\n        \"num_unique_values\": 2,\n        \"samples\": [\n          \"FEMININO\",\n          \"MASCULINO\"\n        ],\n        \"semantic_type\": \"\",\n        \"description\": \"\"\n      }\n    },\n    {\n      \"column\": \"idade\",\n      \"properties\": {\n        \"dtype\": \"number\",\n        \"std\": 21,\n        \"min\": 16,\n        \"max\": 122,\n        \"num_unique_values\": 86,\n        \"samples\": [\n          121,\n          40\n        ],\n        \"semantic_type\": \"\",\n        \"description\": \"\"\n      }\n    },\n    {\n      \"column\": \"uf\",\n      \"properties\": {\n        \"dtype\": \"category\",\n        \"num_unique_values\": 28,\n        \"samples\": [\n          \"PE\",\n          \"SE\"\n        ],\n        \"semantic_type\": \"\",\n        \"description\": \"\"\n      }\n    },\n    {\n      \"column\": \"situacao_funcional\",\n      \"properties\": {\n        \"dtype\": \"category\",\n        \"num_unique_values\": 18,\n        \"samples\": [\n          \"ATIVO PERMANENTE\",\n          \"APOSENTADO\"\n        ],\n        \"semantic_type\": \"\",\n        \"description\": \"\"\n      }\n    },\n    {\n      \"column\": \"tipo_contrato\",\n      \"properties\": {\n        \"dtype\": \"category\",\n        \"num_unique_values\": 2,\n        \"samples\": [\n          \"NAO ESTAVEL\",\n          \"ESTAVEL\"\n        ],\n        \"semantic_type\": \"\",\n        \"description\": \"\"\n      }\n    },\n    {\n      \"column\": \"pmt_valor\",\n      \"properties\": {\n        \"dtype\": \"number\",\n        \"std\": 2783.7353052970625,\n        \"min\": 6.55,\n        \"max\": 27418.01,\n        \"num_unique_values\": 4337,\n        \"samples\": [\n          1521.93,\n          369.41\n        ],\n        \"semantic_type\": \"\",\n        \"description\": \"\"\n      }\n    },\n    {\n      \"column\": \"margem_saldo\",\n      \"properties\": {\n        \"dtype\": \"number\",\n        \"std\": 7537.710984956416,\n        \"min\": -45820.72,\n        \"max\": 93084.39,\n        \"num_unique_values\": 4837,\n        \"samples\": [\n          -2825.28,\n          1923.36\n        ],\n        \"semantic_type\": \"\",\n        \"description\": \"\"\n      }\n    },\n    {\n      \"column\": \"conceder\",\n      \"properties\": {\n        \"dtype\": \"number\",\n        \"std\": 0,\n        \"min\": 0,\n        \"max\": 1,\n        \"num_unique_values\": 2,\n        \"samples\": [\n          0,\n          1\n        ],\n        \"semantic_type\": \"\",\n        \"description\": \"\"\n      }\n    }\n  ]\n}"
            }
          },
          "metadata": {},
          "execution_count": 20
        }
      ]
    },
    {
      "cell_type": "markdown",
      "source": [
        "**Analisando o dataset em busca de discrepâncias e desbalanceamentos**"
      ],
      "metadata": {
        "id": "gXNi7BF93yH2"
      }
    },
    {
      "cell_type": "code",
      "source": [
        "# Observando as discrepâncias\n",
        "data_consig.describe()"
      ],
      "metadata": {
        "colab": {
          "base_uri": "https://localhost:8080/",
          "height": 300
        },
        "id": "fV-UJUpK37of",
        "outputId": "518912c2-e3c9-4b7e-e368-c4ce72c71570"
      },
      "execution_count": 21,
      "outputs": [
        {
          "output_type": "execute_result",
          "data": {
            "text/plain": [
              "             idade     pmt_valor  margem_saldo     conceder\n",
              "count  5000.000000   5000.000000   5000.000000  5000.000000\n",
              "mean     60.872800   2254.081078   4016.961542     0.620000\n",
              "std      21.362956   2783.735305   7537.710985     0.485435\n",
              "min      16.000000      6.550000 -45820.720000     0.000000\n",
              "25%      39.000000    393.732500    170.040000     0.000000\n",
              "50%      54.000000   1438.020000   2219.540000     1.000000\n",
              "75%      83.000000   2990.740000   5872.812500     1.000000\n",
              "max     122.000000  27418.010000  93084.390000     1.000000"
            ],
            "text/html": [
              "\n",
              "  <div id=\"df-887560aa-417b-4243-a7e2-cd79fe767819\" class=\"colab-df-container\">\n",
              "    <div>\n",
              "<style scoped>\n",
              "    .dataframe tbody tr th:only-of-type {\n",
              "        vertical-align: middle;\n",
              "    }\n",
              "\n",
              "    .dataframe tbody tr th {\n",
              "        vertical-align: top;\n",
              "    }\n",
              "\n",
              "    .dataframe thead th {\n",
              "        text-align: right;\n",
              "    }\n",
              "</style>\n",
              "<table border=\"1\" class=\"dataframe\">\n",
              "  <thead>\n",
              "    <tr style=\"text-align: right;\">\n",
              "      <th></th>\n",
              "      <th>idade</th>\n",
              "      <th>pmt_valor</th>\n",
              "      <th>margem_saldo</th>\n",
              "      <th>conceder</th>\n",
              "    </tr>\n",
              "  </thead>\n",
              "  <tbody>\n",
              "    <tr>\n",
              "      <th>count</th>\n",
              "      <td>5000.000000</td>\n",
              "      <td>5000.000000</td>\n",
              "      <td>5000.000000</td>\n",
              "      <td>5000.000000</td>\n",
              "    </tr>\n",
              "    <tr>\n",
              "      <th>mean</th>\n",
              "      <td>60.872800</td>\n",
              "      <td>2254.081078</td>\n",
              "      <td>4016.961542</td>\n",
              "      <td>0.620000</td>\n",
              "    </tr>\n",
              "    <tr>\n",
              "      <th>std</th>\n",
              "      <td>21.362956</td>\n",
              "      <td>2783.735305</td>\n",
              "      <td>7537.710985</td>\n",
              "      <td>0.485435</td>\n",
              "    </tr>\n",
              "    <tr>\n",
              "      <th>min</th>\n",
              "      <td>16.000000</td>\n",
              "      <td>6.550000</td>\n",
              "      <td>-45820.720000</td>\n",
              "      <td>0.000000</td>\n",
              "    </tr>\n",
              "    <tr>\n",
              "      <th>25%</th>\n",
              "      <td>39.000000</td>\n",
              "      <td>393.732500</td>\n",
              "      <td>170.040000</td>\n",
              "      <td>0.000000</td>\n",
              "    </tr>\n",
              "    <tr>\n",
              "      <th>50%</th>\n",
              "      <td>54.000000</td>\n",
              "      <td>1438.020000</td>\n",
              "      <td>2219.540000</td>\n",
              "      <td>1.000000</td>\n",
              "    </tr>\n",
              "    <tr>\n",
              "      <th>75%</th>\n",
              "      <td>83.000000</td>\n",
              "      <td>2990.740000</td>\n",
              "      <td>5872.812500</td>\n",
              "      <td>1.000000</td>\n",
              "    </tr>\n",
              "    <tr>\n",
              "      <th>max</th>\n",
              "      <td>122.000000</td>\n",
              "      <td>27418.010000</td>\n",
              "      <td>93084.390000</td>\n",
              "      <td>1.000000</td>\n",
              "    </tr>\n",
              "  </tbody>\n",
              "</table>\n",
              "</div>\n",
              "    <div class=\"colab-df-buttons\">\n",
              "\n",
              "  <div class=\"colab-df-container\">\n",
              "    <button class=\"colab-df-convert\" onclick=\"convertToInteractive('df-887560aa-417b-4243-a7e2-cd79fe767819')\"\n",
              "            title=\"Convert this dataframe to an interactive table.\"\n",
              "            style=\"display:none;\">\n",
              "\n",
              "  <svg xmlns=\"http://www.w3.org/2000/svg\" height=\"24px\" viewBox=\"0 -960 960 960\">\n",
              "    <path d=\"M120-120v-720h720v720H120Zm60-500h600v-160H180v160Zm220 220h160v-160H400v160Zm0 220h160v-160H400v160ZM180-400h160v-160H180v160Zm440 0h160v-160H620v160ZM180-180h160v-160H180v160Zm440 0h160v-160H620v160Z\"/>\n",
              "  </svg>\n",
              "    </button>\n",
              "\n",
              "  <style>\n",
              "    .colab-df-container {\n",
              "      display:flex;\n",
              "      gap: 12px;\n",
              "    }\n",
              "\n",
              "    .colab-df-convert {\n",
              "      background-color: #E8F0FE;\n",
              "      border: none;\n",
              "      border-radius: 50%;\n",
              "      cursor: pointer;\n",
              "      display: none;\n",
              "      fill: #1967D2;\n",
              "      height: 32px;\n",
              "      padding: 0 0 0 0;\n",
              "      width: 32px;\n",
              "    }\n",
              "\n",
              "    .colab-df-convert:hover {\n",
              "      background-color: #E2EBFA;\n",
              "      box-shadow: 0px 1px 2px rgba(60, 64, 67, 0.3), 0px 1px 3px 1px rgba(60, 64, 67, 0.15);\n",
              "      fill: #174EA6;\n",
              "    }\n",
              "\n",
              "    .colab-df-buttons div {\n",
              "      margin-bottom: 4px;\n",
              "    }\n",
              "\n",
              "    [theme=dark] .colab-df-convert {\n",
              "      background-color: #3B4455;\n",
              "      fill: #D2E3FC;\n",
              "    }\n",
              "\n",
              "    [theme=dark] .colab-df-convert:hover {\n",
              "      background-color: #434B5C;\n",
              "      box-shadow: 0px 1px 3px 1px rgba(0, 0, 0, 0.15);\n",
              "      filter: drop-shadow(0px 1px 2px rgba(0, 0, 0, 0.3));\n",
              "      fill: #FFFFFF;\n",
              "    }\n",
              "  </style>\n",
              "\n",
              "    <script>\n",
              "      const buttonEl =\n",
              "        document.querySelector('#df-887560aa-417b-4243-a7e2-cd79fe767819 button.colab-df-convert');\n",
              "      buttonEl.style.display =\n",
              "        google.colab.kernel.accessAllowed ? 'block' : 'none';\n",
              "\n",
              "      async function convertToInteractive(key) {\n",
              "        const element = document.querySelector('#df-887560aa-417b-4243-a7e2-cd79fe767819');\n",
              "        const dataTable =\n",
              "          await google.colab.kernel.invokeFunction('convertToInteractive',\n",
              "                                                    [key], {});\n",
              "        if (!dataTable) return;\n",
              "\n",
              "        const docLinkHtml = 'Like what you see? Visit the ' +\n",
              "          '<a target=\"_blank\" href=https://colab.research.google.com/notebooks/data_table.ipynb>data table notebook</a>'\n",
              "          + ' to learn more about interactive tables.';\n",
              "        element.innerHTML = '';\n",
              "        dataTable['output_type'] = 'display_data';\n",
              "        await google.colab.output.renderOutput(dataTable, element);\n",
              "        const docLink = document.createElement('div');\n",
              "        docLink.innerHTML = docLinkHtml;\n",
              "        element.appendChild(docLink);\n",
              "      }\n",
              "    </script>\n",
              "  </div>\n",
              "\n",
              "\n",
              "<div id=\"df-d7248662-166f-4cde-8707-a094857d9f20\">\n",
              "  <button class=\"colab-df-quickchart\" onclick=\"quickchart('df-d7248662-166f-4cde-8707-a094857d9f20')\"\n",
              "            title=\"Suggest charts\"\n",
              "            style=\"display:none;\">\n",
              "\n",
              "<svg xmlns=\"http://www.w3.org/2000/svg\" height=\"24px\"viewBox=\"0 0 24 24\"\n",
              "     width=\"24px\">\n",
              "    <g>\n",
              "        <path d=\"M19 3H5c-1.1 0-2 .9-2 2v14c0 1.1.9 2 2 2h14c1.1 0 2-.9 2-2V5c0-1.1-.9-2-2-2zM9 17H7v-7h2v7zm4 0h-2V7h2v10zm4 0h-2v-4h2v4z\"/>\n",
              "    </g>\n",
              "</svg>\n",
              "  </button>\n",
              "\n",
              "<style>\n",
              "  .colab-df-quickchart {\n",
              "      --bg-color: #E8F0FE;\n",
              "      --fill-color: #1967D2;\n",
              "      --hover-bg-color: #E2EBFA;\n",
              "      --hover-fill-color: #174EA6;\n",
              "      --disabled-fill-color: #AAA;\n",
              "      --disabled-bg-color: #DDD;\n",
              "  }\n",
              "\n",
              "  [theme=dark] .colab-df-quickchart {\n",
              "      --bg-color: #3B4455;\n",
              "      --fill-color: #D2E3FC;\n",
              "      --hover-bg-color: #434B5C;\n",
              "      --hover-fill-color: #FFFFFF;\n",
              "      --disabled-bg-color: #3B4455;\n",
              "      --disabled-fill-color: #666;\n",
              "  }\n",
              "\n",
              "  .colab-df-quickchart {\n",
              "    background-color: var(--bg-color);\n",
              "    border: none;\n",
              "    border-radius: 50%;\n",
              "    cursor: pointer;\n",
              "    display: none;\n",
              "    fill: var(--fill-color);\n",
              "    height: 32px;\n",
              "    padding: 0;\n",
              "    width: 32px;\n",
              "  }\n",
              "\n",
              "  .colab-df-quickchart:hover {\n",
              "    background-color: var(--hover-bg-color);\n",
              "    box-shadow: 0 1px 2px rgba(60, 64, 67, 0.3), 0 1px 3px 1px rgba(60, 64, 67, 0.15);\n",
              "    fill: var(--button-hover-fill-color);\n",
              "  }\n",
              "\n",
              "  .colab-df-quickchart-complete:disabled,\n",
              "  .colab-df-quickchart-complete:disabled:hover {\n",
              "    background-color: var(--disabled-bg-color);\n",
              "    fill: var(--disabled-fill-color);\n",
              "    box-shadow: none;\n",
              "  }\n",
              "\n",
              "  .colab-df-spinner {\n",
              "    border: 2px solid var(--fill-color);\n",
              "    border-color: transparent;\n",
              "    border-bottom-color: var(--fill-color);\n",
              "    animation:\n",
              "      spin 1s steps(1) infinite;\n",
              "  }\n",
              "\n",
              "  @keyframes spin {\n",
              "    0% {\n",
              "      border-color: transparent;\n",
              "      border-bottom-color: var(--fill-color);\n",
              "      border-left-color: var(--fill-color);\n",
              "    }\n",
              "    20% {\n",
              "      border-color: transparent;\n",
              "      border-left-color: var(--fill-color);\n",
              "      border-top-color: var(--fill-color);\n",
              "    }\n",
              "    30% {\n",
              "      border-color: transparent;\n",
              "      border-left-color: var(--fill-color);\n",
              "      border-top-color: var(--fill-color);\n",
              "      border-right-color: var(--fill-color);\n",
              "    }\n",
              "    40% {\n",
              "      border-color: transparent;\n",
              "      border-right-color: var(--fill-color);\n",
              "      border-top-color: var(--fill-color);\n",
              "    }\n",
              "    60% {\n",
              "      border-color: transparent;\n",
              "      border-right-color: var(--fill-color);\n",
              "    }\n",
              "    80% {\n",
              "      border-color: transparent;\n",
              "      border-right-color: var(--fill-color);\n",
              "      border-bottom-color: var(--fill-color);\n",
              "    }\n",
              "    90% {\n",
              "      border-color: transparent;\n",
              "      border-bottom-color: var(--fill-color);\n",
              "    }\n",
              "  }\n",
              "</style>\n",
              "\n",
              "  <script>\n",
              "    async function quickchart(key) {\n",
              "      const quickchartButtonEl =\n",
              "        document.querySelector('#' + key + ' button');\n",
              "      quickchartButtonEl.disabled = true;  // To prevent multiple clicks.\n",
              "      quickchartButtonEl.classList.add('colab-df-spinner');\n",
              "      try {\n",
              "        const charts = await google.colab.kernel.invokeFunction(\n",
              "            'suggestCharts', [key], {});\n",
              "      } catch (error) {\n",
              "        console.error('Error during call to suggestCharts:', error);\n",
              "      }\n",
              "      quickchartButtonEl.classList.remove('colab-df-spinner');\n",
              "      quickchartButtonEl.classList.add('colab-df-quickchart-complete');\n",
              "    }\n",
              "    (() => {\n",
              "      let quickchartButtonEl =\n",
              "        document.querySelector('#df-d7248662-166f-4cde-8707-a094857d9f20 button');\n",
              "      quickchartButtonEl.style.display =\n",
              "        google.colab.kernel.accessAllowed ? 'block' : 'none';\n",
              "    })();\n",
              "  </script>\n",
              "</div>\n",
              "\n",
              "    </div>\n",
              "  </div>\n"
            ],
            "application/vnd.google.colaboratory.intrinsic+json": {
              "type": "dataframe",
              "summary": "{\n  \"name\": \"data_consig\",\n  \"rows\": 8,\n  \"fields\": [\n    {\n      \"column\": \"idade\",\n      \"properties\": {\n        \"dtype\": \"number\",\n        \"std\": 1748.0890722518868,\n        \"min\": 16.0,\n        \"max\": 5000.0,\n        \"num_unique_values\": 8,\n        \"samples\": [\n          60.8728,\n          54.0,\n          5000.0\n        ],\n        \"semantic_type\": \"\",\n        \"description\": \"\"\n      }\n    },\n    {\n      \"column\": \"pmt_valor\",\n      \"properties\": {\n        \"dtype\": \"number\",\n        \"std\": 9080.934222775353,\n        \"min\": 6.55,\n        \"max\": 27418.01,\n        \"num_unique_values\": 8,\n        \"samples\": [\n          2254.081078,\n          1438.02,\n          5000.0\n        ],\n        \"semantic_type\": \"\",\n        \"description\": \"\"\n      }\n    },\n    {\n      \"column\": \"margem_saldo\",\n      \"properties\": {\n        \"dtype\": \"number\",\n        \"std\": 38270.0671221428,\n        \"min\": -45820.72,\n        \"max\": 93084.39,\n        \"num_unique_values\": 8,\n        \"samples\": [\n          4016.961542,\n          2219.54,\n          5000.0\n        ],\n        \"semantic_type\": \"\",\n        \"description\": \"\"\n      }\n    },\n    {\n      \"column\": \"conceder\",\n      \"properties\": {\n        \"dtype\": \"number\",\n        \"std\": 1767.5596461742382,\n        \"min\": 0.0,\n        \"max\": 5000.0,\n        \"num_unique_values\": 5,\n        \"samples\": [\n          0.62,\n          1.0,\n          0.48543498990687234\n        ],\n        \"semantic_type\": \"\",\n        \"description\": \"\"\n      }\n    }\n  ]\n}"
            }
          },
          "metadata": {},
          "execution_count": 21
        }
      ]
    },
    {
      "cell_type": "markdown",
      "source": [
        "*** Podemos verificar um pequeno desvio em relação a idade, pois é muito pouco provável ter pessoas com 122 anos de idade.**"
      ],
      "metadata": {
        "id": "JIUsOFtlL7EK"
      }
    },
    {
      "cell_type": "code",
      "source": [
        "# Plotando a distribuição da idade em relação a base\n",
        "plt.hist(x=data_consig['idade']);"
      ],
      "metadata": {
        "colab": {
          "base_uri": "https://localhost:8080/",
          "height": 430
        },
        "id": "iHVvC66V_rjE",
        "outputId": "0821ce5a-f13b-4936-d9c0-a17c8b739bed"
      },
      "execution_count": 22,
      "outputs": [
        {
          "output_type": "display_data",
          "data": {
            "text/plain": [
              "<Figure size 640x480 with 1 Axes>"
            ],
            "image/png": "[encoded data removed]"
          },
          "metadata": {}
        }
      ]
    },
    {
      "cell_type": "code",
      "source": [
        "# Plotando a distribuição da idade em relação a base\n",
        "plt.figure(figsize=(10, 6))\n",
        "plt.hist(x=data_consig['uf']);"
      ],
      "metadata": {
        "colab": {
          "base_uri": "https://localhost:8080/",
          "height": 522
        },
        "id": "HQgPWdpwwchW",
        "outputId": "ab385430-f716-4cd9-b959-0f7bd57c722a"
      },
      "execution_count": 23,
      "outputs": [
        {
          "output_type": "display_data",
          "data": {
            "text/plain": [
              "<Figure size 1000x600 with 1 Axes>"
            ],
            "image/png": "[encoded data removed]"
          },
          "metadata": {}
        }
      ]
    },
    {
      "cell_type": "code",
      "source": [
        "# Plotando a distribuição de parcelamento em relação a base\n",
        "plt.hist(x=data_consig['pmt_valor']);"
      ],
      "metadata": {
        "colab": {
          "base_uri": "https://localhost:8080/",
          "height": 430
        },
        "id": "og5Gv2xjwDB_",
        "outputId": "2054a686-95eb-456f-f0b0-53654ee7943d"
      },
      "execution_count": 24,
      "outputs": [
        {
          "output_type": "display_data",
          "data": {
            "text/plain": [
              "<Figure size 640x480 with 1 Axes>"
            ],
            "image/png": "[encoded data removed]"
          },
          "metadata": {}
        }
      ]
    },
    {
      "cell_type": "code",
      "source": [
        "# Plotando a distribuição da margem em relação a base\n",
        "plt.hist(x=data_consig['margem_saldo']);"
      ],
      "metadata": {
        "colab": {
          "base_uri": "https://localhost:8080/",
          "height": 430
        },
        "id": "6ZxWTN__wK43",
        "outputId": "17512798-de48-49ae-ad2f-c4ecaa6de5d4"
      },
      "execution_count": 25,
      "outputs": [
        {
          "output_type": "display_data",
          "data": {
            "text/plain": [
              "<Figure size 640x480 with 1 Axes>"
            ],
            "image/png": "[encoded data removed]"
          },
          "metadata": {}
        }
      ]
    },
    {
      "cell_type": "markdown",
      "source": [
        "**Tratamento de valores inconsistentes**\n",
        "- Após análise dos dados, realizaremos o tratamento de valores inconsistentes. No caso, encontramos algumas idades superiores a 120 anos que podemos considerar pouco prováveis."
      ],
      "metadata": {
        "id": "YIg-qgTT5LXP"
      }
    },
    {
      "cell_type": "code",
      "source": [
        "# Filtragem das idades superiores à 120\n",
        "data_consig[data_consig['idade'] > 120.000000]"
      ],
      "metadata": {
        "colab": {
          "base_uri": "https://localhost:8080/",
          "height": 206
        },
        "id": "VivymxfA6V-r",
        "outputId": "ac77b4a1-68af-49e5-a808-a34a8e676ccd"
      },
      "execution_count": 26,
      "outputs": [
        {
          "output_type": "execute_result",
          "data": {
            "text/plain": [
              "          sexo  idade  uf   situacao_funcional tipo_contrato  pmt_valor  \\\n",
              "1938  FEMININO    121  PR           APOSENTADO       ESTAVEL    1927.09   \n",
              "1939  FEMININO    121  PR           APOSENTADO       ESTAVEL    2000.10   \n",
              "1940  FEMININO    121  PR           APOSENTADO       ESTAVEL    2308.70   \n",
              "3556  FEMININO    121  RS           APOSENTADO       ESTAVEL     243.96   \n",
              "3938  FEMININO    122  ND  CONTRATO TEMPORARIO   NAO ESTAVEL     725.20   \n",
              "\n",
              "      margem_saldo  conceder  \n",
              "1938      13027.80         1  \n",
              "1939      15636.96         1  \n",
              "1940      33805.71         1  \n",
              "3556      17301.56         1  \n",
              "3938          2.00         1  "
            ],
            "text/html": [
              "\n",
              "  <div id=\"df-189801c0-23e3-407b-99cf-1cb850b145f6\" class=\"colab-df-container\">\n",
              "    <div>\n",
              "<style scoped>\n",
              "    .dataframe tbody tr th:only-of-type {\n",
              "        vertical-align: middle;\n",
              "    }\n",
              "\n",
              "    .dataframe tbody tr th {\n",
              "        vertical-align: top;\n",
              "    }\n",
              "\n",
              "    .dataframe thead th {\n",
              "        text-align: right;\n",
              "    }\n",
              "</style>\n",
              "<table border=\"1\" class=\"dataframe\">\n",
              "  <thead>\n",
              "    <tr style=\"text-align: right;\">\n",
              "      <th></th>\n",
              "      <th>sexo</th>\n",
              "      <th>idade</th>\n",
              "      <th>uf</th>\n",
              "      <th>situacao_funcional</th>\n",
              "      <th>tipo_contrato</th>\n",
              "      <th>pmt_valor</th>\n",
              "      <th>margem_saldo</th>\n",
              "      <th>conceder</th>\n",
              "    </tr>\n",
              "  </thead>\n",
              "  <tbody>\n",
              "    <tr>\n",
              "      <th>1938</th>\n",
              "      <td>FEMININO</td>\n",
              "      <td>121</td>\n",
              "      <td>PR</td>\n",
              "      <td>APOSENTADO</td>\n",
              "      <td>ESTAVEL</td>\n",
              "      <td>1927.09</td>\n",
              "      <td>13027.80</td>\n",
              "      <td>1</td>\n",
              "    </tr>\n",
              "    <tr>\n",
              "      <th>1939</th>\n",
              "      <td>FEMININO</td>\n",
              "      <td>121</td>\n",
              "      <td>PR</td>\n",
              "      <td>APOSENTADO</td>\n",
              "      <td>ESTAVEL</td>\n",
              "      <td>2000.10</td>\n",
              "      <td>15636.96</td>\n",
              "      <td>1</td>\n",
              "    </tr>\n",
              "    <tr>\n",
              "      <th>1940</th>\n",
              "      <td>FEMININO</td>\n",
              "      <td>121</td>\n",
              "      <td>PR</td>\n",
              "      <td>APOSENTADO</td>\n",
              "      <td>ESTAVEL</td>\n",
              "      <td>2308.70</td>\n",
              "      <td>33805.71</td>\n",
              "      <td>1</td>\n",
              "    </tr>\n",
              "    <tr>\n",
              "      <th>3556</th>\n",
              "      <td>FEMININO</td>\n",
              "      <td>121</td>\n",
              "      <td>RS</td>\n",
              "      <td>APOSENTADO</td>\n",
              "      <td>ESTAVEL</td>\n",
              "      <td>243.96</td>\n",
              "      <td>17301.56</td>\n",
              "      <td>1</td>\n",
              "    </tr>\n",
              "    <tr>\n",
              "      <th>3938</th>\n",
              "      <td>FEMININO</td>\n",
              "      <td>122</td>\n",
              "      <td>ND</td>\n",
              "      <td>CONTRATO TEMPORARIO</td>\n",
              "      <td>NAO ESTAVEL</td>\n",
              "      <td>725.20</td>\n",
              "      <td>2.00</td>\n",
              "      <td>1</td>\n",
              "    </tr>\n",
              "  </tbody>\n",
              "</table>\n",
              "</div>\n",
              "    <div class=\"colab-df-buttons\">\n",
              "\n",
              "  <div class=\"colab-df-container\">\n",
              "    <button class=\"colab-df-convert\" onclick=\"convertToInteractive('df-189801c0-23e3-407b-99cf-1cb850b145f6')\"\n",
              "            title=\"Convert this dataframe to an interactive table.\"\n",
              "            style=\"display:none;\">\n",
              "\n",
              "  <svg xmlns=\"http://www.w3.org/2000/svg\" height=\"24px\" viewBox=\"0 -960 960 960\">\n",
              "    <path d=\"M120-120v-720h720v720H120Zm60-500h600v-160H180v160Zm220 220h160v-160H400v160Zm0 220h160v-160H400v160ZM180-400h160v-160H180v160Zm440 0h160v-160H620v160ZM180-180h160v-160H180v160Zm440 0h160v-160H620v160Z\"/>\n",
              "  </svg>\n",
              "    </button>\n",
              "\n",
              "  <style>\n",
              "    .colab-df-container {\n",
              "      display:flex;\n",
              "      gap: 12px;\n",
              "    }\n",
              "\n",
              "    .colab-df-convert {\n",
              "      background-color: #E8F0FE;\n",
              "      border: none;\n",
              "      border-radius: 50%;\n",
              "      cursor: pointer;\n",
              "      display: none;\n",
              "      fill: #1967D2;\n",
              "      height: 32px;\n",
              "      padding: 0 0 0 0;\n",
              "      width: 32px;\n",
              "    }\n",
              "\n",
              "    .colab-df-convert:hover {\n",
              "      background-color: #E2EBFA;\n",
              "      box-shadow: 0px 1px 2px rgba(60, 64, 67, 0.3), 0px 1px 3px 1px rgba(60, 64, 67, 0.15);\n",
              "      fill: #174EA6;\n",
              "    }\n",
              "\n",
              "    .colab-df-buttons div {\n",
              "      margin-bottom: 4px;\n",
              "    }\n",
              "\n",
              "    [theme=dark] .colab-df-convert {\n",
              "      background-color: #3B4455;\n",
              "      fill: #D2E3FC;\n",
              "    }\n",
              "\n",
              "    [theme=dark] .colab-df-convert:hover {\n",
              "      background-color: #434B5C;\n",
              "      box-shadow: 0px 1px 3px 1px rgba(0, 0, 0, 0.15);\n",
              "      filter: drop-shadow(0px 1px 2px rgba(0, 0, 0, 0.3));\n",
              "      fill: #FFFFFF;\n",
              "    }\n",
              "  </style>\n",
              "\n",
              "    <script>\n",
              "      const buttonEl =\n",
              "        document.querySelector('#df-189801c0-23e3-407b-99cf-1cb850b145f6 button.colab-df-convert');\n",
              "      buttonEl.style.display =\n",
              "        google.colab.kernel.accessAllowed ? 'block' : 'none';\n",
              "\n",
              "      async function convertToInteractive(key) {\n",
              "        const element = document.querySelector('#df-189801c0-23e3-407b-99cf-1cb850b145f6');\n",
              "        const dataTable =\n",
              "          await google.colab.kernel.invokeFunction('convertToInteractive',\n",
              "                                                    [key], {});\n",
              "        if (!dataTable) return;\n",
              "\n",
              "        const docLinkHtml = 'Like what you see? Visit the ' +\n",
              "          '<a target=\"_blank\" href=https://colab.research.google.com/notebooks/data_table.ipynb>data table notebook</a>'\n",
              "          + ' to learn more about interactive tables.';\n",
              "        element.innerHTML = '';\n",
              "        dataTable['output_type'] = 'display_data';\n",
              "        await google.colab.output.renderOutput(dataTable, element);\n",
              "        const docLink = document.createElement('div');\n",
              "        docLink.innerHTML = docLinkHtml;\n",
              "        element.appendChild(docLink);\n",
              "      }\n",
              "    </script>\n",
              "  </div>\n",
              "\n",
              "\n",
              "<div id=\"df-6d2bca7f-c54b-44af-9356-5f95e3ccc7f9\">\n",
              "  <button class=\"colab-df-quickchart\" onclick=\"quickchart('df-6d2bca7f-c54b-44af-9356-5f95e3ccc7f9')\"\n",
              "            title=\"Suggest charts\"\n",
              "            style=\"display:none;\">\n",
              "\n",
              "<svg xmlns=\"http://www.w3.org/2000/svg\" height=\"24px\"viewBox=\"0 0 24 24\"\n",
              "     width=\"24px\">\n",
              "    <g>\n",
              "        <path d=\"M19 3H5c-1.1 0-2 .9-2 2v14c0 1.1.9 2 2 2h14c1.1 0 2-.9 2-2V5c0-1.1-.9-2-2-2zM9 17H7v-7h2v7zm4 0h-2V7h2v10zm4 0h-2v-4h2v4z\"/>\n",
              "    </g>\n",
              "</svg>\n",
              "  </button>\n",
              "\n",
              "<style>\n",
              "  .colab-df-quickchart {\n",
              "      --bg-color: #E8F0FE;\n",
              "      --fill-color: #1967D2;\n",
              "      --hover-bg-color: #E2EBFA;\n",
              "      --hover-fill-color: #174EA6;\n",
              "      --disabled-fill-color: #AAA;\n",
              "      --disabled-bg-color: #DDD;\n",
              "  }\n",
              "\n",
              "  [theme=dark] .colab-df-quickchart {\n",
              "      --bg-color: #3B4455;\n",
              "      --fill-color: #D2E3FC;\n",
              "      --hover-bg-color: #434B5C;\n",
              "      --hover-fill-color: #FFFFFF;\n",
              "      --disabled-bg-color: #3B4455;\n",
              "      --disabled-fill-color: #666;\n",
              "  }\n",
              "\n",
              "  .colab-df-quickchart {\n",
              "    background-color: var(--bg-color);\n",
              "    border: none;\n",
              "    border-radius: 50%;\n",
              "    cursor: pointer;\n",
              "    display: none;\n",
              "    fill: var(--fill-color);\n",
              "    height: 32px;\n",
              "    padding: 0;\n",
              "    width: 32px;\n",
              "  }\n",
              "\n",
              "  .colab-df-quickchart:hover {\n",
              "    background-color: var(--hover-bg-color);\n",
              "    box-shadow: 0 1px 2px rgba(60, 64, 67, 0.3), 0 1px 3px 1px rgba(60, 64, 67, 0.15);\n",
              "    fill: var(--button-hover-fill-color);\n",
              "  }\n",
              "\n",
              "  .colab-df-quickchart-complete:disabled,\n",
              "  .colab-df-quickchart-complete:disabled:hover {\n",
              "    background-color: var(--disabled-bg-color);\n",
              "    fill: var(--disabled-fill-color);\n",
              "    box-shadow: none;\n",
              "  }\n",
              "\n",
              "  .colab-df-spinner {\n",
              "    border: 2px solid var(--fill-color);\n",
              "    border-color: transparent;\n",
              "    border-bottom-color: var(--fill-color);\n",
              "    animation:\n",
              "      spin 1s steps(1) infinite;\n",
              "  }\n",
              "\n",
              "  @keyframes spin {\n",
              "    0% {\n",
              "      border-color: transparent;\n",
              "      border-bottom-color: var(--fill-color);\n",
              "      border-left-color: var(--fill-color);\n",
              "    }\n",
              "    20% {\n",
              "      border-color: transparent;\n",
              "      border-left-color: var(--fill-color);\n",
              "      border-top-color: var(--fill-color);\n",
              "    }\n",
              "    30% {\n",
              "      border-color: transparent;\n",
              "      border-left-color: var(--fill-color);\n",
              "      border-top-color: var(--fill-color);\n",
              "      border-right-color: var(--fill-color);\n",
              "    }\n",
              "    40% {\n",
              "      border-color: transparent;\n",
              "      border-right-color: var(--fill-color);\n",
              "      border-top-color: var(--fill-color);\n",
              "    }\n",
              "    60% {\n",
              "      border-color: transparent;\n",
              "      border-right-color: var(--fill-color);\n",
              "    }\n",
              "    80% {\n",
              "      border-color: transparent;\n",
              "      border-right-color: var(--fill-color);\n",
              "      border-bottom-color: var(--fill-color);\n",
              "    }\n",
              "    90% {\n",
              "      border-color: transparent;\n",
              "      border-bottom-color: var(--fill-color);\n",
              "    }\n",
              "  }\n",
              "</style>\n",
              "\n",
              "  <script>\n",
              "    async function quickchart(key) {\n",
              "      const quickchartButtonEl =\n",
              "        document.querySelector('#' + key + ' button');\n",
              "      quickchartButtonEl.disabled = true;  // To prevent multiple clicks.\n",
              "      quickchartButtonEl.classList.add('colab-df-spinner');\n",
              "      try {\n",
              "        const charts = await google.colab.kernel.invokeFunction(\n",
              "            'suggestCharts', [key], {});\n",
              "      } catch (error) {\n",
              "        console.error('Error during call to suggestCharts:', error);\n",
              "      }\n",
              "      quickchartButtonEl.classList.remove('colab-df-spinner');\n",
              "      quickchartButtonEl.classList.add('colab-df-quickchart-complete');\n",
              "    }\n",
              "    (() => {\n",
              "      let quickchartButtonEl =\n",
              "        document.querySelector('#df-6d2bca7f-c54b-44af-9356-5f95e3ccc7f9 button');\n",
              "      quickchartButtonEl.style.display =\n",
              "        google.colab.kernel.accessAllowed ? 'block' : 'none';\n",
              "    })();\n",
              "  </script>\n",
              "</div>\n",
              "\n",
              "    </div>\n",
              "  </div>\n"
            ],
            "application/vnd.google.colaboratory.intrinsic+json": {
              "type": "dataframe",
              "summary": "{\n  \"name\": \"data_consig[data_consig['idade'] > 120\",\n  \"rows\": 5,\n  \"fields\": [\n    {\n      \"column\": \"sexo\",\n      \"properties\": {\n        \"dtype\": \"category\",\n        \"num_unique_values\": 1,\n        \"samples\": [\n          \"FEMININO\"\n        ],\n        \"semantic_type\": \"\",\n        \"description\": \"\"\n      }\n    },\n    {\n      \"column\": \"idade\",\n      \"properties\": {\n        \"dtype\": \"number\",\n        \"std\": 0,\n        \"min\": 121,\n        \"max\": 122,\n        \"num_unique_values\": 2,\n        \"samples\": [\n          122\n        ],\n        \"semantic_type\": \"\",\n        \"description\": \"\"\n      }\n    },\n    {\n      \"column\": \"uf\",\n      \"properties\": {\n        \"dtype\": \"string\",\n        \"num_unique_values\": 3,\n        \"samples\": [\n          \"PR\"\n        ],\n        \"semantic_type\": \"\",\n        \"description\": \"\"\n      }\n    },\n    {\n      \"column\": \"situacao_funcional\",\n      \"properties\": {\n        \"dtype\": \"category\",\n        \"num_unique_values\": 2,\n        \"samples\": [\n          \"CONTRATO TEMPORARIO\"\n        ],\n        \"semantic_type\": \"\",\n        \"description\": \"\"\n      }\n    },\n    {\n      \"column\": \"tipo_contrato\",\n      \"properties\": {\n        \"dtype\": \"category\",\n        \"num_unique_values\": 2,\n        \"samples\": [\n          \"NAO ESTAVEL\"\n        ],\n        \"semantic_type\": \"\",\n        \"description\": \"\"\n      }\n    },\n    {\n      \"column\": \"pmt_valor\",\n      \"properties\": {\n        \"dtype\": \"number\",\n        \"std\": 900.9791880504232,\n        \"min\": 243.96,\n        \"max\": 2308.7,\n        \"num_unique_values\": 5,\n        \"samples\": [\n          2000.1\n        ],\n        \"semantic_type\": \"\",\n        \"description\": \"\"\n      }\n    },\n    {\n      \"column\": \"margem_saldo\",\n      \"properties\": {\n        \"dtype\": \"number\",\n        \"std\": 12079.206611271287,\n        \"min\": 2.0,\n        \"max\": 33805.71,\n        \"num_unique_values\": 5,\n        \"samples\": [\n          15636.96\n        ],\n        \"semantic_type\": \"\",\n        \"description\": \"\"\n      }\n    },\n    {\n      \"column\": \"conceder\",\n      \"properties\": {\n        \"dtype\": \"number\",\n        \"std\": 0,\n        \"min\": 1,\n        \"max\": 1,\n        \"num_unique_values\": 1,\n        \"samples\": [\n          1\n        ],\n        \"semantic_type\": \"\",\n        \"description\": \"\"\n      }\n    }\n  ]\n}"
            }
          },
          "metadata": {},
          "execution_count": 26
        }
      ]
    },
    {
      "cell_type": "code",
      "source": [
        "# Utilizaremos a idade média para correção sem considerar os dados errados\n",
        "data_consig['idade'][data_consig['idade'] <= 120].mean()"
      ],
      "metadata": {
        "colab": {
          "base_uri": "https://localhost:8080/"
        },
        "id": "Ys8rZyrD6mbo",
        "outputId": "4eb82360-e2ba-4670-de13-106d18d3cf3b"
      },
      "execution_count": 27,
      "outputs": [
        {
          "output_type": "execute_result",
          "data": {
            "text/plain": [
              "60.812412412412414"
            ]
          },
          "metadata": {},
          "execution_count": 27
        }
      ]
    },
    {
      "cell_type": "code",
      "source": [
        "# Realizando a correção\n",
        "data_consig.loc[data_consig['idade'] > 105, 'idade'] = 60.812412412412414\n",
        "\n",
        "# Verificando a atualização pelos índices\n",
        "data_consig.head(1941)"
      ],
      "metadata": {
        "id": "CNyE5Myg6xQE",
        "colab": {
          "base_uri": "https://localhost:8080/",
          "height": 424
        },
        "outputId": "2221a66a-c8a3-4ed6-c889-5643e6716690"
      },
      "execution_count": 28,
      "outputs": [
        {
          "output_type": "execute_result",
          "data": {
            "text/plain": [
              "           sexo      idade  uf   situacao_funcional tipo_contrato  pmt_valor  \\\n",
              "0     MASCULINO  40.000000  BA     ATIVO PERMANENTE       ESTAVEL    2011.71   \n",
              "1     MASCULINO  40.000000  BA     ATIVO PERMANENTE       ESTAVEL    3129.31   \n",
              "2     MASCULINO  38.000000  MS     ATIVO PERMANENTE       ESTAVEL     976.12   \n",
              "3     MASCULINO  38.000000  MS     ATIVO PERMANENTE       ESTAVEL    2960.64   \n",
              "4      FEMININO  89.000000  PR           APOSENTADO       ESTAVEL     422.80   \n",
              "...         ...        ...  ..                  ...           ...        ...   \n",
              "1936   FEMININO  36.000000  DF  BENEFICIARIO PENSAO   NAO ESTAVEL     136.00   \n",
              "1937   FEMININO  38.000000  CE  CELETISTA EMPREGADO       ESTAVEL    2439.24   \n",
              "1938   FEMININO  60.812412  PR           APOSENTADO       ESTAVEL    1927.09   \n",
              "1939   FEMININO  60.812412  PR           APOSENTADO       ESTAVEL    2000.10   \n",
              "1940   FEMININO  60.812412  PR           APOSENTADO       ESTAVEL    2308.70   \n",
              "\n",
              "      margem_saldo  conceder  \n",
              "0         -1309.80         1  \n",
              "1          1104.00         1  \n",
              "2           235.91         1  \n",
              "3          3684.51         1  \n",
              "4         12923.68         1  \n",
              "...            ...       ...  \n",
              "1936        805.82         0  \n",
              "1937        179.92         1  \n",
              "1938      13027.80         1  \n",
              "1939      15636.96         1  \n",
              "1940      33805.71         1  \n",
              "\n",
              "[1941 rows x 8 columns]"
            ],
            "text/html": [
              "\n",
              "  <div id=\"df-051079c8-48d8-4df1-bb1f-4003424553e3\" class=\"colab-df-container\">\n",
              "    <div>\n",
              "<style scoped>\n",
              "    .dataframe tbody tr th:only-of-type {\n",
              "        vertical-align: middle;\n",
              "    }\n",
              "\n",
              "    .dataframe tbody tr th {\n",
              "        vertical-align: top;\n",
              "    }\n",
              "\n",
              "    .dataframe thead th {\n",
              "        text-align: right;\n",
              "    }\n",
              "</style>\n",
              "<table border=\"1\" class=\"dataframe\">\n",
              "  <thead>\n",
              "    <tr style=\"text-align: right;\">\n",
              "      <th></th>\n",
              "      <th>sexo</th>\n",
              "      <th>idade</th>\n",
              "      <th>uf</th>\n",
              "      <th>situacao_funcional</th>\n",
              "      <th>tipo_contrato</th>\n",
              "      <th>pmt_valor</th>\n",
              "      <th>margem_saldo</th>\n",
              "      <th>conceder</th>\n",
              "    </tr>\n",
              "  </thead>\n",
              "  <tbody>\n",
              "    <tr>\n",
              "      <th>0</th>\n",
              "      <td>MASCULINO</td>\n",
              "      <td>40.000000</td>\n",
              "      <td>BA</td>\n",
              "      <td>ATIVO PERMANENTE</td>\n",
              "      <td>ESTAVEL</td>\n",
              "      <td>2011.71</td>\n",
              "      <td>-1309.80</td>\n",
              "      <td>1</td>\n",
              "    </tr>\n",
              "    <tr>\n",
              "      <th>1</th>\n",
              "      <td>MASCULINO</td>\n",
              "      <td>40.000000</td>\n",
              "      <td>BA</td>\n",
              "      <td>ATIVO PERMANENTE</td>\n",
              "      <td>ESTAVEL</td>\n",
              "      <td>3129.31</td>\n",
              "      <td>1104.00</td>\n",
              "      <td>1</td>\n",
              "    </tr>\n",
              "    <tr>\n",
              "      <th>2</th>\n",
              "      <td>MASCULINO</td>\n",
              "      <td>38.000000</td>\n",
              "      <td>MS</td>\n",
              "      <td>ATIVO PERMANENTE</td>\n",
              "      <td>ESTAVEL</td>\n",
              "      <td>976.12</td>\n",
              "      <td>235.91</td>\n",
              "      <td>1</td>\n",
              "    </tr>\n",
              "    <tr>\n",
              "      <th>3</th>\n",
              "      <td>MASCULINO</td>\n",
              "      <td>38.000000</td>\n",
              "      <td>MS</td>\n",
              "      <td>ATIVO PERMANENTE</td>\n",
              "      <td>ESTAVEL</td>\n",
              "      <td>2960.64</td>\n",
              "      <td>3684.51</td>\n",
              "      <td>1</td>\n",
              "    </tr>\n",
              "    <tr>\n",
              "      <th>4</th>\n",
              "      <td>FEMININO</td>\n",
              "      <td>89.000000</td>\n",
              "      <td>PR</td>\n",
              "      <td>APOSENTADO</td>\n",
              "      <td>ESTAVEL</td>\n",
              "      <td>422.80</td>\n",
              "      <td>12923.68</td>\n",
              "      <td>1</td>\n",
              "    </tr>\n",
              "    <tr>\n",
              "      <th>...</th>\n",
              "      <td>...</td>\n",
              "      <td>...</td>\n",
              "      <td>...</td>\n",
              "      <td>...</td>\n",
              "      <td>...</td>\n",
              "      <td>...</td>\n",
              "      <td>...</td>\n",
              "      <td>...</td>\n",
              "    </tr>\n",
              "    <tr>\n",
              "      <th>1936</th>\n",
              "      <td>FEMININO</td>\n",
              "      <td>36.000000</td>\n",
              "      <td>DF</td>\n",
              "      <td>BENEFICIARIO PENSAO</td>\n",
              "      <td>NAO ESTAVEL</td>\n",
              "      <td>136.00</td>\n",
              "      <td>805.82</td>\n",
              "      <td>0</td>\n",
              "    </tr>\n",
              "    <tr>\n",
              "      <th>1937</th>\n",
              "      <td>FEMININO</td>\n",
              "      <td>38.000000</td>\n",
              "      <td>CE</td>\n",
              "      <td>CELETISTA EMPREGADO</td>\n",
              "      <td>ESTAVEL</td>\n",
              "      <td>2439.24</td>\n",
              "      <td>179.92</td>\n",
              "      <td>1</td>\n",
              "    </tr>\n",
              "    <tr>\n",
              "      <th>1938</th>\n",
              "      <td>FEMININO</td>\n",
              "      <td>60.812412</td>\n",
              "      <td>PR</td>\n",
              "      <td>APOSENTADO</td>\n",
              "      <td>ESTAVEL</td>\n",
              "      <td>1927.09</td>\n",
              "      <td>13027.80</td>\n",
              "      <td>1</td>\n",
              "    </tr>\n",
              "    <tr>\n",
              "      <th>1939</th>\n",
              "      <td>FEMININO</td>\n",
              "      <td>60.812412</td>\n",
              "      <td>PR</td>\n",
              "      <td>APOSENTADO</td>\n",
              "      <td>ESTAVEL</td>\n",
              "      <td>2000.10</td>\n",
              "      <td>15636.96</td>\n",
              "      <td>1</td>\n",
              "    </tr>\n",
              "    <tr>\n",
              "      <th>1940</th>\n",
              "      <td>FEMININO</td>\n",
              "      <td>60.812412</td>\n",
              "      <td>PR</td>\n",
              "      <td>APOSENTADO</td>\n",
              "      <td>ESTAVEL</td>\n",
              "      <td>2308.70</td>\n",
              "      <td>33805.71</td>\n",
              "      <td>1</td>\n",
              "    </tr>\n",
              "  </tbody>\n",
              "</table>\n",
              "<p>1941 rows × 8 columns</p>\n",
              "</div>\n",
              "    <div class=\"colab-df-buttons\">\n",
              "\n",
              "  <div class=\"colab-df-container\">\n",
              "    <button class=\"colab-df-convert\" onclick=\"convertToInteractive('df-051079c8-48d8-4df1-bb1f-4003424553e3')\"\n",
              "            title=\"Convert this dataframe to an interactive table.\"\n",
              "            style=\"display:none;\">\n",
              "\n",
              "  <svg xmlns=\"http://www.w3.org/2000/svg\" height=\"24px\" viewBox=\"0 -960 960 960\">\n",
              "    <path d=\"M120-120v-720h720v720H120Zm60-500h600v-160H180v160Zm220 220h160v-160H400v160Zm0 220h160v-160H400v160ZM180-400h160v-160H180v160Zm440 0h160v-160H620v160ZM180-180h160v-160H180v160Zm440 0h160v-160H620v160Z\"/>\n",
              "  </svg>\n",
              "    </button>\n",
              "\n",
              "  <style>\n",
              "    .colab-df-container {\n",
              "      display:flex;\n",
              "      gap: 12px;\n",
              "    }\n",
              "\n",
              "    .colab-df-convert {\n",
              "      background-color: #E8F0FE;\n",
              "      border: none;\n",
              "      border-radius: 50%;\n",
              "      cursor: pointer;\n",
              "      display: none;\n",
              "      fill: #1967D2;\n",
              "      height: 32px;\n",
              "      padding: 0 0 0 0;\n",
              "      width: 32px;\n",
              "    }\n",
              "\n",
              "    .colab-df-convert:hover {\n",
              "      background-color: #E2EBFA;\n",
              "      box-shadow: 0px 1px 2px rgba(60, 64, 67, 0.3), 0px 1px 3px 1px rgba(60, 64, 67, 0.15);\n",
              "      fill: #174EA6;\n",
              "    }\n",
              "\n",
              "    .colab-df-buttons div {\n",
              "      margin-bottom: 4px;\n",
              "    }\n",
              "\n",
              "    [theme=dark] .colab-df-convert {\n",
              "      background-color: #3B4455;\n",
              "      fill: #D2E3FC;\n",
              "    }\n",
              "\n",
              "    [theme=dark] .colab-df-convert:hover {\n",
              "      background-color: #434B5C;\n",
              "      box-shadow: 0px 1px 3px 1px rgba(0, 0, 0, 0.15);\n",
              "      filter: drop-shadow(0px 1px 2px rgba(0, 0, 0, 0.3));\n",
              "      fill: #FFFFFF;\n",
              "    }\n",
              "  </style>\n",
              "\n",
              "    <script>\n",
              "      const buttonEl =\n",
              "        document.querySelector('#df-051079c8-48d8-4df1-bb1f-4003424553e3 button.colab-df-convert');\n",
              "      buttonEl.style.display =\n",
              "        google.colab.kernel.accessAllowed ? 'block' : 'none';\n",
              "\n",
              "      async function convertToInteractive(key) {\n",
              "        const element = document.querySelector('#df-051079c8-48d8-4df1-bb1f-4003424553e3');\n",
              "        const dataTable =\n",
              "          await google.colab.kernel.invokeFunction('convertToInteractive',\n",
              "                                                    [key], {});\n",
              "        if (!dataTable) return;\n",
              "\n",
              "        const docLinkHtml = 'Like what you see? Visit the ' +\n",
              "          '<a target=\"_blank\" href=https://colab.research.google.com/notebooks/data_table.ipynb>data table notebook</a>'\n",
              "          + ' to learn more about interactive tables.';\n",
              "        element.innerHTML = '';\n",
              "        dataTable['output_type'] = 'display_data';\n",
              "        await google.colab.output.renderOutput(dataTable, element);\n",
              "        const docLink = document.createElement('div');\n",
              "        docLink.innerHTML = docLinkHtml;\n",
              "        element.appendChild(docLink);\n",
              "      }\n",
              "    </script>\n",
              "  </div>\n",
              "\n",
              "\n",
              "<div id=\"df-525324ee-ea36-4e87-ba03-309040322939\">\n",
              "  <button class=\"colab-df-quickchart\" onclick=\"quickchart('df-525324ee-ea36-4e87-ba03-309040322939')\"\n",
              "            title=\"Suggest charts\"\n",
              "            style=\"display:none;\">\n",
              "\n",
              "<svg xmlns=\"http://www.w3.org/2000/svg\" height=\"24px\"viewBox=\"0 0 24 24\"\n",
              "     width=\"24px\">\n",
              "    <g>\n",
              "        <path d=\"M19 3H5c-1.1 0-2 .9-2 2v14c0 1.1.9 2 2 2h14c1.1 0 2-.9 2-2V5c0-1.1-.9-2-2-2zM9 17H7v-7h2v7zm4 0h-2V7h2v10zm4 0h-2v-4h2v4z\"/>\n",
              "    </g>\n",
              "</svg>\n",
              "  </button>\n",
              "\n",
              "<style>\n",
              "  .colab-df-quickchart {\n",
              "      --bg-color: #E8F0FE;\n",
              "      --fill-color: #1967D2;\n",
              "      --hover-bg-color: #E2EBFA;\n",
              "      --hover-fill-color: #174EA6;\n",
              "      --disabled-fill-color: #AAA;\n",
              "      --disabled-bg-color: #DDD;\n",
              "  }\n",
              "\n",
              "  [theme=dark] .colab-df-quickchart {\n",
              "      --bg-color: #3B4455;\n",
              "      --fill-color: #D2E3FC;\n",
              "      --hover-bg-color: #434B5C;\n",
              "      --hover-fill-color: #FFFFFF;\n",
              "      --disabled-bg-color: #3B4455;\n",
              "      --disabled-fill-color: #666;\n",
              "  }\n",
              "\n",
              "  .colab-df-quickchart {\n",
              "    background-color: var(--bg-color);\n",
              "    border: none;\n",
              "    border-radius: 50%;\n",
              "    cursor: pointer;\n",
              "    display: none;\n",
              "    fill: var(--fill-color);\n",
              "    height: 32px;\n",
              "    padding: 0;\n",
              "    width: 32px;\n",
              "  }\n",
              "\n",
              "  .colab-df-quickchart:hover {\n",
              "    background-color: var(--hover-bg-color);\n",
              "    box-shadow: 0 1px 2px rgba(60, 64, 67, 0.3), 0 1px 3px 1px rgba(60, 64, 67, 0.15);\n",
              "    fill: var(--button-hover-fill-color);\n",
              "  }\n",
              "\n",
              "  .colab-df-quickchart-complete:disabled,\n",
              "  .colab-df-quickchart-complete:disabled:hover {\n",
              "    background-color: var(--disabled-bg-color);\n",
              "    fill: var(--disabled-fill-color);\n",
              "    box-shadow: none;\n",
              "  }\n",
              "\n",
              "  .colab-df-spinner {\n",
              "    border: 2px solid var(--fill-color);\n",
              "    border-color: transparent;\n",
              "    border-bottom-color: var(--fill-color);\n",
              "    animation:\n",
              "      spin 1s steps(1) infinite;\n",
              "  }\n",
              "\n",
              "  @keyframes spin {\n",
              "    0% {\n",
              "      border-color: transparent;\n",
              "      border-bottom-color: var(--fill-color);\n",
              "      border-left-color: var(--fill-color);\n",
              "    }\n",
              "    20% {\n",
              "      border-color: transparent;\n",
              "      border-left-color: var(--fill-color);\n",
              "      border-top-color: var(--fill-color);\n",
              "    }\n",
              "    30% {\n",
              "      border-color: transparent;\n",
              "      border-left-color: var(--fill-color);\n",
              "      border-top-color: var(--fill-color);\n",
              "      border-right-color: var(--fill-color);\n",
              "    }\n",
              "    40% {\n",
              "      border-color: transparent;\n",
              "      border-right-color: var(--fill-color);\n",
              "      border-top-color: var(--fill-color);\n",
              "    }\n",
              "    60% {\n",
              "      border-color: transparent;\n",
              "      border-right-color: var(--fill-color);\n",
              "    }\n",
              "    80% {\n",
              "      border-color: transparent;\n",
              "      border-right-color: var(--fill-color);\n",
              "      border-bottom-color: var(--fill-color);\n",
              "    }\n",
              "    90% {\n",
              "      border-color: transparent;\n",
              "      border-bottom-color: var(--fill-color);\n",
              "    }\n",
              "  }\n",
              "</style>\n",
              "\n",
              "  <script>\n",
              "    async function quickchart(key) {\n",
              "      const quickchartButtonEl =\n",
              "        document.querySelector('#' + key + ' button');\n",
              "      quickchartButtonEl.disabled = true;  // To prevent multiple clicks.\n",
              "      quickchartButtonEl.classList.add('colab-df-spinner');\n",
              "      try {\n",
              "        const charts = await google.colab.kernel.invokeFunction(\n",
              "            'suggestCharts', [key], {});\n",
              "      } catch (error) {\n",
              "        console.error('Error during call to suggestCharts:', error);\n",
              "      }\n",
              "      quickchartButtonEl.classList.remove('colab-df-spinner');\n",
              "      quickchartButtonEl.classList.add('colab-df-quickchart-complete');\n",
              "    }\n",
              "    (() => {\n",
              "      let quickchartButtonEl =\n",
              "        document.querySelector('#df-525324ee-ea36-4e87-ba03-309040322939 button');\n",
              "      quickchartButtonEl.style.display =\n",
              "        google.colab.kernel.accessAllowed ? 'block' : 'none';\n",
              "    })();\n",
              "  </script>\n",
              "</div>\n",
              "\n",
              "    </div>\n",
              "  </div>\n"
            ],
            "application/vnd.google.colaboratory.intrinsic+json": {
              "type": "dataframe",
              "variable_name": "data_consig",
              "summary": "{\n  \"name\": \"data_consig\",\n  \"rows\": 5000,\n  \"fields\": [\n    {\n      \"column\": \"sexo\",\n      \"properties\": {\n        \"dtype\": \"category\",\n        \"num_unique_values\": 2,\n        \"samples\": [\n          \"FEMININO\",\n          \"MASCULINO\"\n        ],\n        \"semantic_type\": \"\",\n        \"description\": \"\"\n      }\n    },\n    {\n      \"column\": \"idade\",\n      \"properties\": {\n        \"dtype\": \"number\",\n        \"std\": 21.277499676526446,\n        \"min\": 16.0,\n        \"max\": 105.0,\n        \"num_unique_values\": 85,\n        \"samples\": [\n          25.0,\n          40.0\n        ],\n        \"semantic_type\": \"\",\n        \"description\": \"\"\n      }\n    },\n    {\n      \"column\": \"uf\",\n      \"properties\": {\n        \"dtype\": \"category\",\n        \"num_unique_values\": 28,\n        \"samples\": [\n          \"PE\",\n          \"SE\"\n        ],\n        \"semantic_type\": \"\",\n        \"description\": \"\"\n      }\n    },\n    {\n      \"column\": \"situacao_funcional\",\n      \"properties\": {\n        \"dtype\": \"category\",\n        \"num_unique_values\": 18,\n        \"samples\": [\n          \"ATIVO PERMANENTE\",\n          \"APOSENTADO\"\n        ],\n        \"semantic_type\": \"\",\n        \"description\": \"\"\n      }\n    },\n    {\n      \"column\": \"tipo_contrato\",\n      \"properties\": {\n        \"dtype\": \"category\",\n        \"num_unique_values\": 2,\n        \"samples\": [\n          \"NAO ESTAVEL\",\n          \"ESTAVEL\"\n        ],\n        \"semantic_type\": \"\",\n        \"description\": \"\"\n      }\n    },\n    {\n      \"column\": \"pmt_valor\",\n      \"properties\": {\n        \"dtype\": \"number\",\n        \"std\": 2783.7353052970625,\n        \"min\": 6.55,\n        \"max\": 27418.01,\n        \"num_unique_values\": 4337,\n        \"samples\": [\n          1521.93,\n          369.41\n        ],\n        \"semantic_type\": \"\",\n        \"description\": \"\"\n      }\n    },\n    {\n      \"column\": \"margem_saldo\",\n      \"properties\": {\n        \"dtype\": \"number\",\n        \"std\": 7537.710984956416,\n        \"min\": -45820.72,\n        \"max\": 93084.39,\n        \"num_unique_values\": 4837,\n        \"samples\": [\n          -2825.28,\n          1923.36\n        ],\n        \"semantic_type\": \"\",\n        \"description\": \"\"\n      }\n    },\n    {\n      \"column\": \"conceder\",\n      \"properties\": {\n        \"dtype\": \"number\",\n        \"std\": 0,\n        \"min\": 0,\n        \"max\": 1,\n        \"num_unique_values\": 2,\n        \"samples\": [\n          0,\n          1\n        ],\n        \"semantic_type\": \"\",\n        \"description\": \"\"\n      }\n    }\n  ]\n}"
            }
          },
          "metadata": {},
          "execution_count": 28
        }
      ]
    },
    {
      "cell_type": "code",
      "source": [
        "# Plotando a distribuição da idade em relação a base após a correção\n",
        "plt.hist(x=data_consig['idade']);"
      ],
      "metadata": {
        "colab": {
          "base_uri": "https://localhost:8080/",
          "height": 430
        },
        "id": "XSG3I4Xj7eqo",
        "outputId": "af778370-2859-47f8-fa6c-febdec360c86"
      },
      "execution_count": 29,
      "outputs": [
        {
          "output_type": "display_data",
          "data": {
            "text/plain": [
              "<Figure size 640x480 with 1 Axes>"
            ],
            "image/png": "[encoded data removed]"
          },
          "metadata": {}
        }
      ]
    },
    {
      "cell_type": "code",
      "source": [
        "# Gráfico para exibição da concessão do crédito pelo dataset, após a correção da idade\n",
        "graph = px.scatter_matrix(data_consig, dimensions=['idade','uf','pmt_valor','margem_saldo'], color='conceder')\n",
        "graph.show()"
      ],
      "metadata": {
        "colab": {
          "base_uri": "https://localhost:8080/",
          "height": 542
        },
        "id": "ESivnYM07i1K",
        "outputId": "2be23456-a7b8-4e4f-8372-cf5a06cbe607"
      },
      "execution_count": 30,
      "outputs": [
        {
          "output_type": "display_data",
          "data": {
            "text/html": [
              "<html>\n",
              "<head><meta charset=\"utf-8\" /></head>\n",
              "<body>\n",
              "    <div>            <script src=\"https://cdnjs.cloudflare.com/ajax/libs/mathjax/2.7.5/MathJax.js?config=TeX-AMS-MML_SVG\"></script><script type=\"text/javascript\">if (window.MathJax && window.MathJax.Hub && window.MathJax.Hub.Config) {window.MathJax.Hub.Config({SVG: {font: \"STIX-Web\"}});}</script>                <script type=\"text/javascript\">window.PlotlyConfig = {MathJaxConfig: 'local'};</script>\n",
              "        <script charset=\"utf-8\" src=\"https://cdn.plot.ly/plotly-2.24.1.min.js\"></script>                <div id=\"33e53973-b58c-459e-9653-c6698a6db771\" class=\"plotly-graph-div\" style=\"height:525px; width:100%;\"></div>            <script type=\"text/javascript\">                                    window.PLOTLYENV=window.PLOTLYENV || {};                                    if (document.getElementById(\"33e53973-b58c-459e-9653-c6698a6db771\")) {                    Plotly.newPlot(                        \"33e53973-b58c-459e-9653-c6698a6db771\",                        [{\"dimensions\":[{\"axis\":{\"matches\":true},\"label\":\"idade\",\"values\":[40.0,40.0,38.0,38.0,89.0,80.0,80.0,46.0,32.0,32.0,59.0,59.0,87.0,87.0,38.0,54.0,86.0,57.0,92.0,92.0,94.0,94.0,31.0,31.0,89.0,55.0,80.0,37.0,37.0,32.0,32.0,52.0,52.0,80.0,80.0,92.0,92.0,53.0,36.0,36.0,40.0,75.0,55.0,57.0,52.0,52.0,56.0,56.0,58.0,57.0,87.0,37.0,55.0,40.0,40.0,82.0,82.0,35.0,78.0,78.0,45.0,45.0,50.0,50.0,82.0,37.0,36.0,37.0,33.0,76.0,76.0,82.0,82.0,37.0,61.0,72.0,84.0,45.0,89.0,89.0,73.0,71.0,85.0,84.0,38.0,38.0,38.0,41.0,59.0,64.0,81.0,53.0,38.0,38.0,81.0,55.0,95.0,40.0,77.0,84.0,80.0,40.0,40.0,78.0,78.0,55.0,46.0,62.0,36.0,86.0,91.0,42.0,55.0,39.0,41.0,41.0,38.0,38.0,90.0,90.0,87.0,87.0,38.0,84.0,84.0,32.0,36.0,92.0,92.0,38.0,86.0,36.0,38.0,38.0,52.0,37.0,37.0,58.0,36.0,36.0,88.0,77.0,66.0,39.0,39.0,41.0,81.0,81.0,38.0,36.0,36.0,79.0,88.0,88.0,56.0,45.0,45.0,77.0,77.0,35.0,35.0,48.0,48.0,38.0,58.0,89.0,39.0,39.0,45.0,36.0,36.0,36.0,83.0,80.0,78.0,87.0,40.0,55.0,27.0,82.0,82.0,82.0,82.0,82.0,36.0,36.0,45.0,59.0,53.0,60.0,78.0,86.0,86.0,86.0,86.0,46.0,59.0,54.0,83.0,83.0,43.0,71.0,55.0,87.0,85.0,85.0,37.0,38.0,38.0,84.0,39.0,36.0,36.0,68.0,68.0,46.0,46.0,68.0,40.0,76.0,37.0,40.0,95.0,43.0,51.0,51.0,85.0,63.0,63.0,58.0,56.0,57.0,57.0,38.0,38.0,73.0,38.0,38.0,39.0,42.0,53.0,41.0,41.0,45.0,45.0,68.0,68.0,85.0,85.0,95.0,37.0,67.0,87.0,87.0,57.0,42.0,38.0,45.0,44.0,36.0,38.0,81.0,88.0,38.0,38.0,80.0,80.0,56.0,67.0,67.0,31.0,31.0,90.0,90.0,50.0,66.0,37.0,78.0,78.0,44.0,44.0,53.0,83.0,83.0,37.0,82.0,37.0,37.0,41.0,29.0,29.0,39.0,39.0,41.0,88.0,53.0,53.0,55.0,51.0,89.0,89.0,56.0,92.0,92.0,69.0,82.0,77.0,77.0,38.0,38.0,84.0,84.0,84.0,56.0,56.0,52.0,52.0,36.0,90.0,77.0,53.0,52.0,81.0,35.0,52.0,82.0,45.0,46.0,46.0,38.0,59.0,59.0,37.0,34.0,72.0,86.0,37.0,85.0,85.0,37.0,51.0,41.0,65.0,72.0,38.0,83.0,45.0,38.0,37.0,81.0,44.0,79.0,48.0,44.0,37.0,46.0,36.0,36.0,95.0,36.0,36.0,93.0,93.0,93.0,93.0,37.0,37.0,88.0,88.0,93.0,93.0,56.0,92.0,88.0,88.0,45.0,77.0,82.0,38.0,52.0,56.0,56.0,56.0,62.0,38.0,73.0,73.0,44.0,44.0,93.0,63.0,84.0,96.0,96.0,86.0,86.0,50.0,50.0,40.0,66.0,38.0,51.0,51.0,86.0,86.0,49.0,49.0,37.0,37.0,65.0,83.0,46.0,79.0,89.0,38.0,48.0,90.0,78.0,83.0,83.0,83.0,86.0,77.0,81.0,53.0,53.0,54.0,54.0,54.0,84.0,39.0,82.0,80.0,39.0,41.0,38.0,38.0,39.0,51.0,51.0,85.0,80.0,80.0,86.0,51.0,50.0,43.0,31.0,31.0,96.0,96.0,43.0,54.0,54.0,77.0,32.0,42.0,51.0,51.0,43.0,43.0,38.0,48.0,48.0,75.0,88.0,90.0,90.0,90.0,90.0,87.0,105.0,75.0,56.0,37.0,55.0,60.0,60.0,56.0,82.0,82.0,82.0,38.0,42.0,52.0,57.0,43.0,43.0,37.0,37.0,85.0,85.0,49.0,38.0,38.0,38.0,39.0,71.0,56.0,36.0,40.0,39.0,38.0,38.0,40.0,57.0,57.0,37.0,31.0,39.0,39.0,44.0,88.0,90.0,90.0,90.0,19.0,37.0,37.0,52.0,62.0,66.0,81.0,94.0,37.0,36.0,81.0,47.0,47.0,38.0,36.0,36.0,90.0,90.0,37.0,67.0,67.0,38.0,66.0,36.0,53.0,78.0,78.0,41.0,41.0,86.0,36.0,36.0,62.0,66.0,94.0,89.0,88.0,54.0,39.0,84.0,77.0,31.0,38.0,38.0,37.0,61.0,44.0,44.0,37.0,39.0,39.0,55.0,38.0,88.0,40.0,40.0,44.0,40.0,38.0,90.0,90.0,90.0,80.0,37.0,46.0,85.0,99.0,63.0,89.0,39.0,91.0,91.0,36.0,72.0,82.0,82.0,80.0,72.0,37.0,95.0,38.0,93.0,93.0,45.0,79.0,86.0,86.0,37.0,45.0,38.0,63.0,63.0,63.0,63.0,64.0,88.0,87.0,87.0,85.0,85.0,83.0,83.0,45.0,45.0,77.0,68.0,68.0,57.0,57.0,39.0,39.0,90.0,90.0,31.0,31.0,95.0,95.0,37.0,83.0,83.0,83.0,43.0,85.0,85.0,38.0,38.0,54.0,80.0,38.0,58.0,40.0,38.0,38.0,36.0,39.0,39.0,38.0,83.0,82.0,70.0,83.0,34.0,83.0,89.0,89.0,38.0,38.0,54.0,81.0,45.0,36.0,38.0,82.0,82.0,82.0,82.0,81.0,45.0,45.0,39.0,39.0,39.0,52.0,36.0,36.0,45.0,45.0,37.0,44.0,37.0,37.0,82.0,37.0,88.0,88.0,88.0,38.0,38.0,39.0,78.0,80.0,80.0,89.0,31.0,31.0,66.0,81.0,81.0,38.0,65.0,54.0,36.0,86.0,41.0,41.0,39.0,37.0,36.0,49.0,38.0,43.0,44.0,54.0,40.0,68.0,91.0,46.0,53.0,53.0,87.0,70.0,70.0,70.0,70.0,70.0,70.0,65.0,65.0,91.0,91.0,91.0,77.0,86.0,86.0,85.0,51.0,88.0,88.0,95.0,32.0,78.0,51.0,82.0,82.0,47.0,47.0,80.0,37.0,38.0,44.0,44.0,89.0,89.0,89.0,48.0,48.0,36.0,85.0,85.0,84.0,36.0,36.0,52.0,57.0,81.0,56.0,74.0,74.0,62.0,87.0,87.0,69.0,38.0,38.0,51.0,40.0,40.0,83.0,42.0,38.0,77.0,77.0,38.0,38.0,36.0,36.0,36.0,36.0,89.0,82.0,72.0,39.0,39.0,88.0,88.0,45.0,45.0,37.0,37.0,88.0,88.0,48.0,48.0,88.0,88.0,88.0,88.0,88.0,38.0,36.0,36.0,80.0,35.0,35.0,35.0,38.0,36.0,89.0,51.0,45.0,36.0,40.0,40.0,86.0,37.0,85.0,38.0,38.0,80.0,69.0,69.0,81.0,81.0,76.0,41.0,39.0,36.0,36.0,38.0,83.0,83.0,91.0,38.0,38.0,38.0,38.0,36.0,36.0,52.0,36.0,88.0,40.0,32.0,32.0,37.0,38.0,38.0,32.0,79.0,85.0,38.0,38.0,88.0,88.0,38.0,81.0,84.0,71.0,71.0,76.0,37.0,32.0,39.0,77.0,46.0,38.0,38.0,86.0,31.0,47.0,37.0,48.0,37.0,80.0,46.0,44.0,86.0,46.0,86.0,44.0,44.0,90.0,83.0,83.0,36.0,53.0,53.0,86.0,38.0,72.0,43.0,43.0,85.0,85.0,36.0,36.0,31.0,36.0,45.0,45.0,95.0,85.0,85.0,78.0,79.0,79.0,45.0,52.0,38.0,42.0,32.0,70.0,70.0,84.0,84.0,37.0,37.0,29.0,38.0,39.0,39.0,38.0,37.0,83.0,83.0,70.0,70.0,36.0,42.0,93.0,48.0,42.0,42.0,37.0,37.0,50.0,39.0,39.0,37.0,83.0,83.0,36.0,77.0,89.0,89.0,38.0,41.0,31.0,31.0,90.0,52.0,93.0,74.0,86.0,45.0,77.0,77.0,54.0,54.0,37.0,37.0,76.0,33.0,33.0,95.0,83.0,52.0,52.0,78.0,51.0,31.0,95.0,83.0,83.0,79.0,40.0,78.0,76.0,76.0,43.0,43.0,40.0,96.0,96.0,96.0,37.0,86.0,86.0,86.0,94.0,32.0,84.0,84.0,31.0,88.0,88.0,38.0,60.0,60.0,33.0,33.0,36.0,36.0,53.0,53.0,45.0,54.0,54.0,41.0,39.0,64.0,39.0,39.0,45.0,43.0,43.0,46.0,80.0,80.0,80.0,80.0,80.0,80.0,86.0,86.0,86.0,45.0,87.0,87.0,84.0,84.0,47.0,47.0,38.0,38.0,38.0,38.0,46.0,46.0,89.0,42.0,42.0,37.0,46.0,52.0,73.0,49.0,49.0,31.0,65.0,38.0,55.0,46.0,85.0,85.0,37.0,37.0,80.0,59.0,47.0,91.0,94.0,94.0,75.0,75.0,75.0,37.0,45.0,36.0,31.0,55.0,46.0,82.0,80.0,80.0,81.0,82.0,37.0,45.0,41.0,93.0,43.0,43.0,39.0,37.0,91.0,91.0,43.0,32.0,84.0,84.0,39.0,55.0,39.0,52.0,39.0,90.0,90.0,41.0,86.0,86.0,52.0,90.0,70.0,70.0,75.0,39.0,36.0,77.0,37.0,39.0,35.0,81.0,38.0,75.0,56.0,89.0,89.0,89.0,89.0,89.0,89.0,81.0,53.0,77.0,77.0,46.0,84.0,84.0,88.0,70.0,78.0,72.0,79.0,79.0,83.0,37.0,85.0,48.0,48.0,54.0,67.0,39.0,39.0,33.0,55.0,99.0,61.0,41.0,42.0,38.0,53.0,96.0,96.0,53.0,52.0,51.0,78.0,38.0,38.0,78.0,36.0,86.0,86.0,86.0,38.0,46.0,88.0,49.0,32.0,84.0,84.0,84.0,84.0,36.0,57.0,79.0,54.0,53.0,80.0,47.0,32.0,32.0,82.0,82.0,82.0,82.0,65.0,86.0,57.0,64.0,89.0,89.0,89.0,32.0,32.0,38.0,94.0,94.0,36.0,36.0,38.0,74.0,51.0,53.0,29.0,36.0,83.0,32.0,66.0,39.0,39.0,77.0,37.0,37.0,86.0,86.0,79.0,85.0,85.0,85.0,38.0,37.0,85.0,85.0,63.0,53.0,82.0,37.0,85.0,85.0,85.0,87.0,91.0,95.0,54.0,54.0,43.0,36.0,36.0,94.0,63.0,63.0,88.0,80.0,83.0,83.0,83.0,83.0,53.0,86.0,86.0,55.0,72.0,39.0,93.0,93.0,39.0,37.0,37.0,38.0,72.0,72.0,57.0,54.0,37.0,37.0,61.0,87.0,55.0,55.0,39.0,39.0,69.0,87.0,87.0,54.0,54.0,38.0,38.0,52.0,52.0,52.0,53.0,87.0,37.0,37.0,78.0,45.0,37.0,37.0,31.0,83.0,52.0,37.0,82.0,89.0,89.0,41.0,41.0,40.0,39.0,40.0,82.0,80.0,80.0,85.0,85.0,87.0,90.0,90.0,89.0,89.0,34.0,91.0,37.0,41.0,37.0,90.0,90.0,31.0,31.0,38.0,38.0,37.0,37.0,36.0,36.0,65.0,41.0,83.0,52.0,80.0,80.0,87.0,52.0,52.0,52.0,52.0,37.0,93.0,88.0,37.0,84.0,38.0,38.0,52.0,102.0,102.0,54.0,54.0,92.0,53.0,39.0,30.0,30.0,38.0,33.0,88.0,37.0,34.0,34.0,45.0,52.0,75.0,39.0,81.0,85.0,85.0,53.0,52.0,52.0,39.0,32.0,38.0,38.0,38.0,90.0,90.0,86.0,86.0,53.0,53.0,47.0,47.0,54.0,40.0,36.0,76.0,38.0,85.0,46.0,53.0,53.0,81.0,37.0,44.0,45.0,52.0,52.0,87.0,87.0,38.0,66.0,80.0,67.0,85.0,94.0,38.0,82.0,71.0,71.0,86.0,51.0,51.0,38.0,38.0,53.0,53.0,32.0,32.0,39.0,38.0,69.0,37.0,37.0,84.0,84.0,84.0,38.0,38.0,39.0,39.0,37.0,37.0,38.0,96.0,37.0,37.0,38.0,86.0,86.0,88.0,78.0,40.0,42.0,37.0,37.0,37.0,37.0,54.0,37.0,37.0,37.0,39.0,91.0,42.0,39.0,39.0,31.0,39.0,92.0,92.0,38.0,38.0,53.0,90.0,90.0,52.0,39.0,39.0,90.0,46.0,52.0,38.0,38.0,88.0,75.0,75.0,75.0,75.0,92.0,92.0,39.0,39.0,36.0,72.0,37.0,52.0,54.0,47.0,28.0,67.0,67.0,38.0,53.0,87.0,81.0,81.0,82.0,82.0,42.0,42.0,86.0,38.0,85.0,85.0,82.0,36.0,36.0,31.0,46.0,51.0,51.0,38.0,81.0,63.0,63.0,83.0,83.0,32.0,81.0,53.0,82.0,92.0,85.0,39.0,39.0,83.0,31.0,40.0,82.0,82.0,52.0,39.0,38.0,67.0,81.0,81.0,81.0,81.0,85.0,38.0,38.0,38.0,38.0,51.0,79.0,57.0,56.0,83.0,82.0,82.0,82.0,84.0,84.0,40.0,61.0,50.0,39.0,39.0,82.0,82.0,82.0,82.0,96.0,32.0,32.0,40.0,40.0,64.0,45.0,45.0,38.0,79.0,86.0,86.0,38.0,38.0,50.0,50.0,72.0,54.0,52.0,53.0,76.0,86.0,94.0,38.0,39.0,39.0,88.0,88.0,88.0,32.0,32.0,65.0,65.0,50.0,50.0,73.0,80.0,80.0,41.0,43.0,41.0,83.0,57.0,57.0,70.0,83.0,66.0,66.0,91.0,69.0,69.0,67.0,67.0,56.0,89.0,88.0,88.0,95.0,36.0,36.0,81.0,33.0,38.0,38.0,36.0,38.0,32.0,38.0,46.0,46.0,96.0,96.0,31.0,31.0,44.0,59.0,51.0,79.0,79.0,40.0,40.0,42.0,42.0,43.0,89.0,89.0,77.0,77.0,39.0,46.0,32.0,32.0,29.0,47.0,47.0,45.0,83.0,44.0,56.0,56.0,90.0,90.0,82.0,40.0,40.0,41.0,41.0,78.0,83.0,40.0,76.0,54.0,37.0,79.0,81.0,54.0,38.0,53.0,38.0,38.0,52.0,92.0,92.0,52.0,36.0,83.0,39.0,68.0,33.0,33.0,37.0,37.0,84.0,84.0,90.0,90.0,37.0,36.0,36.0,32.0,32.0,39.0,39.0,81.0,94.0,83.0,83.0,52.0,52.0,81.0,28.0,83.0,46.0,91.0,91.0,41.0,36.0,77.0,41.0,90.0,90.0,37.0,37.0,39.0,53.0,37.0,37.0,89.0,89.0,83.0,83.0,87.0,49.0,79.0,85.0,85.0,92.0,92.0,53.0,83.0,75.0,75.0,38.0,47.0,96.0,96.0,96.0,80.0,78.0,37.0,38.0,38.0,79.0,79.0,37.0,37.0,16.0,67.0,78.0,36.0,36.0,90.0,90.0,40.0,72.0,48.0,48.0,41.0,41.0,39.0,37.0,41.0,41.0,82.0,82.0,40.0,52.0,85.0,92.0,92.0,88.0,68.0,83.0,37.0,53.0,45.0,33.0,33.0,92.0,92.0,37.0,37.0,86.0,49.0,84.0,89.0,51.0,51.0,39.0,38.0,85.0,43.0,40.0,37.0,37.0,37.0,37.0,52.0,84.0,87.0,91.0,37.0,36.0,42.0,52.0,52.0,56.0,81.0,31.0,39.0,39.0,54.0,86.0,86.0,86.0,96.0,96.0,96.0,81.0,81.0,82.0,39.0,52.0,31.0,53.0,50.0,41.0,78.0,95.0,89.0,89.0,37.0,37.0,48.0,84.0,84.0,84.0,39.0,93.0,69.0,54.0,37.0,38.0,38.0,37.0,38.0,32.0,32.0,96.0,54.0,54.0,66.0,63.0,76.0,76.0,36.0,45.0,36.0,36.0,82.0,87.0,87.0,82.0,40.0,39.0,85.0,39.0,39.0,50.0,44.0,39.0,31.0,32.0,32.0,40.0,48.0,45.0,45.0,45.0,38.0,66.0,74.0,37.0,38.0,53.0,53.0,37.0,39.0,37.0,79.0,79.0,38.0,38.0,36.0,36.0,58.0,38.0,38.0,38.0,85.0,85.0,38.0,38.0,79.0,38.0,36.0,38.0,60.812412412412414,60.812412412412414,60.812412412412414,32.0,32.0,88.0,88.0,64.0,30.0,80.0,80.0,53.0,43.0,43.0,101.0,101.0,37.0,36.0,36.0,83.0,83.0,83.0,54.0,54.0,77.0,64.0,84.0,84.0,41.0,41.0,31.0,62.0,48.0,37.0,80.0,88.0,36.0,37.0,91.0,91.0,44.0,78.0,78.0,78.0,78.0,56.0,56.0,85.0,85.0,38.0,87.0,44.0,41.0,41.0,55.0,32.0,32.0,86.0,86.0,81.0,81.0,87.0,77.0,82.0,78.0,32.0,38.0,84.0,38.0,78.0,35.0,35.0,37.0,37.0,54.0,46.0,46.0,38.0,55.0,55.0,77.0,77.0,54.0,54.0,77.0,77.0,52.0,52.0,57.0,38.0,41.0,38.0,38.0,52.0,83.0,53.0,53.0,78.0,61.0,94.0,92.0,95.0,95.0,87.0,52.0,32.0,32.0,94.0,94.0,33.0,95.0,95.0,95.0,84.0,89.0,89.0,89.0,89.0,89.0,89.0,37.0,37.0,43.0,83.0,29.0,85.0,85.0,38.0,90.0,90.0,87.0,88.0,39.0,39.0,38.0,79.0,82.0,88.0,38.0,38.0,52.0,37.0,89.0,88.0,88.0,72.0,39.0,39.0,92.0,54.0,76.0,80.0,87.0,59.0,87.0,87.0,82.0,76.0,76.0,56.0,52.0,52.0,51.0,37.0,37.0,83.0,39.0,38.0,76.0,58.0,38.0,40.0,38.0,38.0,89.0,89.0,85.0,39.0,37.0,37.0,67.0,86.0,63.0,77.0,57.0,37.0,37.0,40.0,40.0,39.0,39.0,39.0,84.0,84.0,84.0,84.0,84.0,84.0,84.0,84.0,80.0,80.0,37.0,38.0,91.0,87.0,89.0,89.0,42.0,42.0,58.0,31.0,81.0,40.0,46.0,46.0,61.0,39.0,39.0,77.0,78.0,84.0,36.0,53.0,59.0,93.0,84.0,84.0,39.0,39.0,39.0,57.0,40.0,56.0,84.0,84.0,44.0,85.0,37.0,37.0,38.0,37.0,38.0,81.0,81.0,80.0,80.0,53.0,39.0,79.0,37.0,90.0,38.0,41.0,48.0,87.0,53.0,89.0,37.0,31.0,85.0,85.0,85.0,53.0,38.0,87.0,87.0,54.0,38.0,45.0,45.0,85.0,30.0,81.0,75.0,90.0,81.0,46.0,37.0,37.0,88.0,88.0,43.0,44.0,81.0,88.0,65.0,36.0,97.0,38.0,80.0,83.0,83.0,76.0,76.0,58.0,63.0,83.0,37.0,37.0,85.0,85.0,72.0,52.0,52.0,52.0,52.0,52.0,57.0,37.0,44.0,44.0,86.0,86.0,86.0,44.0,83.0,40.0,38.0,38.0,52.0,38.0,37.0,37.0,54.0,40.0,40.0,36.0,36.0,38.0,38.0,38.0,36.0,36.0,36.0,45.0,37.0,83.0,83.0,81.0,37.0,37.0,37.0,37.0,81.0,81.0,40.0,40.0,31.0,53.0,82.0,42.0,60.0,37.0,37.0,48.0,48.0,36.0,38.0,39.0,52.0,78.0,78.0,76.0,84.0,84.0,83.0,83.0,83.0,42.0,25.0,25.0,31.0,39.0,39.0,37.0,67.0,53.0,85.0,85.0,88.0,38.0,38.0,38.0,53.0,53.0,82.0,82.0,37.0,45.0,80.0,87.0,87.0,37.0,60.0,60.0,38.0,38.0,84.0,84.0,26.0,37.0,36.0,36.0,79.0,79.0,30.0,30.0,90.0,90.0,47.0,32.0,44.0,44.0,44.0,37.0,91.0,91.0,94.0,94.0,94.0,94.0,39.0,39.0,38.0,86.0,82.0,54.0,54.0,56.0,103.0,79.0,79.0,49.0,49.0,38.0,87.0,87.0,89.0,66.0,54.0,31.0,82.0,82.0,87.0,87.0,81.0,81.0,32.0,32.0,78.0,78.0,75.0,58.0,42.0,93.0,38.0,38.0,39.0,64.0,82.0,78.0,53.0,51.0,52.0,52.0,39.0,81.0,54.0,47.0,39.0,39.0,92.0,81.0,30.0,88.0,40.0,31.0,88.0,38.0,38.0,37.0,37.0,37.0,38.0,41.0,39.0,39.0,62.0,69.0,61.0,37.0,37.0,71.0,85.0,79.0,86.0,51.0,41.0,75.0,61.0,32.0,83.0,31.0,91.0,82.0,85.0,85.0,84.0,47.0,47.0,80.0,80.0,40.0,40.0,43.0,43.0,87.0,54.0,70.0,97.0,97.0,79.0,55.0,37.0,37.0,79.0,79.0,44.0,43.0,37.0,53.0,47.0,65.0,52.0,52.0,58.0,58.0,88.0,38.0,44.0,38.0,46.0,89.0,89.0,83.0,83.0,36.0,37.0,47.0,53.0,80.0,36.0,54.0,84.0,82.0,88.0,91.0,91.0,93.0,59.0,91.0,53.0,70.0,53.0,39.0,39.0,32.0,32.0,95.0,95.0,51.0,55.0,53.0,93.0,93.0,37.0,37.0,52.0,52.0,71.0,38.0,38.0,81.0,87.0,87.0,87.0,47.0,38.0,38.0,52.0,52.0,87.0,87.0,87.0,36.0,51.0,78.0,43.0,43.0,73.0,51.0,85.0,85.0,52.0,85.0,91.0,91.0,75.0,89.0,95.0,95.0,91.0,91.0,31.0,55.0,55.0,72.0,41.0,91.0,91.0,37.0,89.0,89.0,89.0,33.0,36.0,91.0,54.0,90.0,90.0,90.0,90.0,32.0,32.0,39.0,39.0,48.0,39.0,43.0,43.0,51.0,32.0,56.0,56.0,38.0,74.0,87.0,87.0,92.0,87.0,87.0,81.0,53.0,37.0,37.0,27.0,27.0,27.0,79.0,79.0,79.0,82.0,41.0,41.0,46.0,46.0,39.0,84.0,85.0,85.0,37.0,37.0,90.0,52.0,47.0,53.0,53.0,84.0,84.0,73.0,73.0,53.0,60.0,60.0,36.0,36.0,84.0,32.0,32.0,83.0,39.0,38.0,38.0,67.0,66.0,79.0,79.0,71.0,65.0,85.0,85.0,41.0,39.0,39.0,37.0,36.0,36.0,36.0,94.0,84.0,84.0,30.0,38.0,83.0,38.0,30.0,65.0,37.0,76.0,76.0,53.0,74.0,59.0,88.0,88.0,51.0,51.0,51.0,51.0,34.0,84.0,30.0,30.0,38.0,68.0,55.0,55.0,77.0,97.0,52.0,80.0,41.0,75.0,39.0,39.0,83.0,37.0,53.0,53.0,69.0,88.0,88.0,88.0,88.0,87.0,87.0,74.0,74.0,82.0,87.0,87.0,83.0,62.0,72.0,38.0,98.0,98.0,53.0,56.0,56.0,80.0,91.0,91.0,41.0,41.0,80.0,80.0,93.0,84.0,42.0,42.0,81.0,81.0,82.0,70.0,58.0,37.0,56.0,39.0,54.0,54.0,52.0,81.0,81.0,81.0,72.0,72.0,83.0,83.0,91.0,53.0,37.0,37.0,37.0,84.0,39.0,39.0,86.0,86.0,38.0,50.0,37.0,32.0,32.0,90.0,90.0,53.0,53.0,61.0,86.0,38.0,51.0,51.0,92.0,92.0,87.0,38.0,51.0,76.0,53.0,84.0,84.0,84.0,84.0,53.0,41.0,82.0,82.0,82.0,72.0,72.0,72.0,72.0,53.0,54.0,85.0,76.0,38.0,42.0,42.0,53.0,73.0,85.0,70.0,51.0,94.0,44.0,37.0,52.0,51.0,91.0,80.0,45.0,45.0,37.0,36.0,36.0,83.0,83.0,83.0,79.0,83.0,83.0,88.0,86.0,86.0,86.0,86.0,86.0,86.0,70.0,53.0,61.0,35.0,35.0,37.0,54.0,91.0,91.0,91.0,57.0,57.0,38.0,36.0,45.0,88.0,53.0,53.0,85.0,52.0,39.0,38.0,87.0,86.0,61.0,78.0,56.0,86.0,48.0,55.0,52.0,46.0,46.0,86.0,44.0,57.0,57.0,40.0,31.0,46.0,94.0,94.0,87.0,37.0,72.0,84.0,84.0,84.0,84.0,84.0,84.0,84.0,84.0,67.0,54.0,54.0,57.0,41.0,41.0,48.0,48.0,45.0,46.0,96.0,64.0,42.0,47.0,54.0,54.0,37.0,38.0,43.0,85.0,47.0,98.0,98.0,85.0,49.0,41.0,89.0,80.0,89.0,55.0,33.0,38.0,85.0,37.0,37.0,88.0,37.0,37.0,48.0,65.0,82.0,48.0,83.0,42.0,41.0,41.0,87.0,59.0,89.0,38.0,38.0,92.0,53.0,53.0,53.0,85.0,54.0,54.0,86.0,86.0,43.0,43.0,45.0,73.0,73.0,41.0,80.0,54.0,58.0,46.0,46.0,28.0,79.0,51.0,36.0,36.0,88.0,59.0,64.0,43.0,71.0,71.0,75.0,94.0,52.0,52.0,39.0,39.0,36.0,36.0,38.0,47.0,90.0,36.0,36.0,85.0,84.0,53.0,37.0,37.0,84.0,60.0,38.0,75.0,92.0,92.0,53.0,84.0,67.0,56.0,56.0,90.0,90.0,52.0,92.0,50.0,36.0,86.0,81.0,81.0,53.0,90.0,90.0,52.0,39.0,74.0,74.0,61.0,68.0,54.0,83.0,83.0,90.0,90.0,90.0,39.0,39.0,59.0,58.0,38.0,63.0,53.0,53.0,81.0,39.0,39.0,82.0,45.0,44.0,44.0,89.0,58.0,52.0,93.0,51.0,51.0,79.0,87.0,87.0,87.0,69.0,77.0,77.0,38.0,38.0,56.0,55.0,42.0,40.0,40.0,76.0,82.0,82.0,71.0,71.0,33.0,77.0,31.0,99.0,99.0,56.0,71.0,68.0,78.0,56.0,85.0,30.0,30.0,89.0,89.0,89.0,82.0,82.0,90.0,90.0,52.0,91.0,53.0,77.0,77.0,76.0,79.0,79.0,85.0,85.0,85.0,85.0,81.0,81.0,37.0,37.0,78.0,80.0,80.0,64.0,64.0,38.0,64.0,84.0,47.0,39.0,39.0,75.0,87.0,87.0,80.0,83.0,53.0,83.0,39.0,39.0,75.0,79.0,51.0,94.0,79.0,32.0,87.0,87.0,90.0,46.0,46.0,46.0,59.0,36.0,56.0,66.0,59.0,96.0,87.0,87.0,96.0,40.0,64.0,37.0,37.0,39.0,38.0,64.0,72.0,37.0,71.0,71.0,41.0,90.0,51.0,37.0,29.0,82.0,87.0,78.0,52.0,52.0,95.0,95.0,95.0,95.0,57.0,38.0,38.0,56.0,56.0,41.0,41.0,40.0,45.0,45.0,39.0,54.0,91.0,54.0,56.0,65.0,65.0,51.0,52.0,53.0,50.0,86.0,42.0,40.0,45.0,98.0,85.0,87.0,87.0,41.0,38.0,38.0,40.0,37.0,37.0,41.0,87.0,55.0,38.0,38.0,30.0,65.0,53.0,56.0,61.0,74.0,53.0,55.0,39.0,52.0,60.0,84.0,90.0,86.0,45.0,44.0,44.0,87.0,38.0,90.0,92.0,37.0,37.0,37.0,40.0,81.0,78.0,85.0,85.0,40.0,53.0,53.0,51.0,51.0,53.0,86.0,86.0,86.0,68.0,53.0,77.0,88.0,96.0,96.0,52.0,38.0,38.0,82.0,82.0,52.0,38.0,38.0,38.0,95.0,76.0,53.0,53.0,87.0,87.0,38.0,76.0,36.0,53.0,81.0,38.0,80.0,80.0,80.0,80.0,53.0,86.0,90.0,31.0,31.0,77.0,84.0,84.0,85.0,92.0,54.0,90.0,96.0,67.0,84.0,84.0,84.0,39.0,73.0,53.0,83.0,83.0,79.0,40.0,40.0,84.0,91.0,38.0,38.0,94.0,94.0,94.0,61.0,85.0,85.0,36.0,53.0,84.0,91.0,91.0,91.0,69.0,38.0,38.0,53.0,53.0,83.0,44.0,80.0,80.0,41.0,41.0,53.0,83.0,83.0,91.0,91.0,90.0,90.0,44.0,44.0,53.0,77.0,80.0,80.0,79.0,79.0,37.0,37.0,37.0,53.0,80.0,80.0,80.0,80.0,36.0,36.0,62.0,41.0,41.0,88.0,56.0,64.0,64.0,19.0,86.0,86.0,77.0,60.0,90.0,90.0,84.0,84.0,40.0,40.0,59.0,57.0,56.0,82.0,90.0,90.0,37.0,38.0,81.0,90.0,90.0,90.0,40.0,50.0,89.0,38.0,37.0,83.0,53.0,53.0,68.0,68.0,36.0,88.0,88.0,36.0,55.0,82.0,77.0,77.0,42.0,37.0,59.0,86.0,86.0,44.0,50.0,57.0,36.0,52.0,71.0,92.0,92.0,86.0,82.0,85.0,86.0,53.0,85.0,80.0,52.0,52.0,36.0,41.0,41.0,82.0,82.0,36.0,70.0,70.0,90.0,74.0,68.0,38.0,47.0,47.0,65.0,70.0,87.0,39.0,39.0,39.0,60.0,38.0,24.0,37.0,79.0,86.0,86.0,39.0,54.0,70.0,53.0,38.0,89.0,90.0,37.0,36.0,79.0,59.0,52.0,81.0,37.0,37.0,82.0,55.0,80.0,72.0,72.0,83.0,83.0,53.0,53.0,42.0,42.0,70.0,81.0,81.0,81.0,54.0,86.0,86.0,39.0,39.0,93.0,94.0,94.0,82.0,82.0,82.0,36.0,36.0,77.0,38.0,52.0,41.0,67.0,65.0,30.0,84.0,84.0,67.0,67.0,87.0,87.0,73.0,46.0,52.0,39.0,45.0,45.0,76.0,52.0,45.0,45.0,55.0,89.0,45.0,51.0,51.0,37.0,38.0,38.0,78.0,37.0,37.0,87.0,87.0,39.0,83.0,83.0,58.0,47.0,37.0,40.0,40.0,85.0,85.0,55.0,36.0,36.0,84.0,85.0,85.0,85.0,66.0,39.0,39.0,52.0,52.0,53.0,78.0,26.0,37.0,84.0,31.0,87.0,87.0,87.0,37.0,54.0,67.0,67.0,34.0,99.0,87.0,37.0,37.0,37.0,37.0,42.0,42.0,93.0,60.812412412412414,53.0,36.0,36.0,46.0,39.0,39.0,82.0,78.0,38.0,38.0,38.0,66.0,95.0,95.0,80.0,80.0,37.0,36.0,50.0,80.0,80.0,80.0,39.0,39.0,80.0,82.0,39.0,55.0,84.0,92.0,92.0,73.0,73.0,50.0,50.0,40.0,54.0,82.0,19.0,22.0,54.0,54.0,54.0,54.0,86.0,86.0,83.0,38.0,36.0,36.0,36.0,89.0,44.0,44.0,79.0,79.0,85.0,87.0,77.0,79.0,79.0,56.0,71.0,70.0,39.0,39.0,95.0,95.0,40.0,40.0,40.0,65.0,38.0,38.0,31.0,53.0,80.0,80.0,83.0,83.0,70.0,70.0,84.0,80.0,80.0,75.0,75.0,47.0,83.0,83.0,83.0,88.0,88.0,39.0,39.0,89.0,38.0,38.0,83.0,79.0,83.0,83.0,87.0,89.0,47.0,39.0,87.0,87.0,87.0,78.0,39.0,39.0,74.0,38.0,45.0,38.0,47.0,89.0,89.0,39.0,39.0,39.0,84.0,30.0,39.0,39.0,29.0,29.0,39.0,53.0,69.0,52.0,35.0,30.0,40.0,40.0,39.0,39.0,53.0,40.0,91.0,55.0,55.0,39.0,39.0,89.0,38.0,64.0,50.0,37.0,38.0,85.0,84.0,84.0,40.0,40.0,42.0,33.0,33.0,88.0,88.0,38.0,37.0,84.0,46.0,46.0,44.0,38.0,78.0,86.0,38.0,38.0,87.0,86.0,87.0,39.0,39.0,39.0,39.0,78.0,31.0,31.0,39.0,84.0,39.0,39.0,87.0,87.0,82.0,54.0,87.0,87.0,74.0,74.0,36.0,36.0,90.0,90.0,38.0,38.0,40.0,40.0,37.0,37.0,69.0,73.0,37.0,85.0,85.0,38.0,38.0,35.0,38.0,38.0,39.0,80.0,80.0,55.0,48.0,76.0,76.0,76.0,76.0,89.0,89.0,41.0,84.0,82.0,82.0,82.0,82.0,82.0,38.0,50.0,73.0,37.0,38.0,83.0,84.0,84.0,84.0,39.0,54.0,83.0,82.0,84.0,84.0,53.0,53.0,38.0,38.0,78.0,41.0,83.0,87.0,87.0,87.0,87.0,37.0,85.0,85.0,56.0,52.0,52.0,84.0,86.0,86.0,39.0,53.0,53.0,53.0,75.0,53.0,53.0,86.0,35.0,37.0,38.0,82.0,38.0,40.0,40.0,52.0,88.0,77.0,38.0,38.0,83.0,83.0,53.0,53.0,42.0,52.0,77.0,68.0,82.0,82.0,39.0,89.0,89.0,52.0,52.0,52.0,52.0,35.0,35.0,86.0,86.0,36.0,36.0,83.0,90.0,90.0,90.0,90.0,32.0,32.0,68.0,84.0,84.0,81.0,88.0,88.0,41.0,41.0,36.0,37.0,46.0,46.0,80.0,39.0,85.0,53.0,39.0,76.0,76.0,48.0,95.0,95.0,37.0,36.0,84.0,37.0,37.0,72.0,82.0,38.0,86.0,86.0,89.0,39.0,39.0,87.0,76.0,76.0,79.0,38.0,83.0,38.0,38.0,41.0,52.0,52.0,53.0,37.0,36.0,73.0,74.0,60.0,39.0,80.0,80.0,76.0,61.0,74.0,74.0,54.0,87.0,40.0,40.0,79.0,60.812412412412414,83.0,30.0,38.0,86.0,89.0,41.0,38.0,84.0,84.0,81.0,49.0,61.0,94.0,94.0,38.0,83.0,83.0,30.0,48.0,80.0,83.0,40.0,40.0,73.0,91.0,36.0,85.0,85.0,86.0,87.0,87.0,41.0,95.0,82.0,64.0,74.0,84.0,37.0,92.0,66.0,66.0,81.0,83.0,72.0,68.0,41.0,82.0,82.0,37.0,37.0,81.0,81.0,81.0,40.0,40.0,46.0,46.0,91.0,32.0,32.0,45.0,82.0,47.0,38.0,68.0,52.0,39.0,39.0,96.0,96.0,54.0,86.0,94.0,94.0,39.0,39.0,48.0,43.0,43.0,84.0,84.0,75.0,75.0,44.0,80.0,80.0,45.0,45.0,75.0,75.0,51.0,32.0,62.0,37.0,36.0,36.0,41.0,41.0,68.0,38.0,38.0,38.0,65.0,77.0,77.0,45.0,45.0,50.0,86.0,77.0,89.0,89.0,46.0,68.0,41.0,46.0,52.0,40.0,40.0,60.0,92.0,92.0,50.0,46.0,83.0,83.0,40.0,87.0,49.0,49.0,70.0,97.0,39.0,66.0,36.0,36.0,54.0,54.0,50.0,75.0,75.0,84.0,81.0,81.0,81.0,36.0,36.0,86.0,53.0,54.0,54.0,55.0,38.0,38.0,52.0,87.0,87.0,84.0,80.0,78.0,39.0,39.0,39.0,39.0,39.0,41.0,41.0,40.0,40.0,37.0,36.0,76.0,39.0,74.0,31.0,37.0,37.0,47.0,53.0,49.0,48.0,44.0,44.0,36.0,46.0,46.0,31.0,52.0,52.0,52.0,37.0,52.0,92.0,73.0,89.0,89.0,89.0,89.0,81.0,81.0,38.0,38.0,41.0,39.0,39.0,89.0,39.0,82.0,80.0,39.0,32.0,83.0,66.0,71.0,66.0,66.0,38.0,76.0,84.0,84.0,80.0,42.0,37.0,83.0,39.0,88.0,39.0,89.0,89.0,41.0,41.0,83.0,91.0,80.0,78.0,85.0,85.0,36.0,54.0,39.0,55.0,55.0,48.0,48.0,36.0,47.0,31.0,43.0,70.0,35.0,35.0,45.0,45.0,46.0,46.0,74.0,90.0,90.0,81.0,81.0,87.0,66.0,72.0,78.0,44.0,44.0,69.0,69.0,38.0,38.0,38.0,38.0,88.0,88.0,87.0,52.0,47.0,47.0,44.0,44.0,92.0,92.0,91.0,89.0,54.0,54.0,37.0,37.0,37.0,79.0,79.0,79.0,79.0,83.0,83.0,52.0,47.0,47.0,53.0,40.0,45.0,92.0,53.0,53.0,90.0,54.0,54.0,54.0,54.0,52.0,64.0,60.0,70.0,70.0,51.0,37.0,37.0,39.0,39.0,39.0,86.0,86.0,28.0,36.0,94.0,94.0,94.0,39.0,37.0,37.0,89.0,76.0,37.0,37.0,38.0,38.0,80.0,80.0,29.0,29.0,79.0,81.0,81.0,30.0,30.0,64.0,64.0,39.0,52.0,52.0,38.0,79.0,83.0,49.0,71.0,52.0,86.0,86.0,52.0,78.0,72.0,38.0,38.0,56.0,69.0,85.0,37.0,37.0,73.0,45.0,36.0,36.0,37.0,30.0,30.0,70.0,47.0,81.0,81.0,81.0,81.0,47.0,47.0,58.0,52.0,88.0,88.0,56.0,57.0,53.0,53.0,89.0,39.0,39.0,39.0,37.0,60.0,60.0,53.0,53.0,78.0,78.0,39.0,38.0,81.0,74.0,71.0,83.0,52.0,52.0,53.0,53.0,44.0,90.0,34.0,34.0,90.0,40.0,40.0,41.0,85.0,85.0,85.0,54.0,40.0,88.0,66.0,31.0,40.0,89.0,89.0,81.0,36.0,36.0,90.0,39.0,87.0,76.0,76.0,67.0,67.0,83.0,40.0,39.0,39.0,93.0,53.0,38.0,70.0,70.0,91.0,53.0,53.0,81.0,81.0,88.0,83.0,60.0,87.0,87.0,81.0,39.0,82.0,86.0,81.0,81.0,84.0,44.0,44.0,51.0,51.0,47.0,47.0,36.0,39.0,39.0,83.0,83.0,37.0,89.0,52.0,52.0,97.0,61.0,37.0,90.0,40.0,78.0,78.0,83.0,51.0,69.0,69.0,36.0,36.0,52.0,31.0,38.0,91.0,37.0,38.0,39.0,40.0,85.0,73.0,97.0,38.0,37.0,37.0,37.0,38.0,38.0,85.0,83.0,83.0,37.0,43.0,43.0,80.0,49.0,80.0,37.0,37.0,70.0,85.0,78.0,72.0,37.0,37.0,81.0,87.0,83.0,38.0,38.0,40.0,41.0,37.0,52.0,52.0,33.0,81.0,93.0,93.0,60.0,39.0,39.0,83.0,39.0,39.0,55.0,31.0,76.0,86.0,79.0,87.0,46.0,31.0,31.0,38.0,38.0,86.0,86.0,55.0,38.0,38.0,38.0,87.0,87.0,81.0,38.0,51.0,51.0,51.0,51.0,53.0,83.0,83.0,39.0,37.0,81.0,81.0,81.0,81.0,83.0,76.0,78.0,42.0,42.0,74.0,53.0,90.0,90.0,53.0,83.0,78.0,78.0,40.0,31.0,31.0,37.0,43.0,33.0,37.0,82.0,83.0,56.0,37.0,37.0,42.0,42.0,39.0,39.0,49.0,61.0,81.0,76.0,76.0,52.0,56.0,53.0,39.0,79.0,79.0,79.0,82.0,82.0,90.0,43.0,83.0,87.0,87.0,87.0,87.0,70.0,88.0,37.0,37.0,79.0,38.0,38.0,78.0,76.0,38.0,38.0,69.0,45.0,62.0,50.0,50.0,76.0,39.0,81.0,77.0,38.0,38.0,91.0,91.0,39.0,76.0,94.0,94.0,78.0,78.0,40.0,38.0,38.0,36.0,36.0,75.0,75.0,78.0,82.0,82.0,78.0,82.0,84.0,84.0,31.0,31.0,31.0,31.0,32.0,90.0,37.0,37.0,61.0,84.0,47.0,86.0,86.0,82.0,72.0,86.0,86.0,86.0,86.0,86.0,86.0,45.0,36.0,36.0,39.0,39.0,35.0,77.0,79.0,79.0,43.0,59.0,40.0,80.0,92.0,37.0,37.0,65.0,83.0,37.0,46.0,52.0,40.0,40.0,45.0,83.0,45.0,39.0,85.0,95.0,95.0,63.0,38.0,42.0,42.0,37.0,46.0,38.0,38.0,38.0,55.0,72.0,72.0,85.0,56.0,52.0,52.0,37.0,37.0,39.0,36.0,38.0,48.0,83.0,39.0,93.0,93.0,90.0,90.0,43.0,43.0,89.0,89.0,96.0,78.0,83.0,83.0,55.0,42.0,42.0,20.0,20.0,31.0,31.0,52.0,79.0,95.0,95.0,82.0,81.0,81.0,51.0,37.0,37.0,53.0,56.0,87.0,87.0,87.0,85.0,85.0,70.0,85.0,60.0,84.0,40.0,36.0,80.0,37.0,37.0,80.0,90.0,90.0,83.0,83.0,31.0,85.0,53.0,77.0,81.0,52.0,54.0,39.0,82.0,82.0,82.0,82.0,50.0,84.0,63.0,38.0,38.0,38.0,85.0,53.0,77.0,86.0,86.0,38.0,38.0,83.0,57.0,51.0,51.0,50.0,80.0,41.0,38.0,39.0,84.0,88.0,88.0,76.0,52.0,87.0,46.0,46.0,81.0,81.0,77.0,39.0,86.0,86.0,86.0,75.0,85.0,53.0,53.0,60.0,52.0,36.0,53.0,53.0,81.0,81.0,81.0,80.0,79.0,80.0,83.0,90.0,90.0,39.0,39.0,37.0,38.0,48.0,48.0,48.0,52.0,74.0,75.0,52.0,52.0,87.0,46.0,52.0,30.0,88.0,81.0,81.0,72.0,37.0,65.0,67.0,52.0,52.0,52.0,52.0,52.0,80.0,93.0,39.0,91.0,88.0,39.0,74.0,88.0,37.0,84.0,84.0,84.0,84.0,37.0,37.0,37.0,73.0,36.0,36.0,40.0,40.0,49.0,49.0,60.0,83.0,50.0,27.0,83.0,85.0,62.0,46.0,46.0,44.0,44.0,38.0,37.0,37.0,35.0,40.0,46.0,85.0,85.0,34.0,83.0,83.0,83.0,83.0,81.0,34.0,53.0,79.0,83.0,20.0,37.0,92.0,92.0,96.0,96.0,37.0,39.0,85.0,39.0,39.0,39.0,87.0,87.0,87.0,40.0,54.0,54.0,37.0,86.0,86.0,45.0,91.0,38.0,40.0,36.0,75.0,75.0,85.0,39.0,42.0,33.0,33.0,36.0,52.0,52.0,91.0,52.0,79.0,45.0,38.0,38.0,33.0,37.0,85.0,72.0,73.0,75.0,53.0,84.0,84.0,85.0,85.0,84.0,39.0,39.0,53.0,56.0,56.0,54.0,40.0,39.0,39.0,84.0,84.0,73.0,73.0,45.0,77.0,38.0,38.0,29.0,39.0,83.0,83.0,39.0,39.0,39.0,39.0,57.0,41.0,41.0,97.0,97.0,81.0,74.0,41.0,39.0,63.0,54.0,81.0,54.0,36.0,58.0,58.0,85.0,37.0,37.0,36.0,39.0,52.0,32.0,37.0,37.0,38.0,38.0,51.0,51.0,38.0,38.0,83.0,83.0]},{\"axis\":{\"matches\":true},\"label\":\"uf\",\"values\":[\"BA\",\"BA\",\"MS\",\"MS\",\"PR\",\"PA\",\"PA\",\"MG\",\"RR\",\"RR\",\"RJ\",\"RJ\",\"CE\",\"CE\",\"MS\",\"RJ\",\"SP\",\"RJ\",\"RJ\",\"RJ\",\"PA\",\"PA\",\"RJ\",\"RJ\",\"BA\",\"RJ\",\"PE\",\"RS\",\"RS\",\"AM\",\"AM\",\"RJ\",\"RJ\",\"RS\",\"RS\",\"RJ\",\"RJ\",\"RJ\",\"MG\",\"MG\",\"MA\",\"GO\",\"RJ\",\"RJ\",\"RJ\",\"RJ\",\"SC\",\"SC\",\"RJ\",\"RJ\",\"PR\",\"DF\",\"RJ\",\"MS\",\"MS\",\"SP\",\"SP\",\"DF\",\"PA\",\"PA\",\"GO\",\"GO\",\"RJ\",\"RJ\",\"PA\",\"MS\",\"DF\",\"RO\",\"DF\",\"BA\",\"BA\",\"MG\",\"MG\",\"DF\",\"RJ\",\"RJ\",\"PA\",\"MG\",\"SP\",\"SP\",\"RJ\",\"SP\",\"PA\",\"PR\",\"RS\",\"RS\",\"RS\",\"BA\",\"RJ\",\"RJ\",\"CE\",\"RJ\",\"SC\",\"SC\",\"RS\",\"RJ\",\"RJ\",\"RJ\",\"PA\",\"MS\",\"RJ\",\"BA\",\"BA\",\"PA\",\"PA\",\"RJ\",\"MG\",\"RJ\",\"DF\",\"PE\",\"PR\",\"RS\",\"RJ\",\"DF\",\"PE\",\"PE\",\"RS\",\"RS\",\"SP\",\"SP\",\"CE\",\"CE\",\"GO\",\"CE\",\"CE\",\"AM\",\"DF\",\"BA\",\"BA\",\"DF\",\"PE\",\"DF\",\"DF\",\"DF\",\"RJ\",\"DF\",\"DF\",\"RJ\",\"CE\",\"CE\",\"DF\",\"RJ\",\"RJ\",\"RS\",\"RS\",\"BA\",\"MG\",\"MG\",\"DF\",\"SP\",\"SP\",\"RN\",\"CE\",\"CE\",\"RJ\",\"AL\",\"AL\",\"RJ\",\"RJ\",\"DF\",\"MG\",\"PB\",\"PB\",\"PB\",\"RJ\",\"RJ\",\"RS\",\"RS\",\"PB\",\"MA\",\"MA\",\"MA\",\"PR\",\"PR\",\"PB\",\"PB\",\"RS\",\"SP\",\"RS\",\"PE\",\"PE\",\"PE\",\"PR\",\"PR\",\"DF\",\"DF\",\"SC\",\"MG\",\"RJ\",\"RJ\",\"PA\",\"CE\",\"CE\",\"CE\",\"CE\",\"SC\",\"RJ\",\"RJ\",\"MG\",\"MG\",\"PB\",\"SC\",\"RJ\",\"BA\",\"PE\",\"PE\",\"MA\",\"RS\",\"RS\",\"DF\",\"RS\",\"DF\",\"DF\",\"BA\",\"BA\",\"PB\",\"PB\",\"SP\",\"SC\",\"PA\",\"DF\",\"MG\",\"RS\",\"MG\",\"RJ\",\"RJ\",\"PA\",\"PB\",\"PB\",\"RJ\",\"RJ\",\"RJ\",\"RJ\",\"DF\",\"DF\",\"RJ\",\"DF\",\"DF\",\"BA\",\"RS\",\"SC\",\"BA\",\"BA\",\"SC\",\"RJ\",\"RJ\",\"RJ\",\"RS\",\"CE\",\"RJ\",\"DF\",\"SP\",\"MG\",\"MG\",\"RJ\",\"RS\",\"DF\",\"MG\",\"MA\",\"DF\",\"DF\",\"PE\",\"MG\",\"GO\",\"GO\",\"MG\",\"MG\",\"RJ\",\"RJ\",\"RJ\",\"MA\",\"MA\",\"CE\",\"PA\",\"RJ\",\"MS\",\"RS\",\"PA\",\"PA\",\"SC\",\"SC\",\"RJ\",\"BA\",\"BA\",\"PI\",\"PR\",\"MA\",\"MA\",\"RS\",\"AM\",\"AM\",\"RS\",\"RS\",\"SC\",\"PR\",\"RJ\",\"RJ\",\"RJ\",\"RJ\",\"AM\",\"AM\",\"RJ\",\"CE\",\"CE\",\"MT\",\"CE\",\"PA\",\"PA\",\"RS\",\"RS\",\"MA\",\"MA\",\"MA\",\"RJ\",\"RJ\",\"MS\",\"MS\",\"DF\",\"PE\",\"PA\",\"RJ\",\"SP\",\"MG\",\"PR\",\"RJ\",\"PE\",\"SC\",\"SC\",\"MG\",\"DF\",\"RJ\",\"RJ\",\"DF\",\"DF\",\"BA\",\"PE\",\"RS\",\"CE\",\"CE\",\"DF\",\"BA\",\"GO\",\"RJ\",\"MG\",\"GO\",\"AM\",\"MG\",\"DF\",\"CE\",\"RJ\",\"PB\",\"SP\",\"MG\",\"AM\",\"MS\",\"SC\",\"PB\",\"PB\",\"BA\",\"DF\",\"DF\",\"RS\",\"RS\",\"RS\",\"RS\",\"TO\",\"TO\",\"PE\",\"PE\",\"DF\",\"DF\",\"RJ\",\"SC\",\"SC\",\"SC\",\"SC\",\"SC\",\"PE\",\"CE\",\"RJ\",\"RJ\",\"RJ\",\"RJ\",\"RJ\",\"GO\",\"DF\",\"DF\",\"SP\",\"SP\",\"RJ\",\"MG\",\"PR\",\"DF\",\"DF\",\"RS\",\"RS\",\"ES\",\"ES\",\"SC\",\"SP\",\"MT\",\"RJ\",\"RJ\",\"PA\",\"PA\",\"RJ\",\"RJ\",\"MG\",\"MG\",\"SP\",\"CE\",\"SC\",\"RJ\",\"PR\",\"DF\",\"MS\",\"MG\",\"PA\",\"CE\",\"CE\",\"CE\",\"SP\",\"PA\",\"SP\",\"DF\",\"DF\",\"RJ\",\"RJ\",\"RJ\",\"DF\",\"MA\",\"MG\",\"SP\",\"BA\",\"RS\",\"DF\",\"DF\",\"RS\",\"RJ\",\"RJ\",\"DF\",\"PA\",\"PA\",\"PA\",\"RJ\",\"DF\",\"SC\",\"PA\",\"PA\",\"RS\",\"RS\",\"GO\",\"RJ\",\"RJ\",\"RJ\",\"RR\",\"DF\",\"RJ\",\"RJ\",\"RS\",\"RS\",\"GO\",\"MG\",\"MG\",\"RO\",\"CE\",\"PA\",\"PA\",\"PA\",\"PA\",\"PE\",\"PE\",\"DF\",\"RJ\",\"PI\",\"RJ\",\"RJ\",\"RJ\",\"RJ\",\"CE\",\"PE\",\"PE\",\"MA\",\"PR\",\"RJ\",\"RJ\",\"MG\",\"MG\",\"MA\",\"MA\",\"PE\",\"PE\",\"PB\",\"AM\",\"AM\",\"AM\",\"RS\",\"PB\",\"RJ\",\"DF\",\"BA\",\"RS\",\"RS\",\"RS\",\"RS\",\"RJ\",\"RJ\",\"MS\",\"RO\",\"DF\",\"DF\",\"MG\",\"AL\",\"AM\",\"AM\",\"AM\",\"MS\",\"DF\",\"DF\",\"RJ\",\"RJ\",\"SP\",\"AP\",\"CE\",\"CE\",\"CE\",\"BA\",\"MG\",\"MG\",\"DF\",\"DF\",\"DF\",\"PA\",\"PA\",\"GO\",\"RJ\",\"RJ\",\"DF\",\"RJ\",\"DF\",\"RJ\",\"PA\",\"PA\",\"DF\",\"DF\",\"MG\",\"GO\",\"GO\",\"RJ\",\"MG\",\"MG\",\"BA\",\"BA\",\"RJ\",\"RS\",\"PE\",\"RJ\",\"PA\",\"GO\",\"GO\",\"PI\",\"RJ\",\"DF\",\"DF\",\"GO\",\"RS\",\"RS\",\"RJ\",\"GO\",\"RJ\",\"BA\",\"BA\",\"MA\",\"SE\",\"GO\",\"CE\",\"CE\",\"CE\",\"MG\",\"DF\",\"DF\",\"DF\",\"DF\",\"MT\",\"DF\",\"RS\",\"RS\",\"RS\",\"PI\",\"RJ\",\"CE\",\"CE\",\"RJ\",\"RJ\",\"RS\",\"BA\",\"DF\",\"BA\",\"BA\",\"RS\",\"PE\",\"MG\",\"MG\",\"CE\",\"MG\",\"MA\",\"RJ\",\"RJ\",\"RJ\",\"RJ\",\"SC\",\"PE\",\"PE\",\"PE\",\"PA\",\"PA\",\"MG\",\"MG\",\"MG\",\"MG\",\"PB\",\"SP\",\"SP\",\"MG\",\"MG\",\"RS\",\"RS\",\"CE\",\"CE\",\"AP\",\"AP\",\"PE\",\"PE\",\"MT\",\"CE\",\"CE\",\"CE\",\"PR\",\"DF\",\"DF\",\"MT\",\"MT\",\"RJ\",\"PE\",\"PI\",\"RS\",\"SE\",\"MT\",\"MT\",\"DF\",\"RS\",\"RS\",\"MA\",\"PA\",\"RJ\",\"MG\",\"CE\",\"SP\",\"PB\",\"PA\",\"PA\",\"DF\",\"GO\",\"RJ\",\"RJ\",\"PB\",\"PI\",\"DF\",\"PA\",\"PA\",\"PA\",\"PA\",\"PR\",\"PB\",\"PB\",\"RS\",\"DF\",\"DF\",\"MG\",\"MS\",\"MS\",\"PB\",\"PB\",\"DF\",\"RN\",\"MS\",\"MS\",\"DF\",\"DF\",\"MG\",\"MG\",\"MG\",\"DF\",\"DF\",\"SC\",\"RJ\",\"SP\",\"SP\",\"CE\",\"PA\",\"PA\",\"RJ\",\"BA\",\"BA\",\"DF\",\"MG\",\"MG\",\"DF\",\"PB\",\"GO\",\"GO\",\"GO\",\"CE\",\"DF\",\"MG\",\"DF\",\"MG\",\"TO\",\"RJ\",\"RS\",\"RJ\",\"MG\",\"MG\",\"RJ\",\"RJ\",\"PR\",\"SP\",\"SP\",\"SP\",\"SP\",\"SP\",\"SP\",\"SP\",\"SP\",\"MG\",\"MG\",\"MG\",\"PA\",\"PE\",\"PE\",\"CE\",\"RJ\",\"DF\",\"DF\",\"BA\",\"AM\",\"RS\",\"PB\",\"DF\",\"DF\",\"DF\",\"DF\",\"PR\",\"CE\",\"DF\",\"PB\",\"PB\",\"PE\",\"PE\",\"PE\",\"MG\",\"MG\",\"DF\",\"PB\",\"PB\",\"DF\",\"MT\",\"MT\",\"RJ\",\"PI\",\"PE\",\"MG\",\"PA\",\"PA\",\"MG\",\"MA\",\"MA\",\"SP\",\"DF\",\"DF\",\"RJ\",\"RS\",\"RS\",\"SP\",\"RS\",\"PI\",\"PA\",\"PA\",\"MT\",\"MT\",\"RN\",\"RN\",\"CE\",\"CE\",\"SP\",\"SP\",\"RJ\",\"RS\",\"RS\",\"SP\",\"SP\",\"PB\",\"PB\",\"DF\",\"DF\",\"SP\",\"SP\",\"SC\",\"SC\",\"CE\",\"CE\",\"CE\",\"CE\",\"CE\",\"DF\",\"CE\",\"CE\",\"CE\",\"DF\",\"DF\",\"DF\",\"CE\",\"PI\",\"BA\",\"DF\",\"DF\",\"DF\",\"BA\",\"BA\",\"PE\",\"DF\",\"RJ\",\"PI\",\"PI\",\"PA\",\"GO\",\"GO\",\"DF\",\"DF\",\"PA\",\"BA\",\"GO\",\"DF\",\"DF\",\"DF\",\"PE\",\"PE\",\"PE\",\"DF\",\"CE\",\"GO\",\"GO\",\"PI\",\"PI\",\"RJ\",\"DF\",\"RJ\",\"RS\",\"PA\",\"PA\",\"DF\",\"RS\",\"RS\",\"PE\",\"PA\",\"SP\",\"DF\",\"DF\",\"CE\",\"CE\",\"PI\",\"PA\",\"CE\",\"MG\",\"MG\",\"SP\",\"PI\",\"RO\",\"RS\",\"PA\",\"MA\",\"MS\",\"MS\",\"MG\",\"PA\",\"MG\",\"PI\",\"MG\",\"MS\",\"AP\",\"MG\",\"PB\",\"PR\",\"SP\",\"SP\",\"BA\",\"BA\",\"MG\",\"PA\",\"PA\",\"CE\",\"RJ\",\"RJ\",\"BA\",\"PR\",\"RJ\",\"BA\",\"BA\",\"PA\",\"PA\",\"PA\",\"PA\",\"RO\",\"MT\",\"PB\",\"PB\",\"PR\",\"RS\",\"RS\",\"MG\",\"SP\",\"SP\",\"DF\",\"MG\",\"DF\",\"RS\",\"MG\",\"MG\",\"MG\",\"CE\",\"CE\",\"DF\",\"DF\",\"AC\",\"DF\",\"RS\",\"RS\",\"DF\",\"DF\",\"PA\",\"PA\",\"PR\",\"PR\",\"DF\",\"TO\",\"PA\",\"MG\",\"BA\",\"BA\",\"DF\",\"DF\",\"RJ\",\"RS\",\"RS\",\"DF\",\"PA\",\"PE\",\"DF\",\"PA\",\"PE\",\"PE\",\"DF\",\"MG\",\"PA\",\"PA\",\"PA\",\"RJ\",\"RJ\",\"SP\",\"SP\",\"SC\",\"SC\",\"SC\",\"SP\",\"SP\",\"GO\",\"GO\",\"PA\",\"AP\",\"AP\",\"RS\",\"DF\",\"SP\",\"SP\",\"PA\",\"TO\",\"PA\",\"SC\",\"PB\",\"PB\",\"SE\",\"PB\",\"RS\",\"SP\",\"SP\",\"PB\",\"PB\",\"RS\",\"PE\",\"PE\",\"PE\",\"RS\",\"PR\",\"PR\",\"PR\",\"PR\",\"PA\",\"PA\",\"PA\",\"PA\",\"CE\",\"CE\",\"MS\",\"PB\",\"PB\",\"PI\",\"PI\",\"CE\",\"CE\",\"RJ\",\"RJ\",\"SC\",\"AC\",\"AC\",\"PB\",\"PB\",\"SP\",\"RS\",\"RS\",\"PB\",\"PB\",\"PB\",\"PB\",\"PA\",\"PA\",\"PA\",\"PA\",\"PA\",\"PA\",\"PR\",\"PR\",\"PR\",\"PB\",\"MG\",\"MG\",\"PE\",\"PE\",\"PB\",\"PB\",\"MS\",\"MS\",\"MS\",\"MS\",\"PB\",\"PB\",\"PA\",\"AM\",\"AM\",\"MS\",\"RN\",\"PB\",\"RJ\",\"PB\",\"PB\",\"AM\",\"SP\",\"SC\",\"MG\",\"SP\",\"PA\",\"PA\",\"CE\",\"CE\",\"MG\",\"RJ\",\"AC\",\"PA\",\"PA\",\"PA\",\"RJ\",\"PA\",\"PA\",\"PI\",\"MG\",\"PI\",\"RO\",\"RJ\",\"MT\",\"CE\",\"PA\",\"PA\",\"PA\",\"CE\",\"SP\",\"PB\",\"BA\",\"MG\",\"PB\",\"PB\",\"RS\",\"CE\",\"MG\",\"MG\",\"DF\",\"PA\",\"SP\",\"SP\",\"RS\",\"RJ\",\"SC\",\"RJ\",\"MT\",\"RS\",\"RS\",\"RS\",\"SP\",\"SP\",\"RJ\",\"BA\",\"RJ\",\"RJ\",\"MT\",\"RS\",\"MT\",\"PA\",\"CE\",\"RS\",\"AM\",\"PA\",\"RS\",\"RJ\",\"RJ\",\"RJ\",\"RJ\",\"RJ\",\"RJ\",\"RJ\",\"RJ\",\"PR\",\"RJ\",\"PB\",\"PB\",\"MG\",\"PA\",\"PA\",\"MG\",\"MA\",\"PB\",\"RJ\",\"MG\",\"MG\",\"PR\",\"DF\",\"DF\",\"RJ\",\"RJ\",\"SP\",\"SP\",\"RS\",\"RS\",\"CE\",\"SC\",\"RN\",\"RJ\",\"BA\",\"SE\",\"DF\",\"MG\",\"MG\",\"MG\",\"RJ\",\"ES\",\"ES\",\"SP\",\"GO\",\"GO\",\"MG\",\"DF\",\"PE\",\"PE\",\"PE\",\"PI\",\"MG\",\"RS\",\"MG\",\"PA\",\"PA\",\"PA\",\"MG\",\"MG\",\"DF\",\"RJ\",\"PA\",\"RJ\",\"PE\",\"PA\",\"RR\",\"PA\",\"PA\",\"PA\",\"PA\",\"PA\",\"PA\",\"SP\",\"MG\",\"MG\",\"RN\",\"PR\",\"PR\",\"PR\",\"PR\",\"PR\",\"MA\",\"PR\",\"PR\",\"CE\",\"CE\",\"RS\",\"RJ\",\"RJ\",\"RJ\",\"AM\",\"GO\",\"PA\",\"AM\",\"RS\",\"CE\",\"CE\",\"PA\",\"TO\",\"TO\",\"RS\",\"RS\",\"RJ\",\"CE\",\"CE\",\"CE\",\"DF\",\"DF\",\"CE\",\"CE\",\"RJ\",\"BA\",\"CE\",\"DF\",\"PR\",\"PR\",\"PR\",\"DF\",\"PR\",\"BA\",\"RJ\",\"RJ\",\"CE\",\"DF\",\"DF\",\"CE\",\"SP\",\"SP\",\"RJ\",\"MG\",\"PE\",\"PE\",\"PE\",\"PE\",\"RJ\",\"CE\",\"CE\",\"RJ\",\"PE\",\"DF\",\"AM\",\"AM\",\"RS\",\"SP\",\"SP\",\"RS\",\"RO\",\"RO\",\"RJ\",\"RJ\",\"SP\",\"SP\",\"RJ\",\"BA\",\"RJ\",\"RJ\",\"PR\",\"PR\",\"SP\",\"AM\",\"AM\",\"RJ\",\"RJ\",\"GO\",\"GO\",\"RJ\",\"RJ\",\"RJ\",\"PE\",\"MG\",\"CE\",\"SC\",\"AM\",\"MG\",\"CE\",\"CE\",\"PA\",\"RJ\",\"RJ\",\"TO\",\"PE\",\"SP\",\"SP\",\"BA\",\"BA\",\"RS\",\"RS\",\"SE\",\"AM\",\"RJ\",\"RJ\",\"RJ\",\"RJ\",\"PE\",\"CE\",\"CE\",\"MG\",\"MG\",\"DF\",\"AM\",\"SP\",\"BA\",\"MA\",\"AM\",\"AM\",\"PA\",\"PA\",\"SP\",\"SP\",\"DF\",\"DF\",\"DF\",\"DF\",\"SP\",\"RS\",\"SP\",\"RJ\",\"SP\",\"SP\",\"DF\",\"RJ\",\"RJ\",\"RJ\",\"RJ\",\"RS\",\"PE\",\"RJ\",\"DF\",\"AM\",\"DF\",\"DF\",\"RJ\",\"PE\",\"PE\",\"RJ\",\"RJ\",\"PR\",\"RJ\",\"RS\",\"PA\",\"PA\",\"DF\",\"PA\",\"CE\",\"DF\",\"TO\",\"TO\",\"PR\",\"RJ\",\"PR\",\"MA\",\"RJ\",\"DF\",\"DF\",\"RJ\",\"RJ\",\"RJ\",\"DF\",\"PE\",\"GO\",\"GO\",\"GO\",\"PR\",\"PR\",\"RS\",\"RS\",\"DF\",\"DF\",\"RJ\",\"RJ\",\"RJ\",\"GO\",\"TO\",\"BA\",\"DF\",\"AM\",\"SP\",\"RJ\",\"RJ\",\"DF\",\"MA\",\"MG\",\"MG\",\"RJ\",\"RJ\",\"AM\",\"RJ\",\"AM\",\"SP\",\"AM\",\"SP\",\"PR\",\"SP\",\"DF\",\"DF\",\"BA\",\"BA\",\"PR\",\"RJ\",\"RJ\",\"DF\",\"DF\",\"MT\",\"MT\",\"AP\",\"AP\",\"DF\",\"CE\",\"SP\",\"DF\",\"DF\",\"RS\",\"RS\",\"RS\",\"DF\",\"DF\",\"DF\",\"DF\",\"DF\",\"DF\",\"DF\",\"CE\",\"DF\",\"DF\",\"DF\",\"RS\",\"RS\",\"CE\",\"BA\",\"DF\",\"RJ\",\"GO\",\"GO\",\"DF\",\"DF\",\"RJ\",\"CE\",\"DF\",\"DF\",\"RS\",\"AM\",\"PE\",\"DF\",\"DF\",\"PA\",\"RS\",\"PE\",\"PE\",\"DF\",\"DF\",\"RJ\",\"PR\",\"PR\",\"RJ\",\"RS\",\"RS\",\"BA\",\"RJ\",\"RJ\",\"DF\",\"DF\",\"AM\",\"PE\",\"PE\",\"PE\",\"PE\",\"PE\",\"PE\",\"RS\",\"RS\",\"GO\",\"SP\",\"DF\",\"RJ\",\"RJ\",\"MT\",\"RO\",\"RJ\",\"RJ\",\"TO\",\"RJ\",\"PA\",\"PA\",\"PA\",\"BA\",\"BA\",\"SP\",\"SP\",\"CE\",\"MA\",\"PA\",\"PA\",\"RS\",\"MA\",\"MA\",\"AM\",\"MG\",\"DF\",\"RJ\",\"RS\",\"MG\",\"MG\",\"SP\",\"PA\",\"PA\",\"PA\",\"BA\",\"RJ\",\"SP\",\"RJ\",\"RJ\",\"RJ\",\"RJ\",\"MG\",\"RR\",\"PI\",\"PR\",\"PR\",\"RJ\",\"MA\",\"DF\",\"SP\",\"RJ\",\"RJ\",\"RJ\",\"RJ\",\"PA\",\"RS\",\"RS\",\"GO\",\"GO\",\"RJ\",\"PA\",\"RJ\",\"RJ\",\"PE\",\"SP\",\"SP\",\"SP\",\"DF\",\"DF\",\"RS\",\"RJ\",\"RJ\",\"GO\",\"GO\",\"PA\",\"PA\",\"PA\",\"PA\",\"PA\",\"PA\",\"PA\",\"RS\",\"RS\",\"SP\",\"MG\",\"MG\",\"MA\",\"MG\",\"PA\",\"PA\",\"RS\",\"RS\",\"RJ\",\"RJ\",\"SP\",\"DF\",\"RJ\",\"RJ\",\"MG\",\"RJ\",\"PA\",\"RS\",\"RS\",\"RS\",\"PA\",\"PA\",\"PA\",\"PA\",\"PA\",\"SP\",\"SP\",\"TO\",\"TO\",\"RN\",\"GO\",\"GO\",\"BA\",\"MA\",\"PI\",\"SP\",\"RJ\",\"RJ\",\"RJ\",\"DF\",\"SP\",\"SP\",\"PR\",\"PE\",\"PE\",\"PB\",\"PB\",\"RJ\",\"MG\",\"PA\",\"PA\",\"MG\",\"MS\",\"MS\",\"MG\",\"AM\",\"MS\",\"MS\",\"CE\",\"PI\",\"AM\",\"MS\",\"PE\",\"PE\",\"RJ\",\"RJ\",\"AC\",\"AC\",\"MG\",\"RJ\",\"RJ\",\"SP\",\"SP\",\"PE\",\"PE\",\"PE\",\"PE\",\"PE\",\"CE\",\"CE\",\"SE\",\"SE\",\"MS\",\"DF\",\"SP\",\"SP\",\"AC\",\"MG\",\"MG\",\"BA\",\"AL\",\"MG\",\"RJ\",\"RJ\",\"PE\",\"PE\",\"BA\",\"PB\",\"PB\",\"SE\",\"SE\",\"DF\",\"RS\",\"SE\",\"SP\",\"SP\",\"DF\",\"PA\",\"RJ\",\"RJ\",\"GO\",\"RJ\",\"MA\",\"MA\",\"RJ\",\"PE\",\"PE\",\"RJ\",\"MS\",\"PE\",\"DF\",\"RJ\",\"DF\",\"DF\",\"DF\",\"DF\",\"CE\",\"CE\",\"PE\",\"PE\",\"DF\",\"DF\",\"DF\",\"RO\",\"RO\",\"BA\",\"BA\",\"DF\",\"RJ\",\"PR\",\"PR\",\"RJ\",\"RJ\",\"PE\",\"PA\",\"PE\",\"PE\",\"PA\",\"PA\",\"PE\",\"GO\",\"PE\",\"SP\",\"PA\",\"PA\",\"DF\",\"DF\",\"DF\",\"RJ\",\"DF\",\"DF\",\"MG\",\"MG\",\"SP\",\"MG\",\"CE\",\"MG\",\"PE\",\"PE\",\"PE\",\"BA\",\"BA\",\"RJ\",\"DF\",\"RJ\",\"RJ\",\"PI\",\"BA\",\"PE\",\"PE\",\"PE\",\"PR\",\"AP\",\"PI\",\"RS\",\"RS\",\"DF\",\"DF\",\"GO\",\"GO\",\"MA\",\"RJ\",\"RJ\",\"TO\",\"TO\",\"DF\",\"DF\",\"RS\",\"BA\",\"SP\",\"SP\",\"BA\",\"BA\",\"RS\",\"MA\",\"BA\",\"BA\",\"PR\",\"PR\",\"RS\",\"RJ\",\"DF\",\"CE\",\"CE\",\"DF\",\"RJ\",\"GO\",\"SP\",\"RJ\",\"DF\",\"AM\",\"AM\",\"RJ\",\"RJ\",\"MG\",\"MG\",\"DF\",\"PI\",\"CE\",\"PE\",\"RJ\",\"RJ\",\"RS\",\"DF\",\"BA\",\"CE\",\"BA\",\"MS\",\"MS\",\"RS\",\"RS\",\"MG\",\"SP\",\"RJ\",\"PR\",\"MS\",\"PE\",\"PE\",\"RJ\",\"RJ\",\"RJ\",\"DF\",\"RO\",\"SE\",\"SE\",\"RJ\",\"PA\",\"PA\",\"PA\",\"PE\",\"PE\",\"PE\",\"MG\",\"MG\",\"PE\",\"MT\",\"RJ\",\"PA\",\"RJ\",\"RJ\",\"RS\",\"MG\",\"CE\",\"PA\",\"PA\",\"DF\",\"DF\",\"SP\",\"MS\",\"MS\",\"MS\",\"RS\",\"RJ\",\"RJ\",\"RJ\",\"DF\",\"CE\",\"CE\",\"DF\",\"DF\",\"RR\",\"RR\",\"RJ\",\"RJ\",\"RJ\",\"RJ\",\"RJ\",\"RJ\",\"RJ\",\"PI\",\"MG\",\"GO\",\"GO\",\"DF\",\"PA\",\"PA\",\"CE\",\"RS\",\"DF\",\"PA\",\"DF\",\"RS\",\"RJ\",\"MG\",\"SP\",\"AP\",\"AP\",\"AP\",\"MG\",\"RS\",\"PE\",\"PE\",\"PE\",\"SP\",\"SP\",\"PA\",\"RS\",\"SC\",\"RJ\",\"RJ\",\"DF\",\"DF\",\"DF\",\"DF\",\"DF\",\"DF\",\"DF\",\"DF\",\"DF\",\"RJ\",\"DF\",\"DF\",\"DF\",\"MG\",\"MG\",\"CE\",\"RS\",\"DF\",\"DF\",\"DF\",\"CE\",\"PR\",\"PR\",\"PR\",\"SP\",\"SP\",\"MG\",\"MG\",\"SE\",\"AM\",\"PA\",\"PA\",\"SC\",\"PR\",\"PR\",\"MG\",\"MG\",\"GO\",\"CE\",\"CE\",\"MG\",\"MG\",\"MG\",\"RJ\",\"RJ\",\"PR\",\"RJ\",\"MG\",\"MG\",\"MS\",\"MS\",\"RR\",\"MG\",\"MG\",\"RS\",\"PE\",\"BA\",\"TO\",\"RS\",\"RS\",\"RS\",\"BA\",\"CE\",\"CE\",\"CE\",\"CE\",\"BA\",\"BA\",\"PE\",\"PE\",\"RS\",\"PE\",\"BA\",\"BA\",\"BA\",\"RJ\",\"PA\",\"PA\",\"PA\",\"PA\",\"DF\",\"DF\",\"DF\",\"PA\",\"CE\",\"SP\",\"PA\",\"MS\",\"PR\",\"RS\",\"CE\",\"MA\",\"MA\",\"BA\",\"BA\",\"RJ\",\"MG\",\"MG\",\"RS\",\"RJ\",\"RJ\",\"RJ\",\"RJ\",\"RJ\",\"RJ\",\"PA\",\"PA\",\"GO\",\"GO\",\"RJ\",\"MS\",\"RJ\",\"RS\",\"RS\",\"RJ\",\"DF\",\"BA\",\"BA\",\"PA\",\"PI\",\"DF\",\"PA\",\"RJ\",\"RJ\",\"RS\",\"RJ\",\"MA\",\"MA\",\"PE\",\"PE\",\"PI\",\"CE\",\"CE\",\"CE\",\"DF\",\"PE\",\"PE\",\"PE\",\"PE\",\"PE\",\"PE\",\"MA\",\"MA\",\"RS\",\"RS\",\"RR\",\"CE\",\"CE\",\"GO\",\"MS\",\"RS\",\"DF\",\"PR\",\"RS\",\"RS\",\"RS\",\"RJ\",\"DF\",\"PE\",\"CE\",\"CE\",\"RJ\",\"CE\",\"RS\",\"PA\",\"PA\",\"SP\",\"TO\",\"TO\",\"RS\",\"RJ\",\"RJ\",\"PE\",\"AP\",\"MG\",\"PE\",\"PE\",\"CE\",\"DF\",\"DF\",\"RJ\",\"RJ\",\"RJ\",\"RJ\",\"PI\",\"PI\",\"PR\",\"RS\",\"RS\",\"PA\",\"RJ\",\"MT\",\"BA\",\"CE\",\"CE\",\"DF\",\"DF\",\"PR\",\"RS\",\"PI\",\"PI\",\"RJ\",\"RJ\",\"PR\",\"DF\",\"RJ\",\"MT\",\"MT\",\"BA\",\"BA\",\"MG\",\"MG\",\"MG\",\"PE\",\"PE\",\"PE\",\"PE\",\"PE\",\"PE\",\"PE\",\"PE\",\"PR\",\"PR\",\"CE\",\"RS\",\"PA\",\"PR\",\"PA\",\"PA\",\"BA\",\"BA\",\"MT\",\"RJ\",\"BA\",\"RS\",\"TO\",\"TO\",\"CE\",\"CE\",\"CE\",\"PA\",\"MG\",\"PA\",\"DF\",\"RJ\",\"RJ\",\"BA\",\"PR\",\"PR\",\"CE\",\"DF\",\"DF\",\"RJ\",\"RS\",\"RJ\",\"SE\",\"SE\",\"SP\",\"DF\",\"MS\",\"MS\",\"DF\",\"CE\",\"MS\",\"DF\",\"DF\",\"CE\",\"CE\",\"RJ\",\"BA\",\"DF\",\"DF\",\"PA\",\"DF\",\"RS\",\"TO\",\"MG\",\"RJ\",\"MS\",\"PI\",\"PA\",\"PR\",\"PR\",\"PR\",\"RJ\",\"GO\",\"BA\",\"BA\",\"RJ\",\"DF\",\"MG\",\"MG\",\"RJ\",\"GO\",\"BA\",\"DF\",\"PE\",\"PA\",\"MG\",\"RS\",\"RS\",\"MG\",\"MG\",\"GO\",\"GO\",\"MA\",\"BA\",\"RJ\",\"DF\",\"CE\",\"DF\",\"PR\",\"DF\",\"DF\",\"RJ\",\"RJ\",\"RJ\",\"SP\",\"RS\",\"PI\",\"PI\",\"BA\",\"BA\",\"SP\",\"RJ\",\"GO\",\"GO\",\"RJ\",\"RJ\",\"RJ\",\"RS\",\"PE\",\"PE\",\"PA\",\"PA\",\"PA\",\"MG\",\"PE\",\"GO\",\"DF\",\"DF\",\"RJ\",\"DF\",\"DF\",\"DF\",\"RJ\",\"PI\",\"PI\",\"DF\",\"DF\",\"DF\",\"DF\",\"DF\",\"MS\",\"DF\",\"DF\",\"DF\",\"DF\",\"RJ\",\"RJ\",\"PR\",\"DF\",\"DF\",\"DF\",\"DF\",\"PA\",\"PA\",\"RS\",\"RS\",\"PA\",\"RJ\",\"MG\",\"MG\",\"RJ\",\"DF\",\"DF\",\"MG\",\"MG\",\"DF\",\"DF\",\"CE\",\"RJ\",\"PA\",\"AL\",\"RJ\",\"PA\",\"PA\",\"PA\",\"PA\",\"PA\",\"DF\",\"AP\",\"AP\",\"AP\",\"DF\",\"DF\",\"PI\",\"MG\",\"RJ\",\"PE\",\"PE\",\"BA\",\"DF\",\"DF\",\"DF\",\"TO\",\"TO\",\"PE\",\"PE\",\"GO\",\"MG\",\"RJ\",\"PR\",\"PR\",\"BA\",\"RJ\",\"RJ\",\"TO\",\"TO\",\"DF\",\"DF\",\"MG\",\"DF\",\"DF\",\"DF\",\"PA\",\"PA\",\"DF\",\"DF\",\"RJ\",\"RJ\",\"RJ\",\"RR\",\"MG\",\"MG\",\"MG\",\"PE\",\"BA\",\"BA\",\"GO\",\"GO\",\"GO\",\"GO\",\"RS\",\"RS\",\"DF\",\"CE\",\"MG\",\"RJ\",\"RJ\",\"RJ\",\"DF\",\"PA\",\"PA\",\"RJ\",\"RJ\",\"CE\",\"DF\",\"DF\",\"PA\",\"SP\",\"RJ\",\"AM\",\"DF\",\"DF\",\"BA\",\"BA\",\"PR\",\"PR\",\"PA\",\"PA\",\"CE\",\"CE\",\"PE\",\"RJ\",\"RS\",\"SE\",\"CE\",\"CE\",\"RS\",\"SP\",\"MG\",\"SP\",\"PR\",\"PE\",\"RJ\",\"RJ\",\"GO\",\"RJ\",\"CE\",\"RJ\",\"RS\",\"RS\",\"PE\",\"DF\",\"AP\",\"PA\",\"RS\",\"AP\",\"PR\",\"MS\",\"MS\",\"MA\",\"MA\",\"GO\",\"SC\",\"DF\",\"DF\",\"DF\",\"RJ\",\"MT\",\"RJ\",\"RS\",\"RS\",\"SP\",\"PE\",\"MS\",\"MG\",\"DF\",\"RS\",\"PA\",\"ES\",\"AC\",\"BA\",\"AP\",\"PE\",\"RJ\",\"BA\",\"BA\",\"PA\",\"PR\",\"PR\",\"DF\",\"DF\",\"RS\",\"RS\",\"RS\",\"RS\",\"PE\",\"SP\",\"SP\",\"PE\",\"PE\",\"BA\",\"RJ\",\"RS\",\"RS\",\"SP\",\"SP\",\"RN\",\"RN\",\"DF\",\"RJ\",\"RN\",\"RJ\",\"BA\",\"BA\",\"RJ\",\"RJ\",\"BA\",\"DF\",\"PR\",\"DF\",\"RN\",\"BA\",\"BA\",\"DF\",\"DF\",\"RJ\",\"RS\",\"RN\",\"RJ\",\"RN\",\"DF\",\"RJ\",\"RJ\",\"MG\",\"PE\",\"PE\",\"PE\",\"DF\",\"MG\",\"PE\",\"RJ\",\"RJ\",\"TO\",\"RS\",\"RS\",\"AM\",\"AM\",\"DF\",\"DF\",\"RJ\",\"RJ\",\"RJ\",\"RJ\",\"RJ\",\"GO\",\"GO\",\"RJ\",\"RJ\",\"DF\",\"DF\",\"DF\",\"PR\",\"PE\",\"PE\",\"PE\",\"BA\",\"DF\",\"DF\",\"RJ\",\"RJ\",\"PE\",\"PE\",\"PE\",\"DF\",\"RJ\",\"RJ\",\"RS\",\"RS\",\"BA\",\"RJ\",\"CE\",\"CE\",\"RJ\",\"PE\",\"PE\",\"PE\",\"RJ\",\"PE\",\"CE\",\"CE\",\"PA\",\"PA\",\"PA\",\"RJ\",\"RJ\",\"RJ\",\"SC\",\"MG\",\"MG\",\"GO\",\"PE\",\"PE\",\"PE\",\"AM\",\"PI\",\"PB\",\"RJ\",\"DF\",\"DF\",\"DF\",\"DF\",\"AM\",\"AM\",\"PI\",\"PI\",\"MG\",\"RS\",\"RS\",\"RS\",\"RJ\",\"CE\",\"RJ\",\"RJ\",\"MS\",\"RJ\",\"RJ\",\"RJ\",\"BA\",\"PA\",\"PA\",\"RJ\",\"RJ\",\"MS\",\"MS\",\"AM\",\"AM\",\"AM\",\"PA\",\"PA\",\"PA\",\"PA\",\"BA\",\"BA\",\"MG\",\"MG\",\"MT\",\"SP\",\"PA\",\"PA\",\"MT\",\"MT\",\"BA\",\"RJ\",\"MT\",\"RJ\",\"RJ\",\"DF\",\"DF\",\"RJ\",\"RJ\",\"RJ\",\"RJ\",\"RJ\",\"DF\",\"DF\",\"RJ\",\"DF\",\"DF\",\"RJ\",\"CE\",\"RS\",\"RS\",\"SP\",\"SP\",\"RJ\",\"RJ\",\"RJ\",\"RJ\",\"MG\",\"MG\",\"BA\",\"RS\",\"RS\",\"DF\",\"DF\",\"DF\",\"DF\",\"PE\",\"PA\",\"PA\",\"RR\",\"GO\",\"MA\",\"RS\",\"RO\",\"RJ\",\"GO\",\"SP\",\"SP\",\"RJ\",\"BA\",\"RJ\",\"MG\",\"MG\",\"RJ\",\"RJ\",\"RJ\",\"RJ\",\"RR\",\"PR\",\"AM\",\"AM\",\"GO\",\"RJ\",\"RJ\",\"RJ\",\"PA\",\"PR\",\"RJ\",\"PA\",\"BA\",\"RJ\",\"RS\",\"RS\",\"DF\",\"GO\",\"RJ\",\"RJ\",\"RJ\",\"PA\",\"PA\",\"PA\",\"PA\",\"PE\",\"PE\",\"DF\",\"DF\",\"PA\",\"MG\",\"MG\",\"CE\",\"RJ\",\"DF\",\"MT\",\"DF\",\"DF\",\"RJ\",\"RJ\",\"RJ\",\"DF\",\"PE\",\"BA\",\"MG\",\"MG\",\"SP\",\"SP\",\"PR\",\"BA\",\"PR\",\"PR\",\"PR\",\"PR\",\"MA\",\"SP\",\"RJ\",\"CE\",\"RJ\",\"DF\",\"RJ\",\"RJ\",\"SC\",\"DF\",\"DF\",\"DF\",\"GO\",\"GO\",\"GO\",\"GO\",\"PR\",\"RJ\",\"DF\",\"DF\",\"DF\",\"PA\",\"SE\",\"SE\",\"PI\",\"PI\",\"RS\",\"MG\",\"GO\",\"AM\",\"AM\",\"PE\",\"PE\",\"RJ\",\"RJ\",\"RJ\",\"RJ\",\"DF\",\"RJ\",\"RJ\",\"SC\",\"SC\",\"BA\",\"PR\",\"RJ\",\"SP\",\"RJ\",\"DF\",\"DF\",\"DF\",\"DF\",\"RJ\",\"SE\",\"MG\",\"MG\",\"RS\",\"PA\",\"PA\",\"PA\",\"PA\",\"RJ\",\"MG\",\"PE\",\"RS\",\"SP\",\"RS\",\"RS\",\"RJ\",\"SP\",\"PA\",\"RJ\",\"RJ\",\"MG\",\"RN\",\"GO\",\"RJ\",\"RJ\",\"PE\",\"PA\",\"MG\",\"MG\",\"GO\",\"PI\",\"PI\",\"RJ\",\"RJ\",\"RJ\",\"PR\",\"MA\",\"MA\",\"DF\",\"PA\",\"PA\",\"PA\",\"PA\",\"PA\",\"PA\",\"MG\",\"RJ\",\"RJ\",\"DF\",\"DF\",\"RS\",\"RJ\",\"PE\",\"PE\",\"AL\",\"MG\",\"MG\",\"GO\",\"TO\",\"DF\",\"DF\",\"RJ\",\"RJ\",\"PR\",\"RJ\",\"RS\",\"PI\",\"PA\",\"PA\",\"RJ\",\"PA\",\"RJ\",\"PA\",\"MG\",\"RJ\",\"RJ\",\"RN\",\"RN\",\"BA\",\"MG\",\"RJ\",\"RJ\",\"BA\",\"RR\",\"MG\",\"BA\",\"BA\",\"PA\",\"GO\",\"RJ\",\"DF\",\"DF\",\"DF\",\"DF\",\"DF\",\"DF\",\"DF\",\"DF\",\"RJ\",\"RJ\",\"RJ\",\"RJ\",\"RS\",\"RS\",\"RN\",\"RN\",\"MG\",\"MG\",\"PA\",\"MG\",\"SP\",\"MG\",\"AM\",\"AM\",\"TO\",\"MT\",\"MG\",\"BA\",\"MG\",\"PE\",\"PE\",\"DF\",\"RN\",\"RS\",\"BA\",\"PA\",\"MA\",\"MG\",\"PA\",\"RS\",\"PR\",\"MA\",\"MA\",\"PA\",\"MT\",\"MT\",\"BA\",\"RJ\",\"DF\",\"MG\",\"RJ\",\"BA\",\"PA\",\"PA\",\"PA\",\"RJ\",\"AL\",\"CE\",\"CE\",\"DF\",\"RJ\",\"RJ\",\"RJ\",\"RS\",\"RJ\",\"RJ\",\"MG\",\"MG\",\"RN\",\"RN\",\"DF\",\"RS\",\"RS\",\"BA\",\"BA\",\"RJ\",\"RJ\",\"RJ\",\"RJ\",\"DF\",\"SP\",\"DF\",\"MS\",\"MS\",\"PA\",\"RJ\",\"RJ\",\"GO\",\"RJ\",\"RJ\",\"SP\",\"PE\",\"RJ\",\"RJ\",\"BA\",\"BA\",\"PI\",\"PI\",\"SP\",\"MG\",\"RJ\",\"DF\",\"DF\",\"DF\",\"MA\",\"RJ\",\"DF\",\"DF\",\"PA\",\"PI\",\"CE\",\"PA\",\"MA\",\"MA\",\"RJ\",\"PA\",\"RJ\",\"RJ\",\"RJ\",\"PE\",\"PE\",\"DF\",\"PE\",\"RJ\",\"DF\",\"DF\",\"RJ\",\"RJ\",\"RJ\",\"BA\",\"BA\",\"RJ\",\"GO\",\"RJ\",\"RJ\",\"RJ\",\"RJ\",\"RJ\",\"BA\",\"BA\",\"MA\",\"MA\",\"MA\",\"RS\",\"RS\",\"MG\",\"RJ\",\"RS\",\"MG\",\"RJ\",\"RJ\",\"GO\",\"DF\",\"DF\",\"MG\",\"PR\",\"RN\",\"RN\",\"PE\",\"RJ\",\"RJ\",\"BA\",\"RJ\",\"RJ\",\"RJ\",\"RJ\",\"RJ\",\"RJ\",\"RS\",\"MG\",\"MG\",\"BA\",\"BA\",\"RJ\",\"RJ\",\"TO\",\"RS\",\"RN\",\"PE\",\"DF\",\"DF\",\"RJ\",\"RJ\",\"RR\",\"RN\",\"RO\",\"MA\",\"MA\",\"RJ\",\"SP\",\"SP\",\"MG\",\"RJ\",\"DF\",\"PA\",\"PA\",\"PE\",\"PE\",\"PE\",\"MG\",\"MG\",\"DF\",\"DF\",\"RJ\",\"PE\",\"PA\",\"PA\",\"PA\",\"RJ\",\"PA\",\"PA\",\"DF\",\"DF\",\"DF\",\"DF\",\"PE\",\"PE\",\"MS\",\"MS\",\"RJ\",\"PR\",\"PR\",\"SP\",\"SP\",\"SE\",\"RJ\",\"CE\",\"MG\",\"CE\",\"RS\",\"SP\",\"BA\",\"BA\",\"PA\",\"DF\",\"RJ\",\"PA\",\"BA\",\"BA\",\"SP\",\"PA\",\"RJ\",\"RN\",\"RN\",\"SP\",\"PR\",\"PR\",\"RJ\",\"MG\",\"MG\",\"MG\",\"RJ\",\"DF\",\"RJ\",\"RJ\",\"RJ\",\"RS\",\"MG\",\"MG\",\"PR\",\"GO\",\"DF\",\"DF\",\"RS\",\"RS\",\"GO\",\"RJ\",\"RJ\",\"MS\",\"RJ\",\"RJ\",\"SE\",\"PE\",\"RJ\",\"MS\",\"AM\",\"MG\",\"BA\",\"RJ\",\"RJ\",\"RJ\",\"PE\",\"PE\",\"PE\",\"PE\",\"MS\",\"PB\",\"PB\",\"RJ\",\"RJ\",\"DF\",\"DF\",\"PR\",\"RS\",\"RS\",\"MT\",\"RJ\",\"BA\",\"RJ\",\"RJ\",\"RJ\",\"RJ\",\"RN\",\"RJ\",\"RJ\",\"RN\",\"RJ\",\"RN\",\"RN\",\"MG\",\"MG\",\"MG\",\"PA\",\"PA\",\"RN\",\"RS\",\"RS\",\"AL\",\"GO\",\"GO\",\"RN\",\"GO\",\"MG\",\"RJ\",\"RJ\",\"PA\",\"RJ\",\"RJ\",\"RJ\",\"RJ\",\"RJ\",\"RJ\",\"RJ\",\"RS\",\"RJ\",\"RJ\",\"PA\",\"PR\",\"MA\",\"SC\",\"SP\",\"SP\",\"PE\",\"GO\",\"MG\",\"RJ\",\"MA\",\"MA\",\"MA\",\"RS\",\"BA\",\"PE\",\"PA\",\"PA\",\"RS\",\"RJ\",\"RJ\",\"RJ\",\"RJ\",\"RJ\",\"RS\",\"RS\",\"RS\",\"RJ\",\"RJ\",\"AP\",\"BA\",\"MG\",\"MG\",\"RJ\",\"MS\",\"MS\",\"MG\",\"MG\",\"RJ\",\"DF\",\"RS\",\"RS\",\"PE\",\"BA\",\"RJ\",\"RJ\",\"DF\",\"DF\",\"RS\",\"PA\",\"MS\",\"RJ\",\"MG\",\"RS\",\"SP\",\"SP\",\"SP\",\"SP\",\"RJ\",\"RJ\",\"MG\",\"AM\",\"AM\",\"PA\",\"TO\",\"TO\",\"PE\",\"RJ\",\"RJ\",\"PA\",\"RS\",\"RJ\",\"PR\",\"PR\",\"PR\",\"SP\",\"RJ\",\"RJ\",\"MS\",\"MS\",\"PA\",\"RS\",\"RS\",\"PR\",\"PA\",\"RS\",\"RS\",\"PR\",\"PR\",\"PR\",\"RJ\",\"MA\",\"MA\",\"MA\",\"RJ\",\"RJ\",\"MA\",\"MA\",\"MA\",\"RJ\",\"MS\",\"MS\",\"RJ\",\"RJ\",\"MG\",\"MG\",\"RJ\",\"RJ\",\"BA\",\"BA\",\"RJ\",\"CE\",\"CE\",\"PE\",\"PE\",\"SE\",\"SE\",\"MG\",\"MG\",\"RJ\",\"SP\",\"SP\",\"SP\",\"PR\",\"PR\",\"DF\",\"DF\",\"DF\",\"RJ\",\"MA\",\"MA\",\"MA\",\"MA\",\"RN\",\"RN\",\"RJ\",\"RS\",\"RS\",\"PE\",\"MG\",\"MG\",\"MG\",\"SP\",\"MG\",\"MG\",\"RJ\",\"RJ\",\"BA\",\"BA\",\"PE\",\"PE\",\"PE\",\"PE\",\"RJ\",\"RJ\",\"SC\",\"MG\",\"RS\",\"RS\",\"PI\",\"DF\",\"BA\",\"SP\",\"SP\",\"SP\",\"DF\",\"RJ\",\"AM\",\"SE\",\"DF\",\"PE\",\"RJ\",\"RJ\",\"SP\",\"SP\",\"DF\",\"PE\",\"PE\",\"DF\",\"MG\",\"RS\",\"AM\",\"AM\",\"DF\",\"DF\",\"RJ\",\"BA\",\"BA\",\"SE\",\"RJ\",\"RJ\",\"DF\",\"RJ\",\"RJ\",\"BA\",\"BA\",\"BA\",\"AM\",\"RJ\",\"RJ\",\"RJ\",\"GO\",\"RJ\",\"DF\",\"DF\",\"DF\",\"DF\",\"DF\",\"AM\",\"AM\",\"SP\",\"RJ\",\"RJ\",\"PE\",\"AM\",\"RJ\",\"RS\",\"MG\",\"MG\",\"RJ\",\"RJ\",\"PE\",\"DF\",\"DF\",\"DF\",\"RJ\",\"DF\",\"AC\",\"GO\",\"MG\",\"RJ\",\"RJ\",\"PR\",\"RJ\",\"RJ\",\"RJ\",\"DF\",\"MG\",\"RJ\",\"SP\",\"DF\",\"DF\",\"RJ\",\"SP\",\"AM\",\"DF\",\"DF\",\"MG\",\"RJ\",\"BA\",\"AM\",\"AM\",\"PE\",\"PE\",\"RJ\",\"RJ\",\"RS\",\"RS\",\"RS\",\"PR\",\"AM\",\"AM\",\"RJ\",\"RJ\",\"RJ\",\"RS\",\"RS\",\"PR\",\"AM\",\"DF\",\"MG\",\"MG\",\"MG\",\"MA\",\"MA\",\"SP\",\"RS\",\"RJ\",\"RS\",\"RJ\",\"RJ\",\"PA\",\"PR\",\"PR\",\"MG\",\"MG\",\"AM\",\"AM\",\"CE\",\"BA\",\"SP\",\"RS\",\"MG\",\"MG\",\"AM\",\"RJ\",\"MG\",\"MG\",\"MG\",\"MG\",\"GO\",\"RJ\",\"RJ\",\"GO\",\"DF\",\"DF\",\"RJ\",\"RS\",\"RS\",\"BA\",\"BA\",\"MG\",\"RS\",\"RS\",\"RS\",\"BA\",\"TO\",\"RS\",\"RS\",\"AM\",\"AM\",\"RJ\",\"GO\",\"GO\",\"BA\",\"PR\",\"PR\",\"PR\",\"RJ\",\"RS\",\"RS\",\"RJ\",\"RJ\",\"RJ\",\"DF\",\"PA\",\"RS\",\"PE\",\"AM\",\"PE\",\"PE\",\"PE\",\"RN\",\"RJ\",\"SP\",\"SP\",\"RN\",\"MG\",\"BA\",\"MS\",\"MS\",\"MS\",\"MS\",\"SE\",\"SE\",\"PR\",\"RS\",\"RJ\",\"PI\",\"PI\",\"RN\",\"MG\",\"MG\",\"BA\",\"RJ\",\"MS\",\"RS\",\"RS\",\"CE\",\"CE\",\"CE\",\"AM\",\"AM\",\"MA\",\"MS\",\"RJ\",\"SP\",\"SP\",\"SP\",\"RS\",\"RS\",\"MG\",\"AM\",\"RS\",\"RJ\",\"AM\",\"AM\",\"AM\",\"RJ\",\"RJ\",\"DF\",\"DF\",\"DF\",\"RO\",\"BA\",\"ND\",\"AP\",\"RJ\",\"RJ\",\"RJ\",\"RJ\",\"AM\",\"AM\",\"MG\",\"PR\",\"DF\",\"DF\",\"DF\",\"BA\",\"DF\",\"DF\",\"DF\",\"DF\",\"AM\",\"RS\",\"AM\",\"AM\",\"AM\",\"RJ\",\"BA\",\"RJ\",\"RS\",\"RS\",\"BA\",\"BA\",\"SE\",\"SE\",\"SE\",\"RN\",\"GO\",\"GO\",\"PA\",\"RJ\",\"DF\",\"DF\",\"MG\",\"MG\",\"RJ\",\"RJ\",\"MG\",\"PE\",\"PE\",\"SP\",\"SP\",\"MG\",\"RS\",\"RN\",\"RN\",\"PE\",\"PE\",\"RS\",\"RS\",\"BA\",\"MA\",\"MA\",\"SP\",\"SP\",\"RS\",\"RS\",\"RJ\",\"BA\",\"MG\",\"RS\",\"PR\",\"PR\",\"PR\",\"RJ\",\"RS\",\"RS\",\"RJ\",\"RS\",\"RN\",\"CE\",\"RN\",\"PE\",\"PE\",\"RS\",\"MS\",\"MS\",\"DF\",\"DF\",\"RN\",\"RN\",\"RO\",\"RO\",\"MS\",\"RJ\",\"MS\",\"RJ\",\"DF\",\"AP\",\"MS\",\"RS\",\"MS\",\"RS\",\"RJ\",\"MS\",\"PR\",\"RJ\",\"RJ\",\"RS\",\"RS\",\"PE\",\"MT\",\"RJ\",\"RJ\",\"RS\",\"RS\",\"DF\",\"BA\",\"PE\",\"RS\",\"RS\",\"RN\",\"AM\",\"AM\",\"CE\",\"CE\",\"RS\",\"RS\",\"MG\",\"PB\",\"PB\",\"RN\",\"SP\",\"SP\",\"PR\",\"MT\",\"MT\",\"SP\",\"DF\",\"BA\",\"RS\",\"RS\",\"RS\",\"RS\",\"CE\",\"PA\",\"PA\",\"RS\",\"AL\",\"RS\",\"RS\",\"MG\",\"MG\",\"MG\",\"SP\",\"RJ\",\"BA\",\"ES\",\"ES\",\"PI\",\"PI\",\"BA\",\"BA\",\"MA\",\"MA\",\"SE\",\"SE\",\"RS\",\"RS\",\"RJ\",\"BA\",\"MT\",\"PE\",\"PE\",\"RS\",\"RS\",\"PI\",\"PI\",\"PI\",\"DF\",\"AM\",\"AM\",\"RJ\",\"PR\",\"PA\",\"PA\",\"PA\",\"PA\",\"PE\",\"PE\",\"SE\",\"AM\",\"CE\",\"CE\",\"CE\",\"CE\",\"CE\",\"PR\",\"RJ\",\"RJ\",\"SP\",\"SP\",\"PE\",\"PB\",\"PB\",\"PB\",\"RS\",\"ES\",\"MG\",\"CE\",\"BA\",\"BA\",\"MG\",\"MG\",\"RS\",\"RS\",\"AM\",\"DF\",\"DF\",\"SP\",\"SP\",\"RN\",\"RN\",\"MA\",\"CE\",\"CE\",\"RJ\",\"RJ\",\"RJ\",\"RS\",\"AM\",\"AM\",\"RS\",\"RJ\",\"RJ\",\"RJ\",\"PE\",\"TO\",\"TO\",\"MG\",\"DF\",\"DF\",\"SP\",\"AM\",\"DF\",\"RS\",\"RS\",\"PB\",\"MG\",\"MG\",\"RS\",\"RS\",\"PR\",\"PR\",\"RJ\",\"RJ\",\"DF\",\"RJ\",\"AM\",\"SP\",\"PE\",\"PE\",\"RS\",\"SP\",\"SP\",\"RJ\",\"RJ\",\"RJ\",\"RJ\",\"PI\",\"PI\",\"SP\",\"SP\",\"CE\",\"CE\",\"PE\",\"RJ\",\"RJ\",\"RJ\",\"RJ\",\"PA\",\"PA\",\"MG\",\"CE\",\"CE\",\"PE\",\"BA\",\"BA\",\"RS\",\"RS\",\"DF\",\"PI\",\"SP\",\"SP\",\"AM\",\"DF\",\"AM\",\"ES\",\"RS\",\"SP\",\"SP\",\"PB\",\"MG\",\"MG\",\"RS\",\"DF\",\"MG\",\"PR\",\"PR\",\"PB\",\"RJ\",\"DF\",\"MT\",\"MT\",\"MG\",\"TO\",\"TO\",\"MG\",\"SP\",\"SP\",\"MG\",\"DF\",\"MG\",\"DF\",\"DF\",\"PB\",\"RJ\",\"RJ\",\"RJ\",\"DF\",\"BA\",\"RJ\",\"RJ\",\"PB\",\"GO\",\"RJ\",\"RJ\",\"BA\",\"RJ\",\"RJ\",\"RJ\",\"ES\",\"AM\",\"DF\",\"DF\",\"AM\",\"ND\",\"PA\",\"RO\",\"GO\",\"SP\",\"PR\",\"RS\",\"CE\",\"BA\",\"BA\",\"DF\",\"MG\",\"GO\",\"PE\",\"PE\",\"GO\",\"AM\",\"AM\",\"RO\",\"RJ\",\"PE\",\"PE\",\"SE\",\"SE\",\"ES\",\"MG\",\"MG\",\"MG\",\"MG\",\"MG\",\"PI\",\"PI\",\"RS\",\"CE\",\"RJ\",\"RJ\",\"DF\",\"PE\",\"PI\",\"AM\",\"RJ\",\"RJ\",\"RJ\",\"PR\",\"RJ\",\"RJ\",\"BA\",\"PE\",\"PE\",\"MT\",\"MT\",\"GO\",\"GO\",\"DF\",\"RS\",\"RS\",\"DF\",\"DF\",\"PE\",\"AC\",\"AC\",\"MG\",\"PE\",\"DF\",\"RS\",\"RJ\",\"RJ\",\"RS\",\"RS\",\"RJ\",\"RJ\",\"RJ\",\"PE\",\"AM\",\"AM\",\"PI\",\"PI\",\"PB\",\"PB\",\"PB\",\"AL\",\"AL\",\"AM\",\"AM\",\"PB\",\"DF\",\"DF\",\"PB\",\"PB\",\"DF\",\"DF\",\"ES\",\"PA\",\"ES\",\"DF\",\"DF\",\"DF\",\"RS\",\"RS\",\"SC\",\"DF\",\"DF\",\"DF\",\"MG\",\"PB\",\"PB\",\"PB\",\"PB\",\"PB\",\"SE\",\"MG\",\"PR\",\"PR\",\"PB\",\"PB\",\"BA\",\"PB\",\"BA\",\"PI\",\"PI\",\"BA\",\"PE\",\"PE\",\"MG\",\"SP\",\"PE\",\"PE\",\"BA\",\"PE\",\"DF\",\"DF\",\"RJ\",\"SP\",\"RS\",\"RJ\",\"MG\",\"MG\",\"RJ\",\"RJ\",\"RJ\",\"SP\",\"SP\",\"DF\",\"PA\",\"RJ\",\"SP\",\"DF\",\"DF\",\"PR\",\"RJ\",\"RJ\",\"RJ\",\"RJ\",\"BA\",\"BA\",\"RJ\",\"PR\",\"PR\",\"MG\",\"MG\",\"DF\",\"RS\",\"RS\",\"DF\",\"DF\",\"DF\",\"SE\",\"SE\",\"RS\",\"RS\",\"GO\",\"MA\",\"PA\",\"RS\",\"DF\",\"MA\",\"GO\",\"GO\",\"RJ\",\"RJ\",\"SP\",\"RJ\",\"RJ\",\"RJ\",\"DF\",\"MG\",\"MG\",\"MS\",\"RJ\",\"RJ\",\"RJ\",\"TO\",\"RJ\",\"RJ\",\"PB\",\"PE\",\"PE\",\"PE\",\"PE\",\"AP\",\"AP\",\"GO\",\"GO\",\"RS\",\"RS\",\"RS\",\"MG\",\"SE\",\"MG\",\"PB\",\"RS\",\"PA\",\"RJ\",\"RJ\",\"RJ\",\"DF\",\"DF\",\"RS\",\"PA\",\"PE\",\"PE\",\"AP\",\"PB\",\"RS\",\"PR\",\"RS\",\"PR\",\"RS\",\"MG\",\"MG\",\"SE\",\"SE\",\"ES\",\"AP\",\"AP\",\"AP\",\"PA\",\"PA\",\"DF\",\"RJ\",\"RS\",\"AL\",\"AL\",\"RR\",\"RR\",\"PI\",\"PB\",\"PA\",\"SP\",\"PB\",\"DF\",\"DF\",\"PB\",\"PB\",\"RN\",\"RN\",\"PA\",\"RJ\",\"RJ\",\"ES\",\"ES\",\"PB\",\"RJ\",\"AP\",\"AP\",\"CE\",\"CE\",\"SP\",\"SP\",\"DF\",\"SP\",\"RS\",\"RS\",\"PE\",\"PE\",\"AP\",\"RJ\",\"PB\",\"PB\",\"PB\",\"PB\",\"PR\",\"PR\",\"PR\",\"PR\",\"PB\",\"MG\",\"DF\",\"DF\",\"DF\",\"AC\",\"AC\",\"AC\",\"AC\",\"RJ\",\"RJ\",\"RJ\",\"MG\",\"MG\",\"RJ\",\"RS\",\"MG\",\"DF\",\"RJ\",\"RJ\",\"RS\",\"RJ\",\"RJ\",\"RJ\",\"RJ\",\"RJ\",\"SP\",\"DF\",\"RJ\",\"RJ\",\"RJ\",\"GO\",\"GO\",\"SC\",\"MA\",\"MA\",\"RJ\",\"RJ\",\"RR\",\"PI\",\"AC\",\"AC\",\"AC\",\"RS\",\"MS\",\"MS\",\"BA\",\"SP\",\"CE\",\"CE\",\"MS\",\"MS\",\"RS\",\"RS\",\"RO\",\"RO\",\"RJ\",\"BA\",\"BA\",\"RO\",\"RO\",\"SP\",\"SP\",\"RS\",\"SP\",\"RJ\",\"RS\",\"PA\",\"PA\",\"RJ\",\"PR\",\"RJ\",\"SP\",\"SP\",\"ES\",\"BA\",\"SP\",\"RS\",\"RS\",\"RJ\",\"SP\",\"MG\",\"AC\",\"AC\",\"BA\",\"SC\",\"DF\",\"DF\",\"DF\",\"AM\",\"AM\",\"SP\",\"MG\",\"PA\",\"PA\",\"PA\",\"PA\",\"RJ\",\"RJ\",\"RJ\",\"RJ\",\"RJ\",\"RJ\",\"RJ\",\"RJ\",\"RJ\",\"RJ\",\"RJ\",\"PI\",\"RS\",\"RS\",\"TO\",\"RJ\",\"RJ\",\"RJ\",\"RJ\",\"RJ\",\"RJ\",\"RO\",\"RS\",\"RS\",\"SP\",\"MA\",\"RJ\",\"RJ\",\"RJ\",\"RJ\",\"RJ\",\"TO\",\"MG\",\"BA\",\"BA\",\"PE\",\"RS\",\"RS\",\"BA\",\"PA\",\"PA\",\"PA\",\"SP\",\"RS\",\"SP\",\"SP\",\"SP\",\"RS\",\"MG\",\"MG\",\"PA\",\"MA\",\"MA\",\"PE\",\"RS\",\"PE\",\"AM\",\"AM\",\"MG\",\"MG\",\"GO\",\"RS\",\"RS\",\"RS\",\"PE\",\"RJ\",\"RO\",\"SP\",\"SP\",\"MG\",\"RJ\",\"RJ\",\"PE\",\"PE\",\"SP\",\"AM\",\"SE\",\"PE\",\"PE\",\"PE\",\"RS\",\"MT\",\"RS\",\"AM\",\"AM\",\"BA\",\"MG\",\"MG\",\"RJ\",\"RJ\",\"MG\",\"MG\",\"MT\",\"RS\",\"RS\",\"RJ\",\"RJ\",\"RS\",\"MG\",\"RJ\",\"RJ\",\"MG\",\"RJ\",\"DF\",\"BA\",\"PR\",\"PE\",\"PE\",\"BA\",\"RJ\",\"SP\",\"SP\",\"DF\",\"DF\",\"RS\",\"AC\",\"RS\",\"PE\",\"DF\",\"RS\",\"RS\",\"RS\",\"PA\",\"SP\",\"PR\",\"DF\",\"DF\",\"DF\",\"DF\",\"MA\",\"MA\",\"AC\",\"AC\",\"AC\",\"PI\",\"BA\",\"BA\",\"PR\",\"RO\",\"MG\",\"DF\",\"DF\",\"RJ\",\"DF\",\"AM\",\"AM\",\"RS\",\"RS\",\"PE\",\"RS\",\"AC\",\"RS\",\"RS\",\"BA\",\"RS\",\"SP\",\"RJ\",\"RJ\",\"PA\",\"PA\",\"DF\",\"DF\",\"RJ\",\"SE\",\"SE\",\"MG\",\"BA\",\"BA\",\"RJ\",\"PA\",\"AM\",\"SP\",\"RJ\",\"PE\",\"MG\",\"PA\",\"PA\",\"RS\",\"RS\",\"PI\",\"PI\",\"RJ\",\"RS\",\"SE\",\"SE\",\"AM\",\"AM\",\"RJ\",\"MA\",\"RJ\",\"RJ\",\"RJ\",\"RJ\",\"RJ\",\"RS\",\"RS\",\"DF\",\"DF\",\"DF\",\"DF\",\"DF\",\"DF\",\"PE\",\"AM\",\"AM\",\"DF\",\"DF\",\"RJ\",\"RJ\",\"PE\",\"PE\",\"RJ\",\"RJ\",\"PE\",\"PE\",\"PR\",\"BA\",\"BA\",\"MA\",\"PR\",\"AM\",\"CE\",\"CE\",\"PE\",\"PB\",\"MS\",\"MS\",\"PR\",\"PR\",\"SE\",\"RS\",\"PB\",\"RJ\",\"PA\",\"MG\",\"MG\",\"RJ\",\"RJ\",\"RJ\",\"RS\",\"PA\",\"PA\",\"PA\",\"MG\",\"MG\",\"RS\",\"RS\",\"BA\",\"CE\",\"CE\",\"PE\",\"PE\",\"PB\",\"CE\",\"MT\",\"MT\",\"CE\",\"MT\",\"MT\",\"CE\",\"PB\",\"MS\",\"MS\",\"SP\",\"BA\",\"RJ\",\"PB\",\"PB\",\"AP\",\"DF\",\"AP\",\"PR\",\"DF\",\"DF\",\"PE\",\"PE\",\"SP\",\"AP\",\"MG\",\"MG\",\"CE\",\"CE\",\"BA\",\"SP\",\"RS\",\"MT\",\"MT\",\"CE\",\"CE\",\"PE\",\"PA\",\"PA\",\"PR\",\"CE\",\"CE\",\"CE\",\"RR\",\"RR\",\"RR\",\"RR\",\"AP\",\"RS\",\"SP\",\"SP\",\"RJ\",\"AP\",\"PB\",\"PE\",\"PE\",\"DF\",\"SP\",\"PE\",\"PE\",\"PE\",\"PE\",\"PE\",\"PE\",\"PB\",\"SP\",\"SP\",\"RS\",\"RS\",\"GO\",\"PE\",\"CE\",\"CE\",\"PB\",\"RJ\",\"MG\",\"CE\",\"MS\",\"DF\",\"DF\",\"RJ\",\"PE\",\"DF\",\"PB\",\"RJ\",\"RS\",\"RS\",\"PB\",\"PR\",\"PB\",\"CE\",\"CE\",\"PA\",\"PA\",\"RJ\",\"DF\",\"BA\",\"BA\",\"DF\",\"PB\",\"RS\",\"RS\",\"DF\",\"RJ\",\"SP\",\"SP\",\"CE\",\"RJ\",\"RJ\",\"RJ\",\"RS\",\"RS\",\"RS\",\"DF\",\"DF\",\"DF\",\"DF\",\"RS\",\"PE\",\"PE\",\"BA\",\"BA\",\"RS\",\"RS\",\"BA\",\"BA\",\"BA\",\"PB\",\"BA\",\"BA\",\"RJ\",\"RS\",\"RS\",\"RO\",\"RO\",\"RO\",\"RO\",\"RJ\",\"PR\",\"BA\",\"BA\",\"RJ\",\"MG\",\"MG\",\"RJ\",\"GO\",\"GO\",\"RJ\",\"SP\",\"SP\",\"SP\",\"SP\",\"RJ\",\"RJ\",\"SP\",\"BA\",\"MA\",\"PE\",\"RS\",\"CE\",\"CE\",\"CE\",\"CE\",\"PA\",\"CE\",\"CE\",\"CE\",\"CE\",\"RJ\",\"DF\",\"RJ\",\"SE\",\"DF\",\"RJ\",\"RJ\",\"RS\",\"PR\",\"PR\",\"PR\",\"PR\",\"RJ\",\"MG\",\"RJ\",\"SC\",\"SC\",\"MA\",\"PE\",\"AL\",\"PA\",\"PR\",\"PR\",\"RS\",\"RS\",\"PA\",\"RJ\",\"RJ\",\"RJ\",\"RJ\",\"CE\",\"RS\",\"RS\",\"MA\",\"RJ\",\"BA\",\"BA\",\"RJ\",\"RJ\",\"PB\",\"PE\",\"PE\",\"RJ\",\"RJ\",\"CE\",\"PI\",\"SP\",\"SP\",\"SP\",\"PA\",\"MG\",\"RJ\",\"RJ\",\"RJ\",\"RJ\",\"DF\",\"RJ\",\"RJ\",\"PE\",\"PE\",\"PE\",\"PE\",\"BA\",\"PB\",\"PE\",\"RS\",\"RS\",\"BA\",\"BA\",\"PI\",\"PI\",\"ES\",\"ES\",\"PB\",\"SC\",\"RJ\",\"RJ\",\"DF\",\"DF\",\"PE\",\"MG\",\"RJ\",\"PA\",\"BA\",\"CE\",\"CE\",\"RJ\",\"CE\",\"SP\",\"SP\",\"ES\",\"BA\",\"ES\",\"ES\",\"ES\",\"CE\",\"MG\",\"RS\",\"SP\",\"DF\",\"RS\",\"DF\",\"SP\",\"DF\",\"PB\",\"PB\",\"MG\",\"MG\",\"DF\",\"DF\",\"DF\",\"RJ\",\"RJ\",\"RJ\",\"RS\",\"RS\",\"MG\",\"MG\",\"PE\",\"RS\",\"GO\",\"PA\",\"CE\",\"MG\",\"SP\",\"MG\",\"MG\",\"RJ\",\"RJ\",\"RS\",\"GO\",\"GO\",\"PI\",\"RS\",\"AL\",\"RJ\",\"RJ\",\"PI\",\"PE\",\"PE\",\"AL\",\"AL\",\"CE\",\"CE\",\"RJ\",\"CE\",\"DF\",\"ND\",\"MS\",\"CE\",\"CE\",\"CE\",\"CE\",\"MS\",\"RS\",\"PE\",\"RS\",\"RS\",\"PR\",\"PE\",\"PE\",\"PE\",\"MA\",\"SP\",\"SP\",\"RS\",\"SP\",\"SP\",\"MG\",\"PR\",\"RS\",\"RS\",\"MT\",\"SP\",\"SP\",\"PE\",\"RS\",\"BA\",\"RR\",\"RR\",\"MT\",\"RJ\",\"RJ\",\"PE\",\"DF\",\"PR\",\"AL\",\"MT\",\"MT\",\"DF\",\"DF\",\"PE\",\"AM\",\"RJ\",\"AM\",\"DF\",\"PE\",\"PE\",\"MG\",\"MG\",\"PE\",\"CE\",\"CE\",\"RJ\",\"RJ\",\"RJ\",\"RJ\",\"BA\",\"MA\",\"MA\",\"AM\",\"AM\",\"RJ\",\"RJ\",\"SE\",\"RJ\",\"PR\",\"PR\",\"TO\",\"RS\",\"PE\",\"PE\",\"RN\",\"RN\",\"RS\",\"RS\",\"RS\",\"BA\",\"BA\",\"BA\",\"BA\",\"BA\",\"MG\",\"RS\",\"RS\",\"RJ\",\"RJ\",\"SC\",\"RJ\",\"PI\",\"RJ\",\"RJ\",\"MA\",\"DF\",\"DF\",\"SP\",\"DF\",\"RJ\",\"RR\",\"DF\",\"DF\",\"DF\",\"DF\",\"RJ\",\"RJ\",\"DF\",\"DF\",\"BA\",\"BA\"]},{\"axis\":{\"matches\":true},\"label\":\"pmt_valor\",\"values\":[2011.71,3129.31,976.12,2960.64,422.8,339.58,72.02,12828.9,581.98,503.98,946.11,282.91,3877.52,248.66,1250.04,4248.5,1358.57,2861.64,2596.64,2885.13,4662.24,4662.24,1707.56,2279.68,177.0,2647.71,721.14,45.07,45.07,2876.68,2581.61,37.15,34.82,1922.6,1595.98,39.32,72.02,2783.52,748.42,965.05,1084.41,9723.39,576.33,5170.67,550.29,1530.57,119.0,119.0,1862.14,1583.69,177.0,2064.42,1842.45,831.53,831.53,683.21,3703.19,1329.37,2255.1,2130.44,2433.18,1640.67,302.18,125.56,45.99,5601.2,3887.82,9630.08,5035.88,50.06,896.53,248.66,248.66,3418.52,2284.64,2341.52,333.1,546.08,1732.14,3442.94,1543.78,6294.23,2650.37,731.48,2936.34,2936.34,2936.34,4571.54,86.14,44.26,71.42,2391.36,1156.76,1832.68,1112.55,12305.22,248.66,255.26,18142.06,54.0,733.44,5839.46,2888.08,1029.41,1029.41,9604.74,1468.37,1745.04,1014.02,784.26,466.34,760.47,812.97,7500.93,306.13,513.25,2190.92,1095.46,1449.36,1318.65,39.32,36.01,3316.9,114.6,76.4,2391.94,1653.53,115.74,154.32,1198.16,3330.37,5492.65,7287.93,5796.02,2986.59,3273.4,2580.96,1184.16,491.88,983.76,266.5,4343.6,1046.36,2181.03,3392.32,1009.26,2459.85,4617.04,2210.85,1691.31,3826.31,48.17,824.06,937.78,36.46,2018.72,1009.36,756.02,660.86,1846.99,2735.11,4168.36,937.89,1137.54,888.36,196.06,828.65,730.62,2565.74,372.3,159.17,444.96,745.98,83.23,6952.86,373.0,1274.37,76.68,108.68,3526.85,1727.38,3983.78,296.28,296.28,592.77,568.77,6578.0,816.6,923.0,5402.36,7885.92,2431.86,3223.71,2168.92,2559.78,4354.81,248.66,363.42,1045.68,784.26,875.2,884.23,2479.87,30.0,3251.98,271.4,401.52,1673.19,1152.92,2588.13,755.1,591.42,1103.4,5184.66,5184.66,1463.35,702.88,9006.45,43.22,548.88,3090.75,3826.91,40.0,6752.37,6579.61,1857.36,1841.08,1550.5,1537.3,1148.45,4349.28,1035.0,1725.63,2549.95,1705.66,5090.18,393.41,393.41,11003.16,31.54,59.88,3276.02,1801.08,4538.06,3107.67,8219.22,8219.22,2281.7,175.18,134.0,136.0,845.67,418.99,3518.28,4830.51,1444.09,1405.08,4799.78,171.49,957.56,3109.58,746.54,4653.04,3105.33,1436.24,1022.42,1022.42,1515.59,437.91,334.32,3884.62,3884.62,58.5,105.04,3246.9,248.66,2748.03,274.18,383.09,5893.5,3164.28,3071.49,26.09,26.09,142.08,604.72,799.9,76.15,136.26,1536.97,2641.34,951.51,571.9,205.3,273.96,1812.04,930.55,1317.0,3886.34,265.91,1770.21,1362.02,282.1,66.84,480.58,4377.36,6050.48,6050.48,2608.93,1750.08,4929.92,1641.06,1628.0,3942.73,7696.5,7.15,6.55,328.67,816.96,4947.64,2798.64,5907.98,596.32,1624.34,10947.38,345.1,231.56,121.9,5014.32,7757.77,322.91,322.91,355.47,4365.41,9528.84,566.2,386.46,261.42,784.26,1517.26,3143.84,4184.51,1232.0,46.0,13570.81,113.49,1931.34,490.54,4657.28,51.66,2995.35,3949.04,5170.41,2194.86,156.06,59.36,3839.12,2479.12,168.0,939.6,4541.96,1354.05,1354.05,1354.05,1354.05,3523.73,672.34,1405.67,3844.02,5463.4,2817.08,2607.89,337.94,5982.22,2811.34,5156.48,79.4,6540.58,6122.87,831.08,7453.11,2472.62,3320.03,2930.94,467.6,1841.39,1750.32,6244.04,3122.02,102.0,1348.04,125.62,3251.98,3251.98,522.84,261.42,414.74,556.84,1793.52,97.14,1067.28,11423.15,6899.11,735.88,367.94,5943.83,5122.02,598.89,721.94,5390.82,61.6,5931.84,6061.76,124.5,30.0,281.76,540.84,6291.9,84.75,73.7,158.45,72.42,14140.38,31.89,3279.88,3733.9,2633.9,1956.5,2324.69,497.32,2194.7,130.56,337.94,916.08,205.93,6861.1,8081.82,2715.92,80.0,5632.56,3124.24,2065.63,75.32,1682.96,1159.16,848.98,374.97,43.34,112.86,1654.34,1625.99,2475.74,116.36,2003.86,1663.38,2830.34,6357.58,10086.56,12011.37,232.15,369.22,3523.95,3492.1,3492.1,3869.77,372.99,4852.75,1725.1,1678.87,1672.22,3029.74,30.01,9599.92,2499.52,1981.58,903.44,406.71,393.84,2157.1,2264.3,2740.57,2602.64,5592.99,615.9,915.88,3861.7,4234.43,3995.31,116.38,1316.86,348.44,696.88,5350.62,1154.66,2619.1,2309.32,3596.36,1487.74,6539.66,8267.37,179.45,2892.06,837.8,1498.73,4188.27,1344.46,1274.46,9461.38,4383.43,1547.34,1552.67,2085.57,1948.73,1975.56,1918.46,1652.63,2261.26,4068.35,2090.08,21.39,1178.06,10075.79,309.55,178.0,374.52,63.96,4062.38,600.0,900.0,1779.6,61.83,131.02,782.8,922.08,1332.82,341.18,326.14,1335.38,2553.16,198.63,1577.42,3723.86,143.81,4210.01,10186.02,18.0,1645.54,903.39,2611.22,1353.61,185.0,61.6,92.4,216.87,4482.02,107.83,28.98,423.16,3081.82,1081.22,1391.8,2490.3,2991.28,1493.15,1046.25,1635.23,1279.26,1706.28,2433.42,155.64,1292.81,1292.81,172.55,4011.41,1734.62,261.42,110.77,1149.79,2385.2,7689.53,858.56,410.81,127.58,1564.18,3437.91,1909.7,1193.46,795.64,2162.52,4004.61,63.61,55.32,406.68,747.12,2250.88,2323.26,1212.34,1479.91,756.93,18384.2,3744.68,137.09,137.09,127.36,559.89,125.28,8087.62,7765.61,7779.7,7496.94,6177.54,374.4,219.96,219.96,456.82,866.93,98.44,4950.68,516.86,491.47,2734.56,5374.02,2811.34,3453.24,3374.68,1710.74,1745.54,17.48,17.48,895.37,1530.58,1730.42,1861.13,6421.64,537.64,268.82,268.82,1817.08,167.7,71.8,1012.92,2052.89,7111.98,124.33,17373.93,4684.7,626.49,873.5,917.2,1503.49,4773.17,6304.41,4036.88,165.39,3687.5,4055.14,507.45,5954.96,906.42,1163.94,4076.45,13663.95,2939.11,114.0,62.04,3462.4,2284.35,2224.0,3343.67,1593.84,3780.5,3780.5,5078.14,6399.0,3672.12,856.37,1373.8,1097.76,2275.4,4207.62,3386.34,4151.86,2023.31,89.66,6598.55,754.88,993.78,1223.34,1680.84,2749.14,283.36,1788.61,659.78,150.15,2648.25,76.11,5876.5,965.24,297.26,251.88,1057.59,23.12,30.8,30.8,4729.26,919.6,17214.9,906.72,337.94,1955.51,992.93,2252.48,1306.99,1800.74,7840.76,2455.06,246.8,6506.65,435.07,5115.95,2556.08,2781.08,3440.64,348.53,74.69,60.76,599.04,1630.62,1509.29,1268.96,2937.65,2827.32,5520.21,3930.03,6725.71,10132.13,6083.86,735.0,1571.64,124.33,114.75,1378.08,569.64,379.76,137.09,1915.04,69.75,4528.77,858.02,1353.06,392.73,4570.35,110.16,5960.56,1269.23,70.44,70.44,332.96,332.96,332.96,486.76,489.22,1555.86,248.66,5622.68,248.66,1610.0,523.69,5218.82,2801.12,994.64,4815.44,143.42,124.72,3943.18,5567.46,2761.4,193.6,3023.96,3485.63,2312.08,1376.77,268.47,1667.09,389.23,2399.77,353.63,707.26,1458.2,1042.2,345.1,364.76,4710.56,2355.28,337.94,650.08,302.12,1741.81,2474.52,158.82,138.11,949.97,949.97,60.6,60.6,18.0,54.0,443.77,285.5,57.86,334.08,412.65,412.65,412.65,4330.29,2467.66,1286.98,208.36,1083.51,4680.48,4901.94,6320.97,6387.33,61.72,220.84,194.61,4373.88,217.94,217.94,919.6,1712.04,505.46,484.46,407.66,585.25,7.15,6.55,2882.13,2753.7,4778.66,1002.21,4480.1,1811.52,1115.91,5548.46,261.96,196.47,384.89,4009.04,491.48,217.94,217.94,623.92,814.12,2443.7,5651.24,350.0,1006.87,1950.31,2100.94,2166.52,568.77,700.75,626.28,334.33,1265.28,664.8,119.58,522.84,261.42,2434.8,118.0,672.31,14.3,6.55,337.94,659.41,8459.11,186.32,68.06,1339.3,1276.0,1276.0,137.09,95.0,717.0,3574.72,876.34,4341.08,2125.08,1178.24,1963.42,90.58,5372.97,48.76,812.87,747.51,784.26,1625.17,2816.5,3776.85,353.0,353.0,522.84,11039.43,42.86,958.6,479.3,248.66,2881.62,1358.22,1387.42,5502.59,2570.65,623.83,629.1,73.06,2578.03,2794.13,1456.71,4475.58,4475.58,7255.79,2355.8,7808.23,18166.96,1492.94,1692.21,1625.99,8.74,8.74,1820.43,1292.08,4311.98,3455.36,1958.62,979.31,3131.28,5921.97,1612.42,1422.8,1279.4,1278.8,5507.97,960.86,2774.39,6337.91,1489.52,1550.02,927.11,232.76,1683.3,1715.21,1908.61,5712.24,9386.3,188.52,367.41,575.8,6525.4,3449.06,59.01,11043.42,1645.1,1157.5,239.24,2489.18,201.0,541.38,475.32,165.56,1643.1,1749.49,4109.09,7952.48,379.22,50.86,6095.88,363.85,1763.46,522.84,982.32,842.54,842.54,2839.28,2067.87,3703.59,341.8,1765.82,1577.2,12715.01,2422.72,929.26,2971.15,2804.44,1776.51,1955.28,271.52,1483.58,2561.12,1077.54,4974.81,213.0,114.75,196.5,43.68,2735.68,355.68,237.12,2588.76,331.13,601.62,3622.03,7515.4,7515.4,958.73,893.95,5539.81,132.73,440.31,1802.6,7785.14,468.59,2146.41,406.86,406.02,274.18,2012.72,1133.67,781.52,433.13,446.74,12595.63,293.01,2990.56,97.67,97.67,1728.77,1612.34,313.5,89.76,506.48,776.48,36.0,36.0,1061.34,3184.02,176.41,798.3,580.73,611.84,543.24,406.46,878.74,1661.77,5622.68,3736.54,3736.54,30.0,1789.34,723.14,2003.41,5052.76,340.12,2528.9,2229.84,1657.2,4896.88,10855.09,2811.34,248.66,1455.87,1455.87,54.0,1388.8,5593.32,1554.32,78.02,156.04,5106.64,3721.18,3721.18,1691.41,111.82,3164.4,5867.93,1989.96,372.62,747.38,2175.71,2122.92,331.14,540.96,358.9,382.25,164.0,522.84,2230.23,1852.69,165.91,63.96,2905.41,3029.74,3526.28,994.11,156.64,1390.54,1430.17,3347.24,10744.06,6647.77,1221.88,672.74,350.43,4633.88,77.1,231.3,1730.8,2135.38,3587.84,3133.84,2300.18,4629.68,1248.27,2424.26,9122.1,2046.47,3126.06,117.84,12931.76,1530.92,157.42,101.88,61.6,67.92,67.92,61.6,61.6,73.43,2304.03,1768.4,1765.4,50.0,1562.74,1961.0,36.0,3766.56,599.1,824.86,65.1,55.75,130.71,659.42,197.04,978.02,8007.17,1327.52,4217.01,4520.0,2260.0,59.24,1732.77,5219.14,2840.2,729.52,534.49,5903.11,6334.91,4342.2,2906.8,386.76,75.28,4747.53,1416.14,358.82,358.82,9573.2,5070.14,110.49,306.96,220.98,5200.14,1824.54,248.66,4841.02,159.27,123.2,154.0,4110.64,7580.72,6124.05,12571.38,836.92,227.33,410.6,94.92,5999.62,2453.42,135.23,2674.25,1450.67,2833.84,2833.84,183.03,2175.19,2547.01,855.69,1023.67,418.76,162.24,1706.34,1627.48,863.4,1528.27,1405.67,496.77,496.77,4029.06,1454.42,436.68,3470.61,2878.25,1966.4,379.57,6034.97,10713.48,1331.58,633.49,5663.77,1301.14,1272.16,1496.88,997.92,1017.64,3607.64,3004.0,842.3,493.66,1559.34,988.82,988.82,337.94,2367.84,2988.0,920.8,715.51,718.75,793.26,1000.41,55.08,30.86,513.17,512.57,775.26,1513.68,1515.82,337.94,831.87,831.87,2976.25,325.89,2633.3,1272.0,2453.99,2723.31,2364.25,784.26,522.84,2387.52,2042.46,322.12,1438.54,2781.08,7765.26,33.81,2648.05,1484.7,1826.16,130.71,32.32,32.32,482.94,241.47,363.5,3178.0,158.87,158.87,4211.46,4768.65,5023.04,1709.71,435.63,578.6,1878.99,4908.76,4194.95,3544.61,364.75,460.38,1514.68,5891.6,373.26,3403.5,1695.67,358.9,366.22,953.9,43.34,5008.68,3639.87,68.37,1002.72,410.6,410.6,2341.48,1936.19,6091.18,1616.02,3864.53,2951.17,855.45,855.45,2587.34,1390.54,285.46,241.47,241.47,884.79,430.42,2025.97,5189.17,500.88,1085.46,6738.08,126.46,249.2,2306.82,2219.45,1137.98,4329.0,1108.09,1825.0,3169.24,1505.18,3785.3,1015.41,109.86,3716.82,808.53,52.03,1418.56,7312.78,14653.98,3537.79,4658.1,6555.56,82.44,466.29,9840.99,745.98,122.02,846.37,1103.63,95.48,95.48,188.16,376.32,30.38,1698.42,13603.12,2501.84,2214.64,4658.24,557.04,522.84,217.96,805.74,805.74,1108.74,2551.12,16358.65,534.86,1896.58,248.66,124.33,4838.33,1182.19,1307.09,90.0,2641.88,299.62,1299.62,1299.62,163.74,293.34,3192.13,1750.32,3904.66,2644.28,160.02,320.04,310.82,8910.69,2199.84,2723.6,1874.92,11281.69,2224.66,121.14,1401.06,12702.3,1137.54,11268.55,1184.04,2147.2,2099.75,5562.16,114.0,2314.85,6706.62,522.84,133.68,2120.01,2781.08,2709.44,7955.32,1916.11,1915.51,3560.39,2288.13,1074.1,3846.51,1456.5,282.83,993.81,1155.22,1512.05,4407.35,1006.0,784.26,1526.3,886.45,634.29,599.89,1497.93,9806.72,4903.36,2280.86,1637.72,4198.82,2506.14,3495.3,522.84,1663.71,1393.5,3667.83,1226.8,2296.04,8.74,171.22,1552.0,1590.21,2474.34,3974.85,1407.42,542.31,2628.6,255.26,3632.63,2626.69,713.76,3968.35,2233.13,1158.01,328.67,20.78,2110.25,144.27,130.71,3315.99,1700.34,1792.4,5125.36,2811.34,2353.57,236.0,2679.04,222.24,5026.55,183.93,1398.2,545.59,129.63,4201.57,1973.83,3562.86,2475.78,76.22,66.28,4868.76,9233.96,5332.37,7925.89,1045.38,1390.18,2592.19,3185.0,2595.0,1952.12,1952.12,2712.74,698.22,106.48,470.52,237.12,916.2,669.2,4683.51,4683.51,142.84,1581.36,4086.3,1536.38,1104.81,1748.76,392.13,954.24,6193.52,2597.76,3634.6,2187.53,36.0,517.84,1240.52,1868.39,1729.86,55.72,277.8,7416.29,68.64,132.14,152.42,531.51,3022.56,3272.27,2722.46,907.08,306.31,110.22,8676.9,709.12,1782.26,137.09,6597.57,3112.28,3065.78,3815.31,1640.13,2976.77,790.5,8675.33,4154.63,2926.78,266.7,1592.6,762.24,61.72,6049.46,11058.86,17477.64,3052.05,3405.82,3928.02,9160.36,4890.0,710.78,555.03,2790.76,1494.47,1524.5,1516.97,137.09,1159.12,1124.13,864.95,295.09,1670.8,1322.52,1322.52,331.82,54.0,606.64,71.72,1097.1,752.0,290.48,131.84,3039.86,1182.34,1005.6,42.08,1931.42,2176.88,369.41,1319.56,2159.56,1596.96,55.89,48.6,55.89,717.29,596.83,5834.12,3156.72,1006.59,1284.5,75.92,571.4,204.35,3197.46,3477.96,15068.03,154.44,1627.97,1904.98,2731.15,379.76,3826.43,1290.78,229.6,3308.98,5313.5,3377.23,3815.72,1550.38,1045.68,104.08,208.16,2221.19,1326.93,2753.87,463.2,3030.9,418.9,418.9,1408.32,428.39,6540.87,1265.15,1359.91,709.75,448.2,448.2,746.68,1215.36,6086.56,4259.88,1331.88,1182.08,855.03,1856.42,575.72,349.49,1954.76,5049.99,3441.76,3120.12,2028.77,1571.24,1441.01,11926.37,1026.66,388.79,5502.33,981.61,1963.22,7673.77,108.68,1361.7,10481.53,4349.17,866.78,1510.71,38.58,2230.38,2229.89,278.31,278.31,4243.33,248.66,8014.96,1722.9,2786.44,2018.02,5513.89,573.08,2177.4,7926.11,2613.22,659.12,1941.62,11966.33,429.69,286.46,1046.76,2006.95,497.32,7111.98,449.82,912.14,443.18,1139.72,890.83,91.8,43.21,26539.42,6690.76,535.69,870.98,52.4,2272.04,2551.94,1601.04,2328.82,98.52,19.33,1018.85,2037.7,62.85,62.85,332.96,8052.04,2811.34,917.48,287.94,287.94,5510.97,2094.5,234.09,2761.13,1791.61,1567.29,1052.28,526.14,3282.56,1841.18,2520.02,2328.46,274.18,2299.52,370.35,934.47,4181.86,1784.15,615.9,6393.9,3275.98,1204.74,1140.54,1500.6,76.98,1761.95,1696.51,3276.17,2976.76,4269.29,2072.5,1583.76,215.32,3328.5,1147.88,935.23,578.0,15574.55,17664.54,693.39,772.63,1037.72,854.82,57.0,2491.62,4334.34,3113.26,1892.74,7679.44,7901.82,3771.35,1532.19,140.1,1536.81,10242.51,380.0,2754.43,3168.44,483.79,498.13,4465.86,1718.83,3929.48,497.32,248.66,3684.01,1348.0,1256.34,1507.66,1816.28,7511.54,3073.94,3648.13,137.09,137.09,1557.63,2208.92,548.36,6374.7,4597.59,253.42,1594.61,1594.61,1679.19,8364.97,86.42,1052.13,8022.37,8498.28,1112.63,4824.05,9648.1,2719.66,2811.34,1762.06,5492.02,6467.66,1129.7,1156.24,3328.8,3569.27,699.8,675.88,2122.3,784.13,895.06,1423.08,1627.27,340.46,3111.98,684.96,628.14,678.41,6898.56,284.66,9665.24,3741.08,2031.55,4721.91,3940.54,295.05,3534.0,11.9,30.0,60.89,121.78,169.11,169.11,6161.6,1926.46,2650.37,3049.04,1780.33,591.25,132.42,2553.5,3181.0,2101.78,2468.09,2562.9,636.17,413.61,455.04,274.18,2294.77,1350.75,5511.62,7416.34,279.0,279.0,1387.99,919.45,1044.49,2227.98,103.76,101.96,305.88,30.8,1744.05,4972.46,392.13,7478.72,1438.45,3867.96,1770.06,331.82,4220.58,1699.49,1860.72,1297.05,2396.46,2552.46,1903.35,1455.76,9164.55,5698.9,774.91,2091.06,796.26,2225.37,2171.21,13290.92,2221.56,7266.96,137.09,274.18,7429.59,728.98,2756.24,2004.04,2227.95,7660.92,8895.72,4611.47,1629.79,1517.79,3295.87,3399.5,168.97,541.6,136.0,2439.24,1927.09,2000.1,2308.7,445.54,2006.98,1488.71,2617.88,1378.24,3989.31,473.2,214.3,726.0,394.44,394.44,124.33,124.33,2232.28,10149.42,4819.64,850.2,2846.21,3360.77,502.41,306.28,10807.12,1529.02,54.85,46.95,1280.13,1280.13,2996.4,572.6,6361.69,13909.58,50.83,1362.39,48.7,5494.96,5374.02,2931.87,7795.75,1075.06,1075.06,2150.12,2150.12,6899.99,284.6,5374.02,5125.36,8533.25,398.0,329.0,4746.78,3191.91,2948.42,3001.5,1000.5,124.33,586.67,3199.04,1514.87,784.26,2823.06,190.15,1064.68,270.48,3600.0,147.91,106.33,126.08,4450.58,2611.99,1249.93,853.12,383.16,3141.5,734.46,2649.09,7.15,6.55,493.87,987.74,1997.06,1574.28,1022.99,109.72,1269.99,1071.99,5910.55,3275.09,1419.58,594.13,689.29,188.16,21.6,918.25,550.0,106.89,3528.56,218.57,1533.58,95.34,95.34,105.04,2035.51,1532.22,2532.0,1309.33,2477.93,7615.62,474.76,1789.71,3766.13,1853.94,9197.74,10104.51,1600.43,1123.05,8470.08,1361.74,529.49,1058.98,2569.8,4086.3,1059.97,31.28,31.28,1209.61,4010.57,3066.49,261.42,498.5,5593.37,1237.77,2419.8,281.86,70.62,373.47,999.12,397.13,2792.12,11671.13,261.42,2463.86,2170.8,261.42,1781.32,3395.04,366.46,117.9,261.42,252.7,2647.06,2260.2,248.66,248.66,764.68,2734.2,5403.6,2305.77,677.66,1806.55,3380.5,2750.73,3070.41,914.4,137.24,11804.08,17007.09,4526.58,2702.51,141.97,60.26,68.14,114.75,98.25,411.1,187.53,707.39,924.66,4493.32,49.88,3126.73,3595.46,2540.44,1738.03,1117.78,3106.45,123.52,360.12,720.24,360.12,486.42,1164.34,2815.1,3804.33,3068.57,7608.66,2920.83,6137.14,734.31,1482.13,9281.28,1065.18,145.44,55.08,497.32,248.66,2270.3,2084.1,3042.46,522.73,896.83,1885.11,4672.04,2605.58,1617.58,1408.45,4295.13,812.96,2631.7,136.7,5302.86,59.5,3633.68,48.61,1530.0,1530.0,127.63,2690.6,1345.3,1508.24,1555.32,500.0,57.82,57.82,2791.84,30.0,6575.98,3145.2,7029.28,2860.65,1865.52,1811.79,696.4,4398.3,2173.58,1944.94,1078.98,17061.15,3309.48,809.32,447.76,2100.83,6997.14,66.0,703.34,658.76,339.85,575.12,1526.65,196.5,1711.61,2398.82,6863.3,1828.07,248.66,2381.71,2840.56,309.36,309.36,1625.99,1818.34,185.2,276.72,368.79,3001.05,4175.46,1019.8,1235.72,711.88,36.0,2694.92,2298.78,1533.64,78.03,949.51,5718.12,49.5,16195.31,1242.42,1653.03,1501.66,683.79,521.31,2309.24,507.36,306.06,718.3,799.31,61.72,122.45,7726.0,1287.24,546.28,399.2,799.99,533.24,2958.26,299.16,495.37,338.81,186.75,72.0,357.0,8229.27,248.66,1684.72,1438.02,1438.02,2199.02,6068.7,2778.77,744.03,793.7,1008.18,1023.46,2609.08,1426.59,1866.1,1566.8,2119.59,8076.0,2379.02,1224.19,136.0,3692.93,26.32,78.96,555.66,1142.15,1137.54,2692.18,1576.72,181.59,157.91,681.66,1354.64,4505.3,2092.46,261.42,8432.91,11623.41,6154.14,6154.14,4092.27,3754.55,94.38,8906.08,331.82,6668.85,5494.42,1355.48,3956.16,90.52,181.04,655.44,571.74,41.85,5317.35,1443.91,2404.46,1744.85,2276.11,1176.4,1118.02,337.94,829.84,375.9,697.8,522.84,1999.4,1717.75,3143.5,16694.63,8408.83,3491.68,3500.64,265.91,1255.25,32.1,1824.88,1993.44,1565.18,408.3,356.7,2544.03,1610.99,2015.57,1995.23,3690.58,2537.21,1491.05,1607.43,10578.4,9130.27,605.31,388.79,1289.63,1220.72,371.03,991.13,601.74,886.82,8844.5,12865.58,167.7,71.8,3733.94,1966.38,2672.08,1966.38,199.0,943.26,136.0,10873.7,46.0,1261.33,1219.39,1457.35,4124.97,42.0,42.0,1781.27,113.66,6181.34,3507.01,2960.05,260.8,168.97,1423.62,2338.02,10206.68,8324.08,61.72,61.72,261.42,457.92,1143.07,2625.9,400.42,467.9,187.7,1325.66,650.08,344.77,1522.12,1704.77,4431.24,6818.62,30.8,784.26,1663.6,1663.6,2389.99,1092.16,6177.06,516.14,2400.46,1824.14,150.76,301.52,251.64,26.34,1396.6,288.82,909.75,4081.94,618.84,1551.13,1160.86,932.99,932.99,118.0,490.88,6903.9,1120.38,1120.38,781.5,199.0,3146.67,2092.68,1106.45,3880.26,6303.3,517.94,3407.28,7293.39,4369.56,22390.25,3427.92,1909.03,248.66,3372.1,2196.31,1005.88,1647.59,1625.99,240.7,43.37,1049.9,207.65,295.31,1092.65,1092.65,4080.81,2258.88,1405.67,2697.2,6224.78,847.1,1694.2,337.94,892.64,1235.56,905.81,2605.44,1562.2,999.8,49.55,5648.58,2297.89,1485.62,1409.82,435.55,3191.45,149.23,149.23,156.91,465.52,1418.4,727.78,1885.84,186.26,217.82,280.55,295.56,10293.94,94.38,54.17,2287.58,2402.46,4246.01,2741.72,53.03,99.0,354.94,298.61,422.07,8922.0,2179.24,51.88,4364.08,1244.96,328.04,1870.12,2099.99,1242.52,1208.55,3251.98,3251.98,2350.22,4042.44,895.6,99.01,86.1,1941.77,4297.16,3715.92,5293.78,3251.98,1558.93,1690.56,586.7,208.22,104.11,104.11,729.26,2378.73,2378.73,383.16,383.16,83.85,143.6,155.65,215.0,1717.8,5569.58,3671.94,3671.94,2145.32,3841.98,11581.61,8381.94,461.32,252.7,3060.0,5622.68,2700.52,3668.7,3217.51,4223.07,560.21,1678.76,2363.84,1484.38,1455.51,551.62,987.32,830.26,284.42,11413.16,348.44,177.7,170.74,2599.16,176.01,1588.13,1258.28,823.28,3051.32,2188.43,1910.83,5058.99,1468.56,798.16,798.16,2234.68,2916.4,249.07,498.14,4483.12,61.56,3089.08,1590.97,179.06,33.8,1611.67,1769.59,213.98,2028.82,1829.78,177.64,2606.6,3645.4,1855.28,1989.66,992.9,2221.95,1386.98,2773.96,2773.96,329.58,3718.6,7437.2,690.12,807.54,3459.22,25.28,1318.33,1953.89,3656.33,1850.13,363.41,2100.0,6323.19,966.13,1932.26,3787.76,600.11,2888.79,2883.77,5647.08,1830.78,12528.62,1507.04,1193.02,30.8,632.57,526.18,274.18,10531.32,1028.22,1952.39,211.02,5167.61,319.82,1510.31,2016.3,2233.2,2811.34,2811.34,636.0,723.43,723.43,3470.43,4375.64,3359.8,4319.04,138.68,114.75,98.25,8995.14,6758.26,10737.86,45.42,245.44,548.36,4985.66,6570.16,3128.78,531.48,1580.78,1025.74,2193.19,2335.52,5588.23,654.14,3505.92,1828.63,759.92,1633.18,3925.58,5613.74,2157.74,2057.38,3328.42,5231.1,1520.89,206.06,145.02,764.95,2390.37,3645.78,132.32,6968.67,3719.12,2996.13,268.93,268.93,131.73,261.62,227.5,442.12,227.5,514.83,248.65,2660.59,3227.35,4423.76,1586.35,1557.77,497.32,4630.6,4701.54,293.54,438.54,1811.46,6915.95,7608.26,7608.26,98.52,1874.65,353.88,125.52,421.52,2127.78,4255.56,641.58,1612.88,1570.76,1648.95,150.73,526.63,1639.2,902.4,504.2,540.0,5651.45,1888.98,261.59,406.39,48.02,2389.79,1176.91,1490.56,1590.05,137.09,1838.17,3346.5,4245.49,1971.18,1544.95,1544.95,2474.98,232.02,1122.18,423.76,3143.41,6089.14,695.93,4126.34,3333.0,1110.46,1344.6,1877.83,1949.85,2220.5,1493.62,798.72,62.5,891.48,5209.62,5209.62,36.0,118.57,61.72,3834.22,7606.36,3175.4,44.54,2221.22,1467.36,3387.38,2934.72,1727.58,1594.2,695.88,337.94,2562.68,11674.24,13274.34,11163.68,18091.46,4302.71,2947.85,9.66,3934.86,8113.0,856.91,856.91,681.5,2938.2,3862.86,2929.32,2639.66,46.0,2715.86,4948.66,3527.23,5114.84,8434.02,191.14,3074.31,2666.1,5965.16,1678.58,1678.58,1761.79,1305.59,3044.5,16.18,1676.9,1676.9,522.84,1496.69,1108.54,315.64,315.64,2937.58,631.28,15402.74,3937.79,950.6,1738.56,2549.67,1770.47,1405.81,1435.35,1559.68,248.66,96.49,95.89,4585.34,2094.71,777.0,994.64,986.01,680.1,110.16,2983.43,925.8,5609.7,2365.08,229.16,747.32,286.0,798.28,320.38,3135.45,563.2,2571.96,462.14,1600.93,5706.68,5166.78,897.81,748.97,886.93,2421.25,2268.56,311.46,302.11,153.18,4578.56,1958.76,371.33,371.33,1693.29,3003.32,371.33,371.33,1693.29,1649.99,3049.56,1999.08,2137.76,1402.16,1493.96,1336.65,407.3,317.71,1279.42,810.29,546.96,3278.6,7669.82,9596.61,1050.24,87.62,5313.27,7503.62,1592.45,27.44,2969.35,94.1,344.26,1488.9,585.2,2201.55,482.94,3584.5,497.32,2776.62,3168.0,3287.08,3466.53,1860.26,1860.26,225.69,2709.54,1207.76,7857.9,44.0,364.06,366.82,3982.29,2726.22,2264.64,1021.17,143.4,8527.76,6459.42,2660.44,1139.04,946.66,668.58,604.61,932.55,1323.46,3223.41,1104.27,349.67,256.71,651.41,780.08,5684.28,175.55,174.77,6421.52,1780.74,1394.54,4650.24,7529.11,11748.67,4858.76,2942.05,3960.06,3501.62,6503.21,217.82,1755.52,3604.12,9954.85,1314.64,1281.64,6479.36,3626.26,4267.92,5607.27,1372.52,4919.27,2570.73,2758.05,1516.08,1330.68,3251.98,3088.47,3772.65,1508.43,3269.11,2209.72,4638.01,10068.52,155.13,855.0,10561.66,1415.24,137.09,599.09,253.42,621.99,3192.84,1670.03,1674.05,61.6,30.8,6214.78,276.14,2912.96,8132.71,185.18,1771.94,1682.47,95.94,559.04,807.7,469.27,5334.76,1730.0,1730.0,1001.66,24.88,2733.33,123.46,123.46,114.75,98.25,213.0,4530.15,1731.34,4691.92,4248.84,236.0,1341.16,2704.86,3238.48,1045.68,4741.25,4741.25,23.0,3905.61,504.51,1009.02,775.56,1105.38,1534.5,99.38,2033.76,2033.76,1569.14,1806.59,1756.87,3563.46,2921.98,703.99,617.22,1982.17,1982.17,754.34,2072.04,1140.0,7213.7,16950.22,5243.81,2348.52,1611.15,42.83,42.23,330.0,1189.08,2125.27,6130.97,3251.98,4442.56,119.38,5388.1,2189.24,3045.77,150.37,908.21,967.16,6881.92,3981.05,2485.65,46.0,23.0,454.91,273.69,4306.86,5288.74,1895.76,2305.68,2202.98,2790.5,4584.95,67.02,241.47,241.47,241.47,241.47,5114.66,245.47,1125.99,1996.28,1777.64,52.47,52.47,2021.06,745.53,712.88,1146.6,2042.6,186.63,1194.03,6803.88,4167.96,61.72,61.72,206.92,248.66,3299.19,4086.3,606.97,1213.94,26689.0,140.93,30.57,353.88,361.92,136.7,76.56,66.58,979.28,1214.98,2368.2,607.49,439.5,4768.72,607.86,63.82,66.98,30.0,1797.11,1577.2,1198.5,1780.2,3233.69,3742.78,245.44,2858.62,273.04,602.18,978.82,2691.38,63.52,63.52,497.73,126.31,3439.56,2821.92,1885.5,261.42,337.94,2039.51,1841.53,1960.81,23630.5,532.69,16837.66,1065.38,1755.05,2618.59,4447.37,944.33,1454.64,152.32,893.3,1698.73,1776.6,1627.65,8307.54,584.42,57.06,763.11,2525.34,1681.3,1437.42,1762.14,3638.14,6402.64,418.76,683.16,3374.54,2944.94,276.87,36.0,36.0,14881.74,11402.03,3227.46,5697.74,4298.98,382.4,66.75,133.5,1876.82,337.94,1256.36,1557.53,3115.06,1437.63,2229.86,3946.11,1217.16,1890.88,2811.34,202.34,5710.66,117.72,999.15,799.12,85.58,3678.92,522.84,1614.68,1922.9,15181.87,4086.3,2279.19,36.0,1264.55,1565.53,1704.0,276.53,4276.91,3883.64,6872.91,154.96,154.96,1412.98,3040.78,2479.26,884.94,219.77,4230.02,2976.57,2794.38,2794.38,2672.12,618.66,522.84,95.48,441.99,5160.36,51.38,1888.04,1485.65,23.0,46.0,1609.15,1319.56,1966.37,504.96,86.42,1830.14,1240.98,1235.84,2520.29,1981.4,4239.09,5129.18,2996.84,4058.35,5577.12,2108.41,10505.17,14198.94,12873.62,12465.7,1216.28,496.17,4350.38,4807.66,1510.32,2168.36,3100.32,3038.52,3536.1,48.64,3255.99,35.7,40.74,3112.02,319.67,204.92,2232.87,1964.31,1193.36,2823.86,279.84,279.84,7767.59,682.17,340.0,71.8,994.64,55.71,55.91,216.1,357.99,283.78,1793.74,403.79,403.79,8475.58,59.24,35.52,1778.66,5249.69,2811.34,1881.0,1556.35,2311.92,2155.89,1781.59,527.01,13983.81,1283.93,1283.33,2061.64,2061.64,3273.21,10929.9,16335.85,114.58,229.16,453.91,137.86,3992.07,7681.68,4749.14,12223.66,2872.29,5350.64,135.88,203.82,7714.8,1319.21,1455.76,1483.82,1756.7,241.09,3395.81,3395.81,4060.03,3625.45,2129.0,761.86,761.86,71.48,1583.96,1166.21,1165.61,832.1,41.48,1405.67,307.46,3241.98,132.73,265.46,521.37,543.36,2744.6,931.04,1105.14,2432.26,730.74,59.0,3003.32,248.66,3784.97,4140.62,185.2,2935.67,2811.34,2811.34,693.87,1539.98,379.76,127.63,1329.57,115.23,798.44,797.84,486.25,519.72,4171.08,101.66,101.66,5847.19,2977.14,286.44,2896.42,4036.48,2183.41,2579.12,38.69,261.42,732.58,2228.04,3160.0,1335.81,166.12,3861.62,1871.44,114.21,228.42,59.42,292.92,31.31,646.72,2106.62,2463.17,932.3,6753.72,6753.72,27418.01,782.84,1565.68,170.77,1390.54,1433.73,750.24,2481.84,3352.76,2614.23,4825.76,335.36,4053.36,2977.85,3061.74,2670.74,1530.0,973.09,24.12,2568.11,2671.46,345.1,1547.26,4608.26,3432.79,261.5,297.64,245.44,3261.3,3562.34,1738.28,3977.69,36.0,985.62,1482.08,17686.65,5459.94,4748.16,5074.55,5467.0,1219.14,388.56,2299.52,1531.76,85.59,7562.57,7438.24,153.36,51.12,2587.04,1077.95,1080.27,732.55,2404.07,689.37,78.64,36.01,933.64,1659.05,124.33,513.27,155.76,404.06,2656.75,337.94,115.88,115.88,115.88,1432.63,996.63,497.32,217.7,3559.58,1538.13,2036.16,620.9,98.0,775.91,1384.62,10763.9,10763.9,1641.71,124.33,2713.56,1817.18,907.46,90.84,870.95,913.47,497.32,3074.45,165.91,173.88,337.94,1409.38,4971.0,772.85,832.38,5773.5,442.92,221.46,2567.51,938.31,1533.26,61.72,92.58,618.72,327.63,218.42,465.1,168.0,637.86,58.99,58.99,1511.17,8053.29,1149.66,1083.38,1116.41,30.86,6523.0,1259.72,619.09,3343.16,934.62,934.62,4938.66,5335.01,4265.8,174.03,1016.73,11460.84,3968.35,6776.54,2076.16,4108.73,6561.05,3737.44,45.99,2888.34,1545.76,2340.19,1625.99,86.42,1223.93,1223.93,283.64,1973.47,1561.31,2054.3,1610.6,243.96,2612.56,3696.71,2596.71,1771.14,618.72,309.36,92.6,337.94,9374.87,353.85,353.85,40.0,117.0,117.0,5317.93,2964.89,2268.05,2519.0,8624.74,26.0,13.0,26.0,1181.04,1181.04,6273.5,460.08,3877.14,3135.92,248.66,522.84,261.42,4017.22,3109.56,119.28,144.52,6561.01,3888.36,522.84,318.0,188.88,49.85,704.01,753.86,4324.32,1704.64,1783.82,3838.92,1269.66,1323.58,1302.44,1323.58,150.38,11194.36,5615.3,4544.03,2030.88,497.32,168.94,4115.82,406.96,6571.56,4901.94,31.68,1844.32,3203.31,1298.65,2962.28,2962.28,3386.61,5481.22,9653.48,5724.49,3735.38,5585.68,3625.12,283.6,4886.76,1988.1,304.66,2327.52,905.06,894.86,4092.68,375.9,643.8,1259.83,1390.54,1072.0,3152.76,543.0,409.92,497.32,248.66,1462.72,1940.02,522.84,3120.8,740.79,65.94,81.04,1842.63,567.67,49.88,714.95,1761.31,255.26,2118.68,1949.53,4068.21,2809.26,51.56,51.56,411.27,310.17,7779.68,1698.53,110.02,323.87,562.72,1572.32,1014.68,470.0,1277.34,222.86,458.25,352.19,586.58,586.58,4713.24,35.8,4938.94,2154.0,6869.95,2984.5,3522.76,44.88,1303.12,176.97,6188.22,1925.77,193.38,1476.32,1013.92,568.55,570.85,49.69,510.52,1910.06,7966.04,496.8,1030.2,55.16,261.42,129.63,1066.72,1090.83,2263.62,2904.0,2904.0,6561.76,470.97,3220.68,659.28,2353.52,2318.05,4636.1,3240.01,1329.76,232.06,392.95,3176.97,134.6,61.6,3415.82,97.02,1202.45,1218.82,1742.69,1508.15,2687.01,4391.42,1944.79,339.44,992.58,1028.09,1626.14,2594.18,8746.76,18.0,2246.64,512.99,3796.74,2674.92,1810.36,1678.98,1678.98,3043.96,1521.98,1827.19,1098.3,142.75,1219.17,900.92,917.32,2495.24,3724.62,3487.44,163.02,54.34,3359.33,6718.66,109.03,830.6,43.2,30.0,295.94,1452.87,2719.98,940.18,4040.91,2782.41,2781.08,2564.38,1530.0,1530.0,3842.03,4747.26,3334.41,1708.42,1625.99,1708.42,1625.99,611.02,10195.49,6824.25,2258.48,4837.92,3152.0,1530.23,2749.05,1411.8,8792.78,4471.46,3267.93,1177.82,306.44,230.22,1864.78,527.17,998.07,457.15,95.48,2935.9,522.84,1994.94,2934.76,3274.48,6503.96,4073.36,3023.42,6274.8,2489.22,633.63,2703.94,261.42,558.47,1645.21,159.34,1754.48,4441.42,434.58,332.96,441.68,2157.4,548.36,3775.76,1194.85,349.14,639.5,3308.78,552.22,552.22,1666.38,2832.84,2761.72,3282.21,7041.08,1555.54,1625.99,2653.18,1832.91,1373.99,593.3,9178.81,582.6,3034.84,2811.34,8178.22,9315.12,6580.19,780.91,1108.12,976.52,380.59,1994.09,1374.88,654.47,70.74,586.41,1316.55,728.12,129.85,59.9,129.85,129.85,678.92,678.92,2796.84,3022.81,222.58,117.67,34.18,34.18,2952.77,6175.3,2020.52,6242.2,9054.06,9054.06,392.13,273.04,261.42,398.19,2577.3,71.15,142.3,323.34,18.0,18.0,516.86,792.12,54.0,4446.82,2225.63,176.41,3251.98,330.21,47.74,95.48,1321.32,7071.93,4714.62,36.0,5449.1,4041.79,835.29,538.35,7047.5,2584.24,1564.39,1834.38,1208.68,2055.93,546.08,2347.61,733.42,5161.86,1803.22,944.32,1872.6,373.0,373.0,5652.01,3236.92,525.35,1880.79,693.78,111.07,3983.09,1667.67,2827.48,725.2,118.0,2083.06,1005.2,8288.66,155.28,2071.8,3878.52,4774.53,4161.03,5600.13,3930.84,114.0,6417.1,2707.93,5566.53,1938.82,1625.99,3135.87,246.42,395.49,248.98,1853.01,1693.69,9258.62,516.46,1137.95,109.7,46.95,261.42,373.0,581.58,4765.14,1525.28,190.96,3469.78,900.9,1129.72,5635.62,124.26,68.62,68.62,2565.76,1946.88,1897.02,2692.77,2099.97,208.22,208.22,4861.28,228.15,3349.1,2985.3,451.6,2783.71,1750.63,3198.92,1417.9,248.66,767.79,1569.4,3087.95,16306.54,3276.2,5945.26,2130.24,2768.83,1849.29,940.61,130.71,130.71,1338.02,217.36,124.33,124.33,1960.5,2541.16,2691.8,15.82,15.82,2395.63,2080.21,124.33,6255.3,1493.72,3185.9,1647.05,1421.82,313.82,432.32,248.66,4573.42,755.25,3003.67,5702.54,4963.92,2903.1,6034.6,2880.64,3420.26,2674.18,1387.43,53.16,252.75,5260.45,5260.45,5570.0,5715.22,811.02,337.94,964.95,358.33,443.9,2283.9,2335.6,714.81,412.47,2002.98,3996.98,470.45,55.8,1730.1,1853.55,2648.8,2139.44,166.18,72.26,5252.48,548.36,7571.92,4359.22,2668.09,118.0,176.97,32.18,552.86,378.45,703.42,556.33,375.88,27226.56,24216.08,180.0,5695.49,1690.24,211.88,2422.21,1627.96,148.42,13.1,1031.21,1770.34,1870.86,1377.42,549.2,429.66,130.71,351.46,1584.85,1591.56,10619.89,2590.2,114.72,3561.96,2586.46,2586.46,1264.89,1264.89,1374.4,1506.62,414.2,918.26,10493.78,345.1,110.0,1505.32,3118.2,6236.4,1088.0,11891.84,618.72,23596.56,4984.48,4984.48,9613.26,599.55,318.85,5124.51,860.82,1721.64,2062.0,2546.83,92.28,2346.48,3531.62,205.04,66.81,410.08,289.79,3267.86,1665.86,116.38,267.79,69.04,849.63,2276.21,700.08,67.08,2680.63,69.96,3920.98,3227.68,261.42,3086.49,1112.88,2335.32,2868.6,774.62,6599.16,485.48,242.74,158.02,15318.88,2002.46,1199.76,7557.93,564.29,592.6,23.0,46.0,832.04,656.69,34.26,85.8,282.4,7969.09,7096.78,242.2,2648.56,3540.49,96.79,4078.08,2039.04,2656.16,2729.17,3559.92,6349.61,149.78,236.0,2416.06,5283.54,3522.36,2777.4,2249.06,117.42,117.42,15497.82,1578.62,1555.67,3183.56,1651.9,5675.12,235.22,11404.59,6431.97,172.55,358.9,1783.4,546.08,60.0,3242.38,1161.0,11020.46,533.91,312.3,83.53,5130.69,1521.69,838.15,2355.65,117.42,3411.46,2810.1,114.8,291.15,1190.52,1986.74,1589.43,918.58,790.91,3719.12,3719.12,3719.12,3719.12,3260.98,1638.43,375.0,990.77,1336.18,50.42,74.54,388.86,601.98,1538.01,1683.95,5313.5,9432.01,6927.99,2141.12,2141.12,2939.2,5733.28,204.0,1894.69,1178.52,1339.22,5621.53,3440.15,193.58,1335.07,810.32,8418.07,12967.54,3101.03,8791.26,1762.41,130.71,1893.12,427.74,1168.17,382.01,3251.98,1179.52,2068.03,568.77,2922.89,4075.75,11872.82,12115.86,1144.86,1144.86,337.94,43.21,86.42,1662.36,1065.83,117.8,448.06,3906.17,999.92,648.44,3506.63,1008.91,118.02,7071.41,1898.81,493.4,190.96,190.96,1146.3,9910.94,1818.43,1895.89,223.85,809.38,3053.06,69.0,2503.71,4079.13,835.1,1250.95,424.58,5533.3,1568.78,4035.31,3914.47,18331.74,4165.86,4555.53,3313.48,4587.7,3313.48,11.69,11.69,1753.28,912.02,213.09,144.24,667.84,163.02,3433.13,2597.41,9258.62,13974.58,1464.85,784.74,61.16,1017.91,1017.91,976.85,1794.49,698.14,419.64,259.69,264.94,1866.7,11375.08,286.08,47.64,2440.0,2265.0,383.51,765.82,1040.74,36.0,2514.26,2514.26,310.92,532.21,738.58,2296.2,512.54,768.81,512.54,4873.36,1104.89,4951.44,185.19,9135.67,2937.93,1182.76,2241.19,3771.23,1826.78,1826.78,2310.22,2830.22,154.12,497.32,248.66,47.0,94.0,324.0,3349.84,5013.11,6188.89,3393.85,1589.26,824.0,1744.24,46.58,261.42,1637.16,3514.67,5448.98,10371.06,54.0,123.46,337.94,1405.67,2811.34,12674.62,89.76,337.94,2811.34,3520.7,2908.06,74.08,1765.96,881.24,161.09,56.15,2151.18,5597.83,635.84,1086.7,676.7,2556.33,2348.2,3600.16,54.0,989.65,900.9,54.0,898.18,1238.98,137.09,120.38,3124.29,4323.14,231.22,264.63,1479.91,1405.67,952.85,1663.56,5891.43,4407.71,115.75,4788.2,4517.1,1235.26,7502.58,165.91,175.32,13747.77,67.68,7387.72,2429.95,2850.28,853.43,4973.6,1531.11,220.68,2625.24,2599.94,2066.97,747.75,1074.88,1416.12,659.98,44.24,1373.27,1373.27,4142.72,182.03,3056.94,6516.05,2915.51,2280.92,497.32,770.04,60.32,3096.82,3096.82,3619.88,2781.82,19474.65,4881.17,4642.33,2699.94,1483.68,3251.98,3500.64,1413.38,671.03,1988.02,5096.36,217.94,217.94,225.82,2031.92,1702.69,52.38,274.18,81.04,4543.66,1144.63,1144.63,956.1,950.0,57.22,85.83,1775.77,1020.38,49.83,232.76,386.29,346.91,5358.58,2039.89,4128.47,1648.03,3058.08,1648.03,5353.56,1818.51,1212.34,7371.11,1238.62,182.03,364.06,364.06,364.06,163.02,11638.98,190.96,1025.58,2217.92,337.94,2056.1,1677.23,3251.98,2056.84,274.18,652.04,652.04,6539.0,624.2,462.61,2704.78,5727.54,2877.89,1096.85,522.84,335.1,4143.06,2144.28,586.89,1191.85,2830.88,3040.28,440.06,2588.44,55.8,40.52,170.71,157.21,575.96,1521.93,426.33,1808.16,2096.87,1312.18,695.89,142.33,142.33,3926.82,5996.3,61.6,1727.59,1705.99,101.66,50.83,3700.62,80.33,278.36,1508.16,7330.45,3799.61,3491.03,554.31,909.78,1212.36,1613.6,337.94,7144.1,1254.52,682.47,1786.13,3720.69,68.0,4690.95,1578.71,659.78,1064.24,6113.52,5945.9,5913.08,3161.18,18.0,18.0,6590.75,4201.42,4479.46,9791.22,496.25,5300.77,609.57,2198.1,1961.1,6028.67,623.56,580.66,326.61,4946.6,223.75,631.86,4609.6,4609.6,2354.49,2376.83,484.5,20.12,6172.37,3805.73,114.0,4923.63,1006.82,499.45,434.31,2193.72,21364.14,148.33,124.33,31.8,15.9,3275.98,31.8,2543.08,1392.98,564.96,41.53,43.15,485.63,410.6,1531.35,2066.15,555.3,353.88,4980.08,226.88,536.67,1699.44,1621.8,1298.0,248.66,2698.37,798.3,4834.24,1224.29,2565.41,442.64,7819.86,1247.7,1269.99,61.6,39.32,3241.72,3832.12,7245.0,3062.84,6013.5,1075.5,234.84,582.91,360.67,6577.69,2340.72,954.64,168.97,337.94,5205.83,737.01,2111.63,5878.18,6590.01,2402.83,5099.54,8686.2,9512.76,4607.27,217.94,248.66,248.66,2909.28,1238.27,1567.38,1853.49,92.4,30.8,39.32,1111.74,362.92,49.09,6905.77,1712.39,2120.87,394.92,394.92,712.52,712.52,7092.33,4479.96,140.07,93.38,168.97,54.0,36.0,2277.9,2214.91,1000.0,384.76,868.96,248.66,1640.9,3347.75,1212.44,1170.12,1070.13,623.78,2002.56,88.8,3441.12,571.68,1461.27,1245.34,1245.34,281.86,2956.83,2956.83,3259.13,2971.68,846.4,167.61,1543.93,337.94,197.04,603.03,2051.28,3548.57,1134.18,916.22,433.14,433.14,1509.88,2299.52,1588.25,1350.49,2064.97,5290.52,54.34,99.69,3194.05,229.5,196.5,900.0,900.0,1014.33,2666.96,8077.43,6310.6,9537.82,17.48,358.9,255.26,4800.48,13868.7,171.22,171.22,4180.0,11873.18,105.22,571.88,1394.21,1842.99,1625.99,13546.29,2340.78,1750.32,1581.26,3430.38,1248.97,5306.7,1175.58,587.79,559.2,771.28,2052.96,1094.12,2166.19,1917.99,1881.4,3831.21,383.31,538.35,118.72,266.48,972.02,862.63,746.91,325.34,1878.78,1727.0,93.16,96.79,576.08,5997.41,13706.0,18935.66,6278.16,5248.36,1731.99,195.66,1626.92,8640.42,567.78,1196.97,2393.94,1029.16,516.35,124.33,372.99,206.25,4869.79,1490.97,1490.97,1490.97,1805.03,2811.34,4130.89,4015.31,1604.52,961.55,251.66,85.28,200.0,280.65,1577.2,4015.45,4096.17,4868.6,4789.01,3491.46,3251.98,2107.72,1384.38,235.34,69.92,1138.84,103.63,9494.83,40.0,1712.28,1802.09,841.74,20.7,7317.12,967.07,967.07,1608.3,2045.22,2127.31,1671.26,1415.88,1563.5,227.78,1088.91,1748.78,1661.03,5271.47,4111.82,6126.7,1462.42,1463.02,266.6,6673.37,1870.88,2072.6,1787.38,499.98,1340.92,16.76,16.76,8.74,266.14,2672.22,2927.81,499.44,5261.35,3563.4,95.94,1275.33,3526.57,5022.79,2069.1,436.67,436.67,77.44,1524.67,124.33,331.82,25.47,403.0,7700.02,11262.26,2951.8,2085.16,54.34,265.67,2252.66,384.99,76.64,5316.36,208.81,417.62,739.6,8728.77,382.64,166.12,4758.82,4758.82,645.47,2491.89,67.9,482.94,1431.5,185.19,7041.19,3313.72,3251.98,1413.17,124.33,11748.0,1204.65,580.53,897.01,2159.84,2151.11,664.68,3746.23,4387.0,3270.99,512.1,545.68,2136.71,2136.71,4088.63,3389.11,634.49,619.37,145.83,1743.59,3761.06,3123.2,4645.29,5007.27,1284.44,986.19,2219.66,465.59,1033.9,136.62,167.42,67.9,1432.34,127.36,812.63,4705.68,46.14,600.34,6096.6,331.82,1682.94,1751.51,1750.32,3168.19,5352.96,52.69,2235.91,628.29,786.6,1401.92,2139.39,2275.5,1716.42,1473.31,1678.29,2682.64,4095.75,385.04,167.41]},{\"axis\":{\"matches\":true},\"label\":\"margem_saldo\",\"values\":[-1309.8,1104.0,235.91,3684.51,12923.68,-210.6,2456.88,-4262.4,0.03,156.02,10053.26,5211.5,13661.8,3524.51,3126.68,-493.86,1117.0,0.0,10439.92,18297.65,-4760.38,3319.84,-3088.52,0.21,18363.72,-4310.4,20262.96,1361.11,1506.57,-1408.24,-721.74,2192.17,2194.5,5160.92,4477.56,3244.21,6495.04,-2898.0,2064.08,1753.42,170.99,19903.32,4161.24,-6822.96,3251.9,6894.0,598.8,3570.52,2880.35,417.55,17984.25,-1443.5,-2132.64,11245.95,14292.0,15209.95,22212.6,118.34,1256.88,2072.7,3198.78,2337.48,2010.96,721.38,1384.39,5622.82,8048.04,-2308.56,-2045.61,713.1,1075.98,1345.62,3688.16,2402.46,-449.12,1278.08,3423.51,16382.22,6262.77,12952.38,-765.7,10662.21,2152.92,4341.0,450.42,461.08,0.0,2738.84,2603.66,1074.2,3496.56,-24.98,17278.95,20818.8,1426.72,-1345.62,2606.68,7657.8,9673.12,13227.54,81.64,-1363.11,223.35,1616.48,2405.12,1752.66,339.12,1589.82,3607.2,5730.63,10767.96,156.34,4140.0,-3682.5,1074.01,2963.74,477.06,251.2,1316.73,968.02,1895.94,1899.25,4278.96,5968.47,3981.38,2008.38,-934.65,5745.39,8483.92,6632.8,9350.04,170.4,-8293.23,-5663.34,-3738.24,-2174.15,6.01,-713.52,896.73,1793.8,10232.0,470.0,0.0,5762.05,4135.2,5116.98,13527.57,47635.83,5125.28,0.0,-2549.52,1203.4,9525.56,10070.28,2406.04,4794.28,2398.72,-1168.8,3367.02,13271.75,6199.44,1973.92,800.45,626.2,0.2,543.38,2292.99,862.36,0.0,-6088.65,-3838.62,0.0,7461.18,3383.02,12625.2,1282.08,226.89,2300.64,3260.9,5626.86,4552.72,20077.8,8888.7,13328.12,2131.47,1468.98,7543.28,-654.36,1455.38,-526.44,-6384.0,3195.52,2153.15,8827.1,16168.77,-1896.56,2847.68,8685.87,7421.64,6200.22,8.0,1942.65,72.2,2176.17,1515.08,1759.16,476.07,7046.16,6470.72,8507.73,570.82,19456.86,25981.36,-3498.97,1.28,18865.02,9644.01,4061.61,1296.63,18392.64,-362.75,1731.44,3233.42,9601.65,34585.7,36902.6,470.18,910.4,722.4,-223.02,-5388.72,-3343.99,189.28,0.0,0.0,-1453.16,-67.94,797.87,-287.17,1415.71,1796.5,629.84,1789.86,-7775.46,1195.48,1067.3,2918.5,9267.93,7819.62,3478.88,2269.22,6.48,14681.8,65064.42,56.52,169.71,5252.22,1236.96,710.97,2075.7,245.52,-1011.88,4517.73,5239.08,5630.52,1289.88,1303.88,-300.0,4649.2,3559.29,140.74,2546.04,2835.12,8086.04,-1233.0,5672.02,-36.52,-240.06,4202.88,6324.72,4614.7,548.0,971.16,1903.43,4967.18,4414.65,1023.98,989.32,3725.37,-777.96,1901.68,1347.3,1855.56,6159.0,16092.2,-1359.36,3332.2,-612.32,-2684.11,321.36,8297.9,5333.75,19121.92,5276.52,246.62,11015.68,4949.68,9191.64,2844.16,3046.0,16030.3,416.04,468.28,1249.18,2546.28,1717.39,1717.99,2597.09,-1791.8,5983.96,1660.46,-5899.8,24285.2,-1309.41,19375.77,8057.0,6947.38,3657.5,86.4,-1933.7,-283.78,297.78,1451.53,3027.57,-2262.24,-111.76,1564.4,2148.97,10201.71,595.46,-3686.94,32809.86,-334.84,8044.04,-8609.25,5179.08,11760.21,2467.25,3000.52,1163.16,15821.33,1980.1,-3433.04,831.42,4939.58,893.34,5.7,574.01,6769.76,810.37,1749.97,348.01,698.72,1640.98,2134.24,7760.34,4685.7,2137.54,24573.24,28284.0,22855.0,-4085.76,2195.06,15451.84,8884.44,-13915.8,2382.4,1848.86,-1976.58,-466.92,-10868.4,-3890.08,23564.7,-4504.56,7363.26,15596.64,11970.69,6144.04,0.0,7617.18,3118.76,3994.42,11824.4,4539.44,3750.08,2229.0,1206.1,662.59,18361.14,2914.38,0.0,-5271.3,-2834.04,4462.86,2628.56,10958.5,9764.35,9580.41,16011.85,-7363.52,3678.62,2297.13,7710.5,7009.94,4601.1,5071.98,5102.34,-6564.8,8106.33,8117.38,1173.7,6289.68,16707.46,6984.19,5403.16,8513.28,-3502.33,106.35,180.25,3665.52,7165.84,7703.1,2219.98,542.4,1220.67,-696.18,-2186.88,4462.0,-770.6,-2003.34,1980.0,529.7,2255.16,5297.6,3753.36,53030.95,11142.75,1170.3,3386.32,1922.97,1338.68,-1095.48,1268.58,4444.23,199.58,-126.45,1562.94,-3780.0,-3426.28,2517.34,2659.56,4905.96,6590.31,6658.71,743.45,3932.04,4498.55,24451.48,5274.36,5294.31,2640.15,1201.1,7994.0,-528.32,1417.46,-730.4,-332.5,96.46,-2104.96,1445.55,2366.19,1612.32,2476.95,18477.0,104.12,10661.4,3344.56,5943.32,1482.33,6165.56,269.81,4982.66,-1485.8,711.06,2249.52,3090.6,-2389.2,491.52,32266.08,-9669.0,5383.74,-845.32,1559.67,2872.3,20154.69,-1395.36,-310.52,-2602.32,-2850.4,476.71,1711.4,31524.12,1629.63,32089.1,32231.85,0.0,734.96,7754.95,5130.6,337.64,-45.76,-5441.54,99.46,21648.36,10667.19,2888.52,3993.28,2569.56,7591.89,1856.16,3648.12,7530.16,9843.72,11568.69,-621.92,2627.28,2687.44,1524.66,-4350.08,1050.62,-1564.8,514.68,387.81,1.0,5503.68,6276.18,11096.16,8190.62,1338.16,2210.82,3429.45,3898.22,6431.58,4052.7,15147.45,4202.62,1800.0,5178.02,0.0,7166.48,632.58,-4026.36,642.46,2021.4,5596.59,106.35,1391.15,-992.4,14305.02,2150.02,526.85,613.57,5176.67,2940.96,-1019.9,1534.41,1551.02,14210.22,3116.32,-2888.47,0.0,12046.76,1191.12,-172.55,7728.98,7669.17,5019.81,4196.12,3436.38,-1134.06,1803.11,1811.4,162.54,-664.02,248.24,2177.37,23909.41,33196.95,2956.5,-12275.28,1184.1,191.95,1644.91,4967.18,16797.27,2970.54,-7873.89,-6484.38,-3093.28,-2319.96,-3913.8,11232.27,-1359.66,7139.94,9416.04,31649.25,14869.48,11741.98,3468.7,3595.65,3006.68,16495.47,11256.8,1043.8,1043.82,483.0,285.9,4373.7,7472.54,665.6,8514.99,4083.68,9980.85,14382.4,-1111.74,2988.93,3003.93,2922.76,4369.56,2196.83,-168.82,1419.24,-7917.12,2294.19,-12428.47,-1836.96,1966.87,2429.97,2767.53,12542.79,2831.27,16934.22,1882.88,4962.03,2830.4,1594.68,1511.36,-24.04,1954.34,31968.56,33211.52,-9475.07,6016.14,1904.92,1978.14,-5590.0,-1197.36,332.67,2307.68,1842.16,10521.06,12401.58,2160.32,-2503.6,0.0,2517.54,5644.96,5816.2,361.96,3159.75,2227.94,458.28,1412.45,2689.98,-5625.6,63.44,96.27,20977.11,10219.23,68.0,2477.78,3630.0,2161.96,2279.54,7971.84,2393.22,31394.56,13706.37,2874.49,1431.06,2397.03,2435.46,2055.94,2109.38,-1307.97,-1065.0,2091.93,125.5,2218.48,1526.7,0.0,-2087.68,1662.97,-1131.0,3157.76,9716.3,1028.51,-7325.64,1205.12,-4028.67,0.0,3828.68,13250.28,-142.92,714.33,10081.4,-1338.47,-529.0,-1529.68,-370.3,-2996.76,-2820.48,25140.96,12943.95,8518.56,18309.44,7568.49,8712.82,4690.6,1263.2,-2609.66,2649.11,788.73,10495.72,1367.04,593.88,3555.6,4516.64,6093.78,18246.48,-350.37,-801.78,1664.56,7538.36,11112.76,2113.32,6036.74,1620.12,7051.56,5162.76,3779.82,4231.38,3094.34,596.77,19961.76,2547.67,292.8,1086.46,-517.44,-624.8,10660.84,-4753.0,2219.1,2237.8,1751.96,15671.4,16052.04,5808.12,4439.94,6176.38,-600.3,299.42,1117.46,3111.24,1113.61,1261.05,1839.97,4981.38,669.06,1278.04,10353.34,10943.26,791.74,573.44,2346.04,312.43,11422.45,-1135.7,-1111.02,795.63,816.34,1996.28,4333.74,7075.1,972.52,3857.69,18930.81,3470.42,3557.12,1354.12,4124.49,8341.52,3756.08,4593.84,3339.72,-737.76,-246.06,6250.88,3181.64,-2191.8,-1437.6,-3783.12,5437.68,2889.3,1709.8,25965.6,2692.4,3950.72,4059.72,-2446.35,672.5,4005.7,4341.12,4573.45,1470.7,1305.33,1305.93,10227.9,10814.14,2318.94,1628.94,5440.05,688.56,717.87,-2399.1,9415.72,7884.93,-1437.55,7486.42,1018.09,4154.93,4288.15,4328.43,4522.41,71.9,-2014.65,393.33,1513.05,3398.84,5378.88,618.52,5724.8,9053.07,5769.7,6347.1,156.28,10018.53,6853.38,4014.98,2879.58,5782.64,9299.56,1313.67,3433.62,1717.41,1885.9,1391.76,-1657.68,5589.78,2041.96,-194.04,-150.88,-57.24,1107.57,3445.03,2300.8,4389.38,1082.2,-3809.7,208.58,5247.84,19.64,7149.16,-1165.4,1008.88,2268.52,3081.39,6166.08,4537.64,7234.26,-24.27,2148.46,2202.62,3937.24,5996.64,3598.3,1644.4,883.57,785.45,2590.26,-991.06,531.63,-7930.15,5587.65,335.62,1198.82,1658.74,780.8,1268.88,2188.23,-3801.32,2190.85,-969.54,212.78,-1749.88,-11864.3,2342.05,8486.25,5789.94,1494.49,1509.49,7513.02,777.88,-5206.08,-2491.09,1763.94,1007.8,523.44,-1930.25,6385.84,5227.32,278.82,280.62,-335.25,-175.68,6068.6,3290.72,-1725.0,-1453.21,2188.74,3586.94,-1268.4,808.38,1466.56,-885.9,15286.56,8002.59,8772.78,17274.15,24384.01,19194.92,4396.47,443.28,-667.41,1787.34,7097.6,-433.12,7325.31,1629.32,1255.56,4967.18,2417.82,3464.91,3413.12,6007.98,5775.13,5959.39,3833.28,-463.56,-554.88,4095.14,16390.08,22.77,87.06,6906.69,-2806.83,3869.94,17098.76,1282.41,1232.18,1.08,-1038.3,13112.6,6750.0,9411.24,-5273.84,-3154.84,1702.07,-91.37,8101.05,5787.72,-857.46,3989.8,2103.93,4240.86,3423.41,55.76,10551.09,8352.1,1947.24,12703.83,17100.72,1367.07,-10258.0,-9734.06,10815.84,7299.72,3835.53,3982.05,-1146.05,-1247.7,9903.18,1153.2,3810.51,6.0,12.0,2940.22,12915.3,9076.26,1466.72,77.4,621.4,-2744.55,7774.2,5182.8,690.24,806.67,1380.48,1613.34,5805.75,1948.71,12776.7,-865.62,3375.52,7783.1,1539.89,8014.92,5883.52,6001.5,1378.86,1928.48,1914.2,1093.88,4378.98,4557.42,21603.36,270.1,480.78,4550.18,0.0,0.0,-5045.97,15137.1,3274.01,957.88,-139.44,12877.68,-165.74,-3510.92,-5010.2,2620.26,183.82,856.82,23572.17,-544.62,-1507.53,4367.92,1885.13,3838.76,-325.84,2055.96,2104.36,14554.7,2795.5,9498.66,-927.1,-279.0,5226.47,4443.94,4025.42,17004.12,2107.66,9043.74,10767.48,6499.45,242.84,4346.12,1666.6,2047.48,4977.57,2494.76,9587.05,13575.9,6317.0,2884.41,2646.56,2711.18,-46.45,-1499.22,8866.8,-22620.6,1761.46,431.7,563.25,-802.05,1653.68,10130.04,-135.0,3447.66,-2446.36,3630.38,1663.34,-1760.92,18317.55,-2552.29,-9455.4,1871.16,-442.48,6755.46,26392.1,2700.84,915.52,7696.38,5130.92,3416.46,8786.26,3416.46,8786.26,1710.46,1997.34,996.72,1008.72,5960.14,12523.56,18143.32,7193.94,-1406.46,1069.82,11141.5,1607.73,1617.08,2108.11,5319.5,9906.06,-1691.22,-4118.5,136.82,3940.02,109.86,273.73,2310.98,0.0,10711.9,-3738.69,21886.52,2435.47,-2586.92,-332.14,12981.28,11700.54,86.14,272.32,2663.64,-1612.79,860.8,1129.69,32151.06,-1347.72,5313.92,10904.44,8396.13,-741.04,12810.04,2283.67,-269.88,4778.94,8223.76,10537.7,22341.56,28691.7,9138.78,1160.88,10117.16,5451.36,12318.0,2847.63,3539.27,-957.57,-748.86,-3440.88,396.48,6569.0,6738.0,10283.32,11448.18,-2892.78,7946.9,15640.08,12123.54,8098.08,7930.4,6535.8,13126.5,1624.05,1327.9,1041.05,1041.43,7870.08,899.8,13033.38,3.84,1193.7,2599.98,13187.04,13481.4,2485.36,475.66,935.92,6549.0,-865.53,-512.48,3659.46,1551.98,2691.34,1750.2,11919.67,6839.36,2063.01,7423.89,4668.52,4683.52,2179.28,-1688.72,-188.22,3998.3,7667.88,10507.72,22802.7,5562.72,1663.7,1489.1,2240.92,2242.12,1051.92,107.36,1618.9,2103.06,795.21,812.58,18266.29,1695.79,2059.82,2282.58,9342.81,9938.16,-4931.1,6025.83,4311.44,-3875.04,-759.36,1654.14,20045.61,26919.48,-3914.7,2366.52,11165.04,756.92,966.93,571.27,937.58,937.58,9005.74,6304.34,1042.64,14475.0,-47.4,237.22,-2183.67,-2228.08,2279.96,12722.74,7635.45,5554.32,11219.52,-1720.89,-865.08,2204.01,0.0,4955.05,-1127.4,16003.02,11198.18,-486.22,-528.52,10767.48,2363.55,10701.96,1300.33,18581.64,-5187.63,1531.1,32049.48,9396.34,14447.72,-1660.92,1111.28,8249.78,3428.06,15036.96,8588.79,111.44,553.08,5085.66,3500.28,-1010.12,5445.35,5446.56,2419.53,1973.4,470.6,4555.9,15027.0,965.71,-15153.78,2340.34,10954.7,68.42,121.58,698.25,2259.48,5380.9,8462.3,-1370.8,3033.87,9847.6,2524.62,2319.24,-1061.64,232.94,872.97,5148.12,-3969.36,-1672.7,15272.25,18568.74,3673.2,16186.2,1730.98,-1260.87,7074.27,533.67,1946.98,-1328.4,2548.78,3724.04,3752.77,7695.02,2280.13,-208.85,365.76,8060.43,7119.88,4080.15,2327.81,4215.32,2739.83,1029.07,4524.08,1971.32,-1548.0,-3475.65,3294.04,1351.48,10166.94,0.0,-4758.82,-849.85,-545.6,8333.82,-1040.0,0.0,1506.16,2294.72,1476.3,3219.6,4907.08,3873.75,27023.15,11627.96,3689.61,7524.3,47.4,14031.22,7174.6,8344.36,13891.12,9016.14,-3331.2,1437.81,2885.56,12.64,12894.36,11213.58,3612.12,-3821.0,-2552.31,2520.4,3398.36,-150.34,0.0,4440.2,8085.96,0.0,26325.04,301.2,17334.04,31.36,35.56,1684.04,3030.06,1041.9,-3143.1,329.42,96.49,498.0,1.19,121.2,-3007.62,502.47,1072.18,13558.2,10231.65,3796.64,3865.44,13714.5,-1680.4,-690.42,3332.45,4607.44,6.72,4654.95,4449.56,4464.44,14204.25,9638.38,3027.72,7689.5,14123.83,2179.5,7868.26,1437.96,10511.22,1620.84,3267.7,-1875.58,1799.6,-1764.12,7657.8,4018.42,5830.83,-510.33,26728.72,778.85,6114.4,3114.48,623.69,-1149.05,5153.25,1718.73,-1931.45,50.88,-1517.52,11204.0,11256.8,-578.48,7080.06,-611.22,10134.78,-1543.2,11394.69,17957.16,13505.12,5406.39,-2055.1,-2466.12,-661.08,-550.9,2530.46,2540.4,576.28,2036.16,-1145.64,-2754.48,418.16,-564.0,-5244.95,-1832.64,6388.23,-8533.08,-4368.6,5315.4,1785.37,3194.49,2756.34,5549.15,20642.1,10882.05,31.4,8447.64,5707.44,4267.32,4058.9,6226.23,4008.51,230.6,451.65,1083.99,5004.66,-1110.06,-2608.68,0.0,3271.36,-617.1,3205.66,12379.6,13558.88,2342.57,10875.39,0.0,1859.73,3964.74,4532.77,358.71,506.36,7358.22,15725.45,1075.98,3816.96,3836.92,-14369.7,908.92,899.12,1547.82,1749.35,2580.24,3584.24,7348.16,6210.92,-2977.8,7513.25,-4880.24,0.0,1941.9,8001.15,41.03,5698.5,2844.84,2592.48,4190.34,19410.0,2973.16,6141.24,-783.0,0.0,10.89,2303.76,1592.02,14122.52,10616.28,19919.92,19922.4,-19.47,811.96,846.95,-129.84,5.03,3997.4,51.12,54.76,9955.14,13245.87,4636.75,5760.55,397.02,909.96,1057.62,379.34,-1385.4,13595.3,10.64,4863.62,1905.76,3741.12,27320.72,4647.6,495.2,2189.97,1784.58,1706.73,3280.1,1937.88,2650.47,26445.25,15921.15,429.59,1414.44,4808.96,-6065.85,32435.4,-441.99,7062.48,3364.68,4125.18,-9339.97,-3545.01,1078.82,11003.58,1338.54,2782.86,5391.44,111.6,785.01,10848.48,18194.55,1471.6,7294.0,3082.43,13229.16,19903.9,-1748.34,4665.87,25805.55,10266.56,1489.72,1938.44,1131.02,1785.89,-10399.55,5658.54,538.41,836.46,2362.6,752.22,-1274.35,-207.0,2518.72,-2638.56,-1481.28,3.42,2619.44,451.19,528.96,1736.32,2199.16,1003.38,2584.64,1562.12,1708.08,2053.78,6244.5,-12575.5,10217.5,2081.0,15474.85,4195.06,8980.04,-3100.35,16338.68,-512.64,-5640.2,-8509.44,9519.92,26564.32,1398.35,6533.52,6535.48,146.06,234.8,25393.85,2305.92,-8475.68,157.8,-2332.8,420.58,0.0,8539.5,375.56,607.65,-4971.4,3224.38,11913.93,2440.32,14180.01,14091.14,-618.6,1975.1,5286.82,-350.88,1146.96,4098.52,2062.15,1401.09,1437.57,2754.34,1564.45,4891.02,13881.15,8911.1,-175.36,-34.88,-5523.72,-2721.04,282.68,1923.96,3326.97,579.9,1033.92,4830.84,4437.38,4537.07,15467.28,-971.98,646.84,4243.42,8638.76,3452.06,43356.39,2390.98,8247.48,-403.55,1291.44,667.32,0.0,5289.26,0.0,468.98,17768.04,17917.08,1109.64,18176.88,18148.47,1152.27,6967.92,-1999.8,25777.44,4499.6,2835.66,6902.8,23432.7,-945.5,7160.94,1778.52,1974.84,1761.42,-1504.8,14446.5,10891.36,2742.98,3170.16,1075.6,6528.42,836.28,775.22,-9719.55,494.9,4831.16,5524.54,-688.96,-1878.3,795.76,-5730.7,154.38,37035.6,39476.64,1.65,-266.22,12393.76,12420.08,2588.07,7862.28,802.38,-16.4,3098.8,10510.22,7631.72,7671.64,-636.96,3852.7,13919.12,4593.86,2926.75,25600.14,3305.58,5350.24,2489.96,238.04,152.74,-2189.8,435.64,118.43,1571.39,-1535.76,-1028.65,2484.04,-1862.04,6179.4,7602.62,-1369.68,-742.92,3198.15,-4134.9,4470.38,5970.96,153.7,-10410.4,7582.89,-685.22,-1153.62,-4239.36,2107.76,1129.6,33745.84,-1555.33,-704.1,-816.0,2519.4,4422.0,32.44,2230.46,5344.62,3558.15,8948.98,1516.08,3064.68,2334.06,14937.37,30521.16,22910.52,8997.4,17967.96,10961.88,4175.27,8976.96,1307.28,-1384.5,411.38,5088.69,11398.71,-3893.12,3074.81,1826.92,0.0,983.82,1295.48,42.9,1811.92,2162.82,37209.25,-851.69,7094.56,3973.38,-208.76,-1731.1,686.42,3039.6,1179.24,6513.48,2581.02,1921.22,2426.32,1183.0,868.9,4254.08,-6513.78,1639.86,5096.22,7892.22,8859.54,82.34,294.33,8807.2,3058.81,9656.28,3082.12,-613.08,-3078.2,6396.06,-2563.62,-815.6,-4076.16,5566.59,9955.14,2343.67,17099.82,17263.38,2725.05,-352.26,-4765.9,-4658.2,7932.12,-8181.08,-10198.3,-1674.87,5641.92,4183.56,-9514.32,5595.48,1336.16,3671.36,-9948.65,7.96,2785.02,-1864.73,3062.9,4808.84,3156.62,2201.28,-8375.22,-8238.96,-2511.21,4493.05,4605.05,-14725.53,367.84,1163.49,-627.63,805.82,179.92,13027.8,15636.96,33805.71,355.29,1822.3,5417.7,5501.22,1067.46,6665.33,5166.09,3518.66,5.84,2.6,211.88,-2698.31,6648.12,42211.0,-2042.43,-572.4,2168.58,2966.28,9242.04,0.0,1176.78,-2779.72,-579.9,985.0,992.9,54.63,106.68,-178.65,234.3,-4088.34,1500.85,1962.28,3751.14,3933.35,4876.08,14656.83,21751.48,-2484.9,604.65,1264.66,3385.68,5285.02,6483.15,4127.78,1485.51,1050.34,770.0,11940.44,34.6,15.84,5654.88,-3172.8,4193.37,0.0,5620.48,16871.37,14951.13,20376.63,5346.9,2587.53,3998.86,-2160.0,2321.58,1196.58,1085.78,1602.56,4080.96,8.52,663.3,1755.49,4149.94,13466.54,3391.92,1843.23,5540.22,1626.48,1627.08,6552.28,13430.68,-5644.4,1262.96,7464.96,3291.87,21858.5,18486.8,3483.97,-1927.17,2915.5,5225.08,5261.38,1014.2,1020.51,-140.56,297.97,3206.76,-4005.9,7876.95,1808.13,2860.76,5826.82,4487.24,-3840.64,2054.68,2587.12,1094.28,19777.92,4911.5,616.68,4208.2,10503.6,0.0,28326.8,93084.39,5665.36,13790.28,81303.2,14782.4,626.0,1342.14,-1448.88,2954.7,2582.19,1235.68,5689.07,625.62,2129.61,44617.02,3986.32,2813.24,2487.88,821.07,293.05,8456.36,4166.8,15971.85,320.25,1004.74,265.18,-630.65,2165.98,1739.97,624.39,3686.94,7881.92,21295.55,5437.74,2482.92,3454.2,10652.58,7804.4,2000.16,2247.61,2404.48,1411.8,10953.4,22474.56,108.7,111.94,169.71,-360.3,-3472.05,-5192.58,1007.07,4117.2,-2901.48,-31033.45,606.69,3805.0,1616.78,1808.01,1867.11,7991.65,8008.15,4728.6,1738.24,558.72,591.53,-4749.84,2153.2,-2747.01,2872.0,2882.6,695.21,1315.46,7288.38,3828.9,3955.76,7954.18,0.0,1219.83,3623.96,10818.75,3659.49,3623.96,12982.5,2669.9,2135.92,9028.26,15487.2,1763.61,-116.48,7334.94,1057.97,177.56,2444.16,3.66,934.05,2338.26,3017.3,5408.36,8947.02,5874.47,5269.05,4278.48,970.2,2516.82,24388.8,2792.3,4101.1,-1515.12,2262.68,-3178.0,2176.52,20408.31,20657.22,3828.9,2.56,53.79,1031.18,-162.36,164.64,8325.48,8340.48,-923.94,3673.07,15.68,571.96,-2056.08,-2178.8,53063.22,77.84,2019.24,-1223.36,1613.04,-1958.72,6939.54,7571.55,0.0,17578.8,38969.88,8014.92,9154.08,17396.9,0.4,-2484.25,3552.42,591.92,3407.44,1736.72,6825.84,182.48,-2771.93,18622.65,7579.74,-3345.48,-3834.18,4602.65,8971.71,1982.04,4430.6,6840.18,7946.8,4372.65,-23736.02,2475.24,-307.74,1766.12,4790.96,7236.72,13.32,1011.32,4984.52,3651.99,-73.55,720.72,8046.02,-5325.1,4244.26,3023.94,1653.26,1753.28,1802.4,-1450.82,15823.02,2250.84,15373.8,12962.64,4455.64,4483.1,-16450.7,12334.0,499.92,674.94,-128.28,-90.18,-2523.48,8975.34,5211.48,1815.44,4174.16,2103.58,8640.16,1648.0,164.84,-422.8,499.47,509.88,-1274.64,-1231.98,591.6,649.31,-3928.95,-777.18,231.0,501.92,1433.45,13277.73,13405.68,6460.53,293.49,8075.84,9189.18,5893.72,230.24,2174.79,9741.78,3153.84,7607.2,7972.56,-353.1,67.28,2446.7,2470.38,2096.52,4201.72,-140.95,-2632.4,2160.29,-5159.84,-3656.2,1086.84,6253.86,-2558.76,-1147.9,9457.77,-1180.0,9955.14,3.38,9.27,14241.85,8393.67,2132.02,5351.58,10546.9,6458.79,2159.98,11451.6,-825.5,-505.84,0.0,553.44,217.22,1930.84,321.32,-292.98,2079.51,6700.2,4430.84,3113.94,1325.4,6157.6,19.8,212.12,1119.66,3144.57,-67.4,1800.18,1490.64,9047.96,19423.4,2527.02,-288.54,17.55,674.75,1493.5,4159.94,4200.62,223.4,13220.64,158.94,2021.4,-5649.02,-1860.1,4639.62,2388.84,5576.15,5638.65,10620.09,5731.53,21942.55,13626.45,-2850.33,930.24,15714.46,7869.28,925.72,462.86,763.96,381.98,-613.92,-1835.16,9811.68,25355.2,19059.08,1349.28,983.4,-193.66,3684.3,5185.98,5227.98,-923.02,0.0,-5939.04,7208.01,3686.08,7824.1,1114.76,-669.68,116.14,13191.5,15584.91,2911.52,16382.16,1936.75,5859.75,-307.16,1535.6,9426.51,29766.12,3666.74,3596.32,325.41,23907.64,446.76,2922.8,-543.15,-4386.75,2121.88,5464.32,-916.4,-687.3,-2238.84,32764.44,32600.25,1548.08,-579.24,5194.14,1281.79,2573.1,1965.6,8981.08,9057.2,872.52,569.4,2998.12,10178.16,0.0,828.6,400.42,1079.69,3540.03,14726.52,3218.38,15846.15,18124.05,-16.76,6128.86,-2710.98,-530.4,165.04,1717.68,19718.6,3515.8,2478.32,2945.01,-10218.44,-37355.92,-2235.69,-3073.4,5023.16,621.2,1744.74,2211.54,2031.9,1397.8,7221.32,54.9,667.34,2960.66,31290.08,319.3,364.76,-709.66,878.8,2899.74,2416.15,-111.91,807.49,4115.52,2062.22,-670.08,3263.31,3578.37,-1979.52,-171.75,793.85,4928.02,-1070.48,9213.3,0.0,-2021.58,24.76,33.95,-138.75,5.48,8635.71,12076.36,1273.74,4117.52,-10834.24,8412.24,15197.21,7159.72,24086.61,-9001.41,5807.78,1374.56,-1369.28,7.2,1962.87,-3284.28,7946.1,12970.23,12501.72,8801.25,17766.5,27051.2,-1858.92,7209.66,-3288.6,18.44,-1627.36,2413.12,1657.5,4165.95,2845.24,20818.96,4356.04,5432.52,-4549.7,-242.96,1580.71,1593.62,-6339.41,-6466.4,-1055.46,861.24,4820.16,-644.55,-827.56,5974.29,9092.72,756.25,803.43,8.16,1023.4,1971.97,18065.82,18377.86,3099.95,6224.0,8623.1,14023.18,-966.5,11.64,8198.64,8277.78,36.0,-15851.84,48781.98,83999.8,1672.52,10083.56,139.02,9998.4,-2335.48,10558.74,4867.28,6533.4,2607.04,17744.0,1803.04,298.5,1080.27,1571.28,-58.34,10091.35,9172.96,-14265.4,19253.24,10423.42,10437.34,-594.12,6393.51,0.0,-832.5,24228.96,25343.08,9955.64,9956.8,4023.18,1423.34,271.19,312.89,2429.31,1.12,474.33,1987.84,123.76,2807.46,2751.93,2005.96,5178.02,1014.5,1923.36,2717.32,9248.78,5662.2,32878.89,2190.9,1468.39,-2291.7,652.6,1129.6,-39.72,1181.8,3214.06,1629.56,1785.16,10850.64,-419.36,-822.84,9724.46,16567.5,-1208.79,16818.86,11694.6,15943.68,-224.12,-99.3,9100.42,451.62,488.91,276.8,589.12,-1719.13,3463.7,11.7,51.52,-2783.6,75.04,-2717.2,130.28,66.54,1847.25,9039.75,6027.7,2832.52,-9291.52,2784.9,4207.23,6330.88,-5217.52,3477.72,4712.32,-1773.52,3612.9,1941.24,9553.48,3162.48,1702.67,1798.09,835.26,0.55,260.6,3384.3,16052.36,2127.84,2144.34,-6820.88,-1081.02,9606.1,2794.89,7363.26,2610.82,3734.38,8382.3,7193.04,2527.38,-1748.34,-275.5,8977.6,40132.38,2155.42,3421.08,10320.09,7128.18,-65.44,10942.0,-1863.15,-2561.58,7879.26,-1221.8,2374.08,2540.08,0.0,6617.0,4360.98,15776.82,0.0,2103.08,5886.06,3623.43,8442.68,1119.0,1373.57,1467.98,15587.34,1867.7,1914.78,6118.74,4100.32,38080.4,15251.52,-5730.18,15627.6,376.6,1926.96,2041.28,5257.38,-1800.0,0.0,9955.14,6740.29,3514.5,-6488.8,-2642.72,-1384.4,6911.12,5150.68,1500.06,-149.75,1366.41,135.32,357.54,3004.33,219.88,5.39,412.72,3596.04,21143.15,6886.36,5515.56,104.44,-49.2,-1101.44,-819.88,3076.88,6392.16,1440.89,-18456.96,3442.32,3478.32,-312.34,1296.79,2686.9,10585.84,3119.0,-2219.4,4622.65,6024.69,6090.6,6961.08,8749.04,6799.56,2225.72,3538.98,1772.68,18534.55,130.14,-90.64,360.4,-410.29,12261.66,14866.24,7550.52,713.16,2464.56,3758.72,-2363.2,-466.9,1184.26,14400.72,3183.14,-1229.22,128.84,8790.82,1668.92,5164.24,645.53,3740.94,1246.98,959.8,5913.21,-2113.74,1923.09,2487.66,-14286.14,-10885.14,-16300.02,-14076.0,-4343.84,2651.24,472.31,-459.42,-7018.11,1276.58,1720.75,8.08,-2289.9,3734.34,-1338.72,661.38,14130.72,-383.9,6685.98,-9.1,-2934.0,33770.4,5805.24,1361.58,1413.6,-2703.89,2610.26,2814.69,1450.1,1523.04,24121.65,3942.24,189.25,3403.26,3422.7,5899.9,4943.12,1179.98,1235.78,18938.5,3787.7,10053.72,-8107.8,14.14,3199.15,3542.75,14466.75,-1504.98,3654.78,5641.8,3440.48,2089.0,2090.2,6644.72,1445.32,7222.14,9945.16,3921.72,3799.46,3457.62,-4011.47,1767.36,-779.25,11450.81,5013.12,1264.2,13475.36,1019.48,24035.79,-3543.84,944.28,-2741.76,-814.59,-1038.76,6535.92,-1655.6,-301.98,-204.0,16151.22,1481.4,-287.42,15176.02,15194.72,4515.66,-4618.92,-606.12,4462.06,4462.62,13386.18,8925.24,4083.58,4127.54,12250.74,12382.62,-1463.52,1588.4,2361.3,-1079.05,600.48,515.7,904.24,2338.02,431.9,0.0,16408.83,4.4,818.24,-5328.0,-2585.02,-283.92,-3716.93,22632.54,833.76,1029.07,-2001.06,3380.28,7171.28,-1359.9,253.2,792.86,14487.96,27562.29,5222.4,194.46,-174.42,7066.26,2349.4,772.51,855.0,6771.06,27370.31,17329.26,-4289.74,1745.06,16057.74,3140.58,2300.96,-278.96,6817.72,5179.72,4302.18,-29334.72,0.0,-670.6,1125.88,34628.32,2072.16,1036.68,1764.12,5266.95,51.05,1779.28,18215.56,13723.98,85.62,218.43,-5158.93,5950.54,5952.1,-14914.57,1072.0,-1999.1,-4763.52,-1220.24,-1146.0,-424.52,3263.95,-2267.1,289.53,636.15,-287.28,-758.88,-3606.88,-3744.48,-1791.46,-1298.6,-3269.09,11879.94,19273.7,19718.65,-437.78,0.0,-37.7,175.11,7584.88,1855.02,2302.88,-3099.78,182.49,39191.16,1364.45,-2172.64,0.0,-3296.95,18183.48,-64.44,-8319.84,-361.62,896.99,1949.08,2439.74,27749.65,-1568.0,-902.92,-407.19,3724.04,2987.5,-2170.84,8284.22,-24102.36,-3073.6,9073.92,439.56,598.08,3943.8,6636.44,11318.75,-2818.35,1438.76,313.92,2420.44,-135.2,984.54,-3648.0,6313.02,5879.74,2155.01,2171.51,13032.52,-2401.36,5691.66,-2976.48,5553.28,7040.42,188.34,-926.7,-1387.92,7463.0,197.85,45.87,1995.27,134.13,2150.34,4520.08,21329.94,-813.6,2072.28,4914.28,1286.51,1489.42,7108.56,2273.52,2143.2,13465.43,815.64,1032.36,861.78,7230.46,7236.58,2760.0,-882.0,-98.4,-4985.42,-12388.97,539.35,5605.95,6343.32,2126.64,2127.84,0.0,58.1,6266.28,3976.35,19146.28,-2374.84,4294.52,12898.76,9842.1,-3041.0,4305.11,164.72,1013.98,540.99,13566.28,7222.58,6360.38,5944.76,11331.84,7917.0,-1072.92,17638.08,4172.92,13816.36,10411.47,-3127.52,21280.4,5561.38,7000.99,7001.8,3484.93,3485.34,3133.68,909.79,4139.55,7209.4,529.1,1398.48,5568.64,2810.67,1466.89,1656.88,-584.0,28.37,5599.09,3811.76,2689.92,5220.44,-483.46,4430.84,6208.02,9979.3,-10731.96,3870.3,2583.38,5368.28,-17892.68,4188.18,2383.26,1507.96,1919.68,5031.48,3420.05,3430.03,15402.88,1584.92,199.6,487.84,1419.0,-6320.7,1056.44,1915.12,668.68,1124.87,3243.12,2601.9,3313.32,4142.34,23887.26,3332.38,7363.26,1717.94,8191.11,3195.84,237.16,3044.68,393.52,590.28,14932.71,3789.57,-4650.31,-1424.25,6619.48,2188.33,2171.76,967.46,5068.45,4958.7,4050.48,578.64,9641.04,3213.68,-545.92,-1790.8,1736.46,224.43,1006.89,4952.24,10093.46,859.02,291.84,311.15,-13127.4,0.0,2691.86,2207.58,-2209.9,-2479.1,-1146.2,1622.68,-6343.96,-488.64,489.6,1700.8,-2921.8,-845.88,4605.94,16496.68,4794.84,9878.55,10120.32,-429.7,21.52,1409.52,1607.02,2407.2,6136.12,-3043.04,2354.44,-782.6,50.27,171.74,-313.71,6494.04,-2933.76,181.44,-160.04,314.2,11938.96,-2141.52,3531.9,-1603.8,0.0,5170.38,1387.14,3993.96,9152.8,-802.44,2550.8,3729.2,2528.6,8073.24,492.39,0.0,4.98,1290.66,-1129.7,2811.9,-5787.8,4264.04,4648.92,-513.15,-3670.56,0.0,1717.12,914.87,-1378.44,6872.85,4679.7,7340.58,-2284.24,13390.24,4473.7,3728.98,11995.02,26458.25,1177.99,6160.64,-1720.8,2206.1,9521.92,-2400.24,21196.64,-950.76,214.62,4231.7,-559.44,165.18,196.02,13540.17,27945.28,4878.72,7899.15,2731.2,-2602.27,747.24,818.58,1.05,0.9,263.38,182.34,47.41,615.39,5860.29,4776.72,11156.52,5340.38,10947.88,11232.44,9703.75,2185.14,-4578.78,-3097.71,2848.56,-2706.2,1358.4,938.6,24397.92,9522.39,-675.12,-2825.28,323.02,8395.43,0.0,4158.22,2505.02,7921.28,9079.04,2313.51,2406.18,12263.94,28383.95,14805.96,-786.0,8901.48,18794.68,-950.4,-3029.01,2887.02,8555.0,9818.95,12377.84,-1834.88,-1436.22,758.03,44.1,45.9,1559.73,4638.6,193.71,195.51,1381.07,1425.44,-1246.63,5215.64,22722.8,2701.12,13322.2,4657.32,3736.98,2312.98,3515.19,-4054.05,1428.14,5208.65,6960.66,4057.72,7736.19,-2415.51,3321.03,5601.57,-938.6,790.8,891.15,15262.02,15488.4,-1238.08,-465.89,11.58,455.75,496.27,2144.63,-990.3,161.82,163.62,147.78,738.97,1560.9,3386.52,-7041.06,5872.26,2110.36,18620.2,16301.44,129.92,947.48,1356.46,530.24,-490.44,7424.95,-2889.19,3117.45,16051.21,1358.0,8803.56,5624.55,3077.2,3083.08,0.0,-1715.28,9400.96,3828.9,1991.06,4322.13,4359.24,4361.04,288.18,1035.54,-3487.12,3924.56,3981.84,1506.12,-2986.24,14385.63,2534.98,2023.65,11803.4,0.0,1124.34,1779.8,7182.12,640.38,-1190.0,375.72,4983.66,-5203.22,2337.3,3426.42,3343.14,3463.68,14987.82,908.83,2200.28,-4100.89,5523.17,3557.76,652.99,949.26,-11672.57,0.0,4128.88,4473.57,3028.82,6236.28,617.52,996.72,6901.44,5045.4,9.18,5477.92,-4605.37,-3516.75,-4818.84,-3944.88,4276.23,7131.9,1464.69,-555.7,-2268.32,10353.34,0.0,170.15,2243.28,3635.54,7221.92,7363.26,-657.15,0.0,-665.8,1342.95,2328.68,2831.96,1422.03,698.1,6573.0,-2747.29,-15888.0,-3257.12,2684.76,2221.77,12742.4,944.12,4388.34,11143.55,4817.08,6230.61,3514.36,-755.7,2943.6,220.16,759.66,4039.88,7076.43,4563.28,2284.95,-459.1,4197.57,1432.25,6439.6,4121.4,5854.24,4022.97,1891.14,1605.41,1758.46,6837.29,1185.72,1461.27,4689.64,186.82,-1910.9,1393.89,-545.9,2151.22,3583.63,4171.64,3158.67,-1791.84,-1642.92,7559.16,2584.23,552.08,2923.22,117.56,13373.22,11363.98,17915.25,5426.58,1874.35,4977.57,5176.67,1727.82,5938.14,1831.2,0.0,558.54,913.1,3734.38,5563.64,-891.25,-139.66,25.65,3221.74,6727.77,17943.42,13399.98,6073.54,794.28,2444.76,3695.49,2689.98,3178.26,776.6,4681.8,0.0,-388.68,91.64,1265.73,30945.04,14959.17,16110.45,3828.72,2350.57,2618.37,-8295.95,-11044.98,-3824.1,14369.82,5.44,3471.87,4144.48,-897.82,267.9,690.55,25539.7,-1580.94,601.61,17662.77,11984.4,-3727.1,724.94,4672.08,2060.73,2189.7,-991.08,-1200.3,13061.16,13595.61,13296.6,17301.56,0.0,4557.44,3622.92,22478.95,16412.64,8441.52,4172.38,1968.12,-5096.8,2595.62,2610.61,5133.3,9271.76,13980.86,189.54,194.96,5421.35,5026.9,-4243.6,2902.28,2070.63,4976.52,-93.64,-70.19,-7072.9,12002.79,2102.18,-3096.21,5240.1,2629.42,1343.91,-23526.72,0.0,283.36,3296.88,-5941.76,506.04,3687.0,-57.64,142.96,883.69,3634.44,9594.96,10501.4,2900.97,4048.56,10386.2,687.88,241.74,1839.36,0.0,6617.34,13014.75,5502.52,2234.6,2933.28,6214.04,2216.22,2005.8,3172.38,6690.72,1175.52,2158.56,2814.68,3940.85,3908.7,10729.5,11675.82,-738.92,0.0,10703.1,-1790.82,5235.24,9313.75,477.22,401.78,276.6,3942.08,30059.76,44775.1,-101.9,0.1,4774.15,1757.92,4789.48,401.37,937.46,15365.4,3505.3,4655.28,3210.4,4861.26,2572.37,503.46,1095.2,4485.18,9469.85,5881.68,2260.35,11542.38,3448.1,5572.4,8561.3,5374.96,7073.6,7657.8,5301.7,5470.85,3190.04,0.0,1890.19,1965.92,3606.21,9305.94,-5111.3,448.24,3246.06,4690.74,7065.54,317.8,290.88,607.22,4084.96,1663.27,2262.52,2015.07,1159.77,1171.8,2934.19,634.68,-2853.12,-326.58,-3867.1,609.9,-1704.22,1346.58,20.0,8162.43,-4494.6,4553.85,3283.5,362.4,547.08,2682.82,2820.86,2240.31,15315.6,-2963.4,3410.68,2105.08,0.0,3655.66,2041.74,5289.63,731.76,1355.1,0.0,125.1,321.98,1566.48,2628.28,-1597.44,6627.68,4063.29,3154.35,8280.56,370.05,6328.04,13692.42,18159.56,994.16,3506.0,4314.88,2869.02,9996.12,1455.81,1815.72,3242.58,2363.66,20729.22,418.2,493.82,1360.22,3010.8,18472.6,19809.35,11348.8,18420.88,6563.35,9.52,15395.82,3533.26,22802.84,20728.4,962.6,984.73,3718.1,2414.68,2339.67,1572.66,6285.34,25377.92,1349.44,3605.25,4217.88,437.4,-3296.48,7911.99,10161.16,890.5,2433.32,2035.86,-2229.54,745.22,6746.36,6285.54,2142.46,-1989.6,-673.32,3086.05,2468.84,-543.32,-543.32,3159.24,8186.91,-3197.67,2572.1,16722.75,23580.45,15721.74,2559.03,1871.44,369.36,30663.34,7273.84,6791.06,5515.42,29382.0,2886.68,3111.24,5614.47,544.8,1490.36,7174.14,0.0,12136.46,12131.82,2315.95,995.48,3008.48,4006.55,5544.47,2191.3,4375.6,2119.95,1995.28,272.79,453.72,10455.77,8228.42,16459.24,1190.98,-1018.7,-701.46,2160.29,4878.6,3781.05,4780.74,1132.85,7872.08,559.41,13177.38,10247.82,15433.77,-2163.02,606.36,9968.07,13055.58,129.92,-2408.4,2508.16,2529.0,971.56,13832.28,-781.24,21325.41,42767.28,2357.0,2464.76,-2866.11,-2768.87,15509.1,10031.4,4853.76,6393.39,5383.4,2174.36,-2978.01,3849.48,30712.92,1981.76,2138.3,3130.68,4132.45,-531.09,1081.85,6275.05,2603.22,1168.44,3194.8,32115.48,4150.82,2597.44,5092.36,6340.9,103.09,165.28,17005.48,32683.15,13106.26,5002.37,1384.54,4779.12,1104.82,3577.6,8841.84,9002.2,-8499.96,-8181.04,6680.7,8191.11,0.0,11946.15,-1527.5,2084.61,12396.12,0.46,2462.52,2668.19,1389.52,2946.42,7153.2,8641.88,4910.84,161.5,7953.8,3629.54,2030.2,16382.22,14134.72,-493.74,0.0,9391.3,38460.84,39680.91,3054.15,16151.22,2168.55,16173.66,8337.93,-786.64,737.97,1218.84,16382.22,1527.08,4379.92,-5567.04,0.0,-410.58,13657.41,1268.78,2129.18,-3224.5,-2983.97,2019.68,2107.24,432.1,3332.15,-1210.86,1360.74,9398.26,2.0,11996.58,-1045.11,1891.1,10528.77,2642.08,1803.63,4493.7,-543.72,-576.25,31113.18,23.61,811.12,26533.14,15694.29,3821.49,3221.68,1933.36,8350.83,14428.17,16909.76,10711.7,205.06,4201.47,17846.16,3378.26,5505.6,3258.6,1637.2,4269.32,8178.12,11048.4,5588.2,2182.12,13269.96,-6658.24,666.18,6512.4,-5009.9,3727.89,2723.54,2181.36,407.04,17656.16,660.04,-4251.66,0.0,3139.32,8432.08,1246.95,3691.9,7485.27,8576.67,4965.0,636.51,3037.35,-4903.2,0.0,2499.24,5014.92,11399.1,28.56,433.4,0.0,8577.96,-1289.64,-1005.92,15662.7,9473.46,215.54,1668.5,1473.28,27583.96,2120.35,3548.86,995.18,3050.82,-2288.16,9.12,2661.64,569.97,1182.54,4580.77,42716.82,3682.95,6948.97,4151.64,3998.88,1846.28,179.49,3008.79,-637.76,0.0,-2696.68,9808.8,868.65,410.46,-860.1,-411.52,-4060.32,4324.26,1052.7,7827.66,13897.65,-28537.11,3322.41,-105.52,1511.88,990.88,2045.9,5382.35,7892.58,13214.55,9709.85,3415.6,541.29,19154.76,-2242.56,1896.02,5248.08,2419.4,3360.42,4484.08,-624.36,7815.7,5115.24,2568.45,2005.22,2844.84,3201.74,5033.97,9.95,16384.82,8534.7,940.96,3557.68,1953.25,5686.36,9874.8,9782.28,32.72,762.5,14780.28,6792.24,2469.28,6356.6,-153.52,3255.76,6812.73,3421.96,-800.0,-250.8,1217.3,-417.92,399.22,1.92,2062.83,16252.45,381.75,371.6,37415.0,4720.38,4665.54,0.0,463.62,1040.67,3712.68,3911.78,4.8,156.75,372.64,2592.06,-2029.58,10353.34,7876.34,580.07,5832.2,15316.72,15407.07,-4915.76,17943.42,976.77,-399.94,-102.82,-3411.31,12916.72,7159.96,4875.45,402.87,826.56,-744.0,-2907.36,2777.24,10.24,-893.24,3892.78,1956.41,13011.24,9808.59,3395.76,1748.82,1052.7,2354.04,2693.16,3967.32,4057.92,15232.82,2012.68,1658.79,2689.8,4601.7,-454.06,901.38,-6742.2,6271.96,11151.64,12953.68,4483.58,-2485.2,5867.88,7282.49,5639.28,-7842.24,3255.74,7934.88,13368.18,4311.72,30.32,1591.61,16382.16,6990.6,3670.65,2195.38,7279.42,10667.52,8248.32,-3069.78,8981.58,462.59,-2763.32,2903.89,3215.5,1829.84,-4327.92,245.4,7143.18,23899.12,5165.25,7080.06,-1817.16,10039.53,0.0,5110.59,5488.35,4741.32,4811.04,-3928.6,1202.31,1271.16,7405.24,5643.93,10948.68,2530.88,-45820.72,4405.77,5176.67,10767.48,6407.71,16382.22,5053.34,401.36,-7973.53,-4644.0,10135.35,10149.66,2200.57,330.93,4086.54,5453.62,4772.01,2314.06,11987.82,7680.84,2295.21,3965.88,861.72,2134.81,-103.71,71.46,-1160.73,2438.14,2439.3,10033.84,10035.1,1846.6,2424.2,11250.26,-398.88,-687.12,1772.87,2236.4,134.76,4000.56,2569.35,2974.24,16220.82,-15864.06,-12054.25,2599.28,2704.8,-563.28,5621.14,20437.89,542.72,987.53,-249.96,-5463.84,0.0,5807.78,5081.16,3743.72,11694.48,32436.69,-4.05,2533.47,1028.82,479.36,9238.44,4925.26,-32.1,113.65,2826.2,2071.4,7657.47,8103.5,-714.0,0.0,60778.78,38037.16,-60.57,938.58,-276.06,1607.63,11664.82,489.88,813.04,1921.9,5987.46,21113.61,95.74,1841.62,-1743.04,5200.48,3540.76,-1277.1,3630.6,202.84,15922.56,7603.42,-336.52,1767.54,4368.25,1429.65,1312.57,7658.08,1174.64,5903.79,2.97,6.0,2016.82,3760.09,1174.22,7948.74,-860.2,1487.36,4136.93,5280.93,-1568.6,-1578.25,-1262.6,437.76,291.84,4175.53,5139.89,-2469.04,0.0,3767.34,2649.26,-610.02,373.32,25582.64,21573.0,1323.96,-2467.84,6215.45,6258.9,1835.2,37.74,1375.25,615.46,952.98,4.96,280.98,3839.36,7948.56,2227.88,-3380.7,-36.0,1561.36,-680.0,0.0,2500.24,5002.88,0.0,12833.4,-778.71,-565.68,4876.74,-840.98,11.94,405.88,4218.76,6813.69,14590.56,-6781.75,1917.38,9696.99,13333.29,-3567.45,890.97,788.82,26870.05,-3903.35,1773.83,3150.79,17736.44,-32.04,9093.18,2564.28,2455.86,4041.75,17759.54,-1912.44,317.4,-2552.04,8765.88,20202.68,-1886.5,-62.7,2367.6,1108.32,2100.7,-195.02,-416.34,-13400.79,8160.12,8488.89,8291.42,1801.0,497.64,7965.04,13928.5,2693.16,2281.42,2954.56,26748.45,11063.36,3745.38,-767.65,117.45,15.12,109.98,-1812.57,-1181.76,-799.36,492.78,263.26,5002.64,5062.52,4549.08,10373.52,-850.14,-264.7,8548.53,5.1,0.0,1220.46,3611.63,7331.92,73898.1,16867.36,-271.2,2815.11,2025.22,4933.65,7778.48,2135.09,-1871.1,3472.72,440.91,-2812.03,3029.02,5511.28,4977.57,5260.02,63.63,3578.23,1457.68,-847.77,0.0,2477.32,-3640.85,-2155.62,6620.7,0.13,25.43,9879.18,1185.18,1614.22,39.51,0.02,3623.16,4172.06,4788.2,-1172.76,8028.87,211.58,-5308.42,6210.15,8114.76,4681.18,4128.18,3620.24,2081.2,2283.14,1357.69,16.36,-5928.58,-4473.98,-309.12,2637.36,8666.46,5379.32,9652.44,-1514.56,4188.48,8989.56,3095.16,2668.49,2668.5,2046.75,654.68,26502.96,6074.8,2701.94,2422.1,3596.94,968.69,1263.65,5219.94,3967.7,2122.52,10089.39,-196.4,497.64,3289.1,3338.93,7215.15,4843.1,-4703.64,1291.75,-1162.8,-775.2,-200.22,-133.48,-6148.98,10553.97,8518.72,-12803.0,1872.53,6264.53,12529.06,10318.8,10318.8,22112.61,-13596.0,13079.0,-2558.51,2034.41,906.59,-1259.2,929.64,1032.12,-1023.66,1556.26,8514.0,29452.8,-8099.68,2995.2,2334.69,12566.6,2934.96,662.14,1029.01,3706.46,-2577.45,-2586.48,-784.11,-395.14,3308.05,6569.84,23927.82,855.97,-3188.8,714.04,2115.86,1774.36,1801.36,17.68,5246.97,1367.02,4344.46,11205.25,6926.84,3493.32,2065.04,2071.48,20359.74,-1303.74,4044.52,3788.73,3853.53,4067.78,2133.82,-539.58,3870.62,292.14,884.61,11219.4,1359.02,2046.51,-2858.76,5365.22,-1266.72,-832.68,961.14,1046.98,728.6,-1662.15,-892.75,5034.12,5980.25,945.0,3386.32,1546.64,1566.22,1379.76,2080.8,3286.76,554.4,1804.95,890.38,74.75,4516.5,-3567.28,2151.78,1718.03,-1592.48,-580.24,670.1,1484.08,1952.99,8511.1,10664.44,11889.84,20543.6,2630.24,7987.17,2470.46,2753.66,-672.72,-389.2,-65.6,6236.27,-3846.42,765.93,2953.02,6258.24,1510.74,4915.94,4981.08,15300.81,-32763.6,3903.18,1975.59,3903.18,1975.59,3500.25,1400.1,-634.04,763.68,408.48,1246.18,1294.78,1597.81,14247.82,6347.1,9565.65,-80.0,1640.84,8556.52,6806.52,-7022.61,5524.28,6273.7,-1104.24,2407.81,421.71,696.62,-2963.28,18652.48,14175.09,2785.65,0.15,-590.72,2706.6,5517.86,1100.75,4416.24,-1856.36,168.35,1190.38,2210.37,3155.16,7657.8,2441.94,2026.32,-13415.1,-1858.92,-35.31,88.2,2360.06,-156.15,709.0,1090.3,6395.55,9444.36,1727.0,-1385.44,-4801.17,5678.98,37928.85,2969.96,2171.65,2447.6,19882.35,6734.83,-231.69,0.0,5574.84,2101.22,1225.13,2654.72,3507.81,1194.24,2710.25,2709.95,2803.8,-4360.1,394.95,424.63,550.97,-8641.2,-1415.7,6544.86,13898.08,1146.82,3208.08,8654.88,-1938.4,3847.83,1497.52,-298.8,-541.9,2261.54,3590.16,5058.96,858.17,900.49,9462.88,-1186.32,2085.58,4309.44,-4332.06,2659.75,5.09,6108.06,6203.8,8235.94,9690.9,3189.81,13507.29,14369.64,4.0,6088.38,14657.6,1939.08,12787.68,5176.67,1887.58,558.9,25391.4,49146.66,10404.3,10405.5,-1098.16,27848.36,-2415.66,408.02,1648.77,7573.24,7128.62,2990.72,0.0,3828.22,3861.22,-71.66,31.26,18797.76,-1310.6,-6847.77,-7250.58,-11950.0,4110.7,10767.48,7657.8,4062.35,9916.2,7264.0,2370.7,-378.62,24554.28,3463.22,18998.8,19412.98,1973.8,1203.9,11815.86,-2770.02,3775.38,5357.04,9508.96,293.84,18292.2,1310.0,4114.59,1.06,2810.82,3082.86,1872.36,1874.16,1367.55,921.24,12823.86,11499.54,17100.9,8569.78,56168.56,4056.28,3084.99,3455.25,3562.8,3929.0,-3386.32,2794.89,2903.89,6932.66,-10586.67,-1943.58,-2553.5,-9480.96,-1584.36,26059.24,5870.55,5440.05,1979.67,25330.8,3548.84,7127.68,2440.52,2760.66,2951.82,8636.49,6187.64,1289.21,1070.24,998.14,4316.82,3.13,10807.32,580.44,-1900.62,6491.0,7024.79,7549.96,507.65,11896.5,5409.39,3670.24,31993.92,61017.84,1646.22,2554.2,0.0,3514.28,7316.85,6020.2,962.58,473.52,8706.68,4860.79,-4738.5,4790.84,2523.6,97.99,6510.4,6443.86,-14057.57,-952.36,-481.68,6264.65,12594.08,809.58,4441.77,5207.91,3146.57,2681.24,4159.65,13851.48,14114.73,2933.48,2837.82,7578.5,138.66,438.36,10776.95,1911.36,9691.84,4329.8,20303.56,1556.14,2607.44,4775.34,8145.06,2256.17,6905.31,-988.8,5396.8,21802.86,2390.22,4932.18,5037.51,-200.55,457.0,29367.59,1029.04,-675.71,-381.71,3183.2,3090.33,1047.76,9955.14,4465.14,943.58,3694.66,-7598.28,3261.23,3798.83,7763.05,1155.97,-629.32,-21.39,727.2,6140.7,4822.38,9682.76,6903.12,5074.92,4882.68,459.96,-534.8,288.44,386.75,2270.35,3111.56,14487.96,207.84,10360.02,10659.04,1036.77,814.66,5026.5,1683.0,-2306.82,5554.8,3401.52,207.77,-2682.82,-1550.08,5686.94,1716.45,-6512.02,-4515.9,11751.72,15698.0,8035.92,8204.25,1510.46,80.94,6726.84,5420.7,4375.44,896.28,19362.15,12102.78,2722.25,13313.45,-1076.11,-478.08,-1609.08,5570.34,8797.32,3941.1,12052.44,3329.76,1531.5,7271.9,491.94,-4743.0,1299.23,18272.19,322.44,9955.14,-480.84,-217.66,2155.5,5161.1,11372.04,3629.85,3161.44,18849.18,1.8,2362.26,5397.21,-3549.32,-1085.1,-838.48,-1394.47,2385.32,10159.45,3234.04,1642.13]}],\"hovertemplate\":\"%{xaxis.title.text}=%{x}\\u003cbr\\u003e%{yaxis.title.text}=%{y}\\u003cbr\\u003econceder=%{marker.color}\\u003cextra\\u003e\\u003c\\u002fextra\\u003e\",\"legendgroup\":\"\",\"marker\":{\"color\":[1,1,1,1,1,1,0,1,1,1,0,0,1,1,0,1,1,1,1,1,1,1,1,1,1,1,0,0,0,1,1,0,0,0,0,1,1,1,0,0,1,0,0,1,0,0,0,0,0,1,1,1,1,0,0,0,0,1,1,1,1,0,0,0,0,1,0,1,1,0,1,0,0,1,1,1,0,0,1,1,1,0,1,0,1,1,1,1,0,0,0,1,0,0,1,1,1,0,1,0,1,1,1,0,0,1,1,1,0,1,1,1,0,1,0,0,1,1,1,1,1,1,1,0,0,1,1,1,1,0,1,1,1,1,1,1,1,1,0,0,1,1,1,0,1,0,0,0,0,1,1,0,1,1,0,0,0,1,0,0,0,1,1,1,1,1,0,1,1,1,1,1,0,0,0,1,1,0,0,0,0,0,0,0,0,0,1,1,0,1,1,1,1,1,1,1,0,0,0,0,1,0,1,1,1,1,1,0,0,0,1,0,0,1,1,0,0,1,0,0,1,1,1,0,0,0,1,1,1,1,1,1,1,1,1,1,1,0,1,0,0,1,1,1,1,1,1,1,1,1,0,1,1,1,1,1,0,1,0,0,1,1,1,0,0,1,1,1,0,0,1,1,1,1,1,0,1,1,0,1,0,1,0,0,0,0,1,0,0,1,1,0,0,0,1,1,0,1,1,1,1,0,1,1,1,0,1,0,1,0,0,1,1,1,1,0,0,0,1,1,1,1,0,1,0,0,0,0,1,1,1,1,0,1,1,1,0,1,1,1,1,0,1,0,1,0,0,0,1,0,0,1,1,1,0,0,1,1,1,1,1,1,1,1,1,0,0,1,1,1,1,1,1,1,1,1,0,1,1,1,1,1,0,1,0,0,0,1,1,1,0,0,1,1,1,1,0,1,0,0,1,1,1,1,1,0,0,0,0,1,0,1,1,1,0,0,1,1,0,0,0,1,1,0,0,0,1,1,1,0,0,0,0,1,0,1,1,0,1,1,1,1,0,1,0,0,0,0,0,1,1,1,0,0,1,1,1,1,1,0,0,0,0,0,1,1,1,1,1,1,1,1,1,1,1,1,1,1,1,1,1,1,1,0,1,0,1,0,0,0,1,1,1,1,1,1,1,1,0,1,0,1,0,0,0,1,1,1,1,1,1,0,1,1,1,1,1,0,0,0,1,1,1,1,0,0,1,0,0,1,0,0,1,1,1,0,0,1,1,0,1,1,0,1,1,1,0,0,1,0,1,1,1,0,0,0,0,0,1,0,1,1,1,0,0,1,1,1,0,1,1,1,0,1,1,1,1,1,1,1,1,1,1,1,1,0,1,1,0,1,0,0,1,1,1,1,0,1,1,1,1,1,1,0,0,0,1,1,1,1,1,1,1,1,1,1,0,0,0,0,1,0,0,1,1,1,1,1,1,1,0,1,1,0,1,0,0,0,1,1,1,1,1,0,1,1,0,0,0,0,1,0,1,0,1,1,0,1,0,1,1,1,0,0,0,1,1,1,1,1,0,0,1,1,1,0,0,0,1,1,1,1,1,0,1,1,1,0,0,1,1,1,0,0,0,0,0,0,1,0,0,0,0,0,1,1,1,1,1,1,1,1,1,1,1,0,0,1,0,1,1,1,0,1,0,1,1,1,1,1,1,1,0,0,1,1,1,0,1,1,1,0,1,1,1,1,0,1,0,0,1,1,0,1,0,0,0,1,1,1,0,0,0,1,1,0,1,0,1,1,0,1,0,0,1,1,1,0,0,0,1,1,0,0,0,1,0,0,1,1,0,0,1,1,1,1,0,1,1,1,1,0,0,0,0,1,1,0,0,1,1,1,1,1,1,1,1,0,0,1,1,1,1,1,0,0,1,0,0,1,1,1,0,0,0,0,0,0,0,1,0,1,1,1,1,0,0,1,0,0,0,0,0,0,1,1,1,0,0,0,1,0,0,0,0,1,0,0,1,1,0,0,0,0,0,0,0,1,0,0,1,1,1,1,0,0,1,1,1,1,0,1,1,1,1,0,0,1,0,0,1,0,0,1,1,0,0,0,1,1,1,1,1,0,1,0,1,1,1,0,1,1,1,1,1,1,0,0,0,0,0,0,1,1,1,1,1,1,1,0,0,1,1,1,1,1,1,1,1,0,0,1,1,1,1,0,0,0,0,1,1,0,1,1,0,1,1,1,0,1,0,0,0,1,1,0,0,1,1,1,1,0,1,1,0,1,1,1,1,1,1,1,0,0,0,1,1,0,1,1,1,1,1,1,1,1,1,0,0,1,1,1,1,1,1,0,0,1,0,1,1,1,0,0,1,1,0,0,0,0,1,0,1,0,0,0,0,1,1,1,1,1,1,1,1,0,0,0,0,0,0,0,0,0,0,1,1,1,0,1,1,1,0,0,1,1,0,1,1,1,1,1,1,0,1,1,1,1,1,1,1,1,0,0,0,1,1,0,0,0,0,0,0,0,0,0,1,1,1,0,0,1,1,0,0,0,0,1,1,1,1,0,1,1,1,1,1,1,1,1,1,1,1,0,1,1,1,1,0,0,0,0,1,1,1,1,1,1,0,1,1,1,0,0,0,1,1,0,0,0,0,0,0,1,1,1,1,1,1,1,0,1,1,1,0,0,1,1,1,1,1,0,1,1,0,0,0,1,1,1,1,1,0,1,1,0,0,0,0,0,0,1,0,0,0,0,1,1,1,1,1,0,0,0,1,1,0,1,1,1,0,0,0,1,1,0,0,0,1,0,1,1,1,0,0,1,1,0,1,1,1,1,1,0,1,1,1,0,0,1,1,0,1,1,0,1,1,1,1,1,1,0,0,0,1,1,1,1,1,1,0,1,0,0,0,1,1,1,1,1,0,1,1,1,0,0,1,1,0,0,0,0,0,0,1,1,0,1,1,1,1,1,0,0,1,1,1,1,0,1,1,0,1,1,0,0,0,0,0,1,0,0,1,1,1,1,0,0,0,0,1,1,1,1,1,1,1,1,1,1,1,0,1,1,1,1,1,1,1,1,0,0,1,0,0,0,0,1,1,0,1,1,1,0,0,1,1,1,1,0,0,0,1,1,1,0,0,1,1,1,0,0,1,0,1,0,1,0,0,1,1,0,1,1,1,1,1,1,0,1,1,1,0,1,1,1,1,0,0,0,0,1,0,0,0,0,1,1,0,0,1,0,1,0,1,1,1,1,1,1,0,0,1,1,1,0,1,1,1,1,1,1,1,1,1,1,1,1,1,0,0,0,0,0,0,1,1,0,0,1,0,1,1,0,0,1,1,1,1,0,1,0,1,1,1,0,1,0,1,0,1,1,1,0,0,0,1,1,1,1,1,1,1,1,1,0,1,1,1,0,0,0,1,1,1,1,1,1,1,1,1,1,1,1,1,1,1,0,1,1,0,0,1,0,0,0,0,1,0,1,0,1,1,0,1,1,1,1,1,1,1,0,1,0,0,0,0,0,1,0,1,1,1,1,0,0,1,0,0,1,1,1,0,1,1,1,0,1,1,0,1,1,1,0,1,0,0,1,1,1,1,0,1,1,1,0,0,0,0,0,0,1,1,1,1,1,0,1,1,0,0,1,1,1,1,0,0,1,0,1,0,1,1,1,0,1,0,1,1,1,0,0,0,0,1,1,0,1,0,1,0,1,0,1,1,1,0,1,0,1,1,1,0,0,1,1,1,1,1,1,0,0,0,0,0,1,0,1,0,1,1,1,1,1,1,1,1,1,1,0,1,1,0,1,1,1,1,1,1,0,1,0,0,0,0,0,1,0,1,1,1,1,1,0,0,0,1,1,0,0,1,1,1,1,1,0,1,1,1,0,0,1,1,1,1,1,0,1,0,0,0,1,0,0,0,1,1,0,1,1,1,1,1,1,0,1,1,0,0,0,0,1,1,0,1,1,0,1,0,1,1,1,1,0,1,1,0,0,1,1,0,1,1,1,0,1,1,1,1,1,0,1,1,1,1,1,1,1,0,1,0,1,1,1,1,0,0,1,1,0,1,1,1,1,1,1,0,0,0,0,1,1,1,0,0,0,1,0,1,1,1,1,0,0,0,1,1,1,1,1,1,1,1,1,1,1,1,1,1,0,1,1,0,1,1,0,1,1,1,1,1,1,1,1,1,1,1,1,0,0,0,0,1,1,1,1,1,1,1,0,0,1,0,1,1,1,0,0,1,1,1,1,0,0,1,1,1,0,1,1,0,1,1,1,1,1,0,0,0,1,1,1,1,1,0,0,0,0,1,1,0,1,1,0,1,1,1,1,1,1,0,0,1,0,0,0,1,1,1,0,1,1,1,0,0,1,0,1,0,1,1,0,1,0,0,0,1,1,1,1,1,1,1,1,0,1,0,1,1,1,1,1,1,1,1,1,0,0,0,1,1,1,1,1,0,1,1,0,1,0,1,0,1,1,0,0,1,1,1,1,1,1,0,1,0,1,1,1,1,1,1,0,0,1,0,1,1,1,1,1,1,0,1,0,1,1,1,0,0,1,1,0,1,0,1,0,0,0,1,1,0,0,0,1,0,0,0,0,0,0,1,1,0,0,0,0,1,1,0,0,0,0,0,1,1,0,1,1,1,1,1,1,1,1,1,1,1,1,1,1,1,1,1,1,1,1,1,1,1,1,1,1,0,1,1,1,1,1,1,1,1,1,1,0,0,1,1,0,1,1,1,1,1,0,0,0,1,0,0,0,1,1,1,1,0,0,0,1,1,1,1,1,1,1,0,1,1,1,0,0,0,0,1,1,1,0,1,1,1,1,1,1,1,1,1,0,0,0,0,1,0,0,0,1,1,0,1,1,0,0,1,1,1,1,1,1,1,1,1,0,0,0,1,0,0,1,1,0,1,0,1,0,1,1,0,0,0,1,1,1,1,1,0,0,1,1,1,1,1,1,0,1,0,1,1,1,0,1,1,1,0,0,1,1,1,1,0,1,1,1,1,1,1,1,1,1,1,0,0,1,0,0,0,1,1,1,1,0,1,1,1,1,0,1,1,1,1,1,0,0,1,0,0,1,0,0,0,0,1,1,1,0,1,0,1,1,1,0,0,0,1,1,1,1,1,1,1,1,1,1,1,1,1,1,1,1,1,0,0,0,1,0,0,0,1,0,0,0,0,0,1,1,0,0,0,0,1,1,0,1,1,1,1,1,1,0,1,0,1,1,0,0,0,0,0,0,0,0,1,1,1,1,1,0,1,1,1,1,1,0,1,0,1,1,1,1,1,0,0,1,1,0,1,1,1,1,0,0,1,0,1,1,1,1,0,0,1,1,0,0,0,0,1,1,1,1,1,1,1,1,1,1,0,1,0,1,1,1,1,0,0,1,1,1,1,1,1,0,1,1,1,0,1,1,0,0,1,1,0,0,0,0,1,1,1,0,1,1,0,0,1,1,1,0,0,0,1,0,0,0,1,0,0,1,1,1,1,1,1,1,1,0,0,1,0,0,1,0,1,1,1,1,1,0,1,1,1,1,1,1,0,1,1,0,1,1,0,1,1,0,0,1,1,1,1,1,1,1,1,1,0,1,0,0,1,1,1,0,1,0,1,1,1,1,1,1,1,0,1,0,1,1,1,0,0,1,0,0,1,1,1,1,0,0,1,1,1,1,1,1,1,1,1,1,1,0,0,1,1,0,1,1,1,1,1,1,1,1,0,1,1,0,1,1,1,1,1,1,0,0,1,1,1,0,1,1,0,0,1,1,1,1,0,1,1,1,1,1,1,1,1,1,1,1,1,0,1,1,1,1,1,1,1,1,0,1,1,1,1,1,1,1,1,1,1,1,1,0,0,1,0,1,1,0,0,1,1,1,1,1,0,1,1,1,1,1,1,0,1,1,0,1,1,0,0,1,0,1,1,1,1,1,1,1,1,1,1,0,1,1,1,1,1,1,1,0,0,0,0,1,0,0,0,1,0,0,1,0,1,1,0,0,0,1,1,1,1,1,0,0,1,1,1,0,0,0,1,1,0,0,1,1,1,1,1,0,0,0,1,0,1,1,0,1,1,1,1,1,0,0,1,1,0,1,0,1,0,0,0,1,1,1,1,1,1,1,0,1,1,1,0,1,1,0,1,1,1,1,1,0,1,1,1,0,1,1,1,1,1,1,0,0,0,0,1,1,1,1,0,0,0,1,0,0,1,0,0,0,1,1,0,0,0,0,0,0,1,1,0,0,1,1,1,1,1,0,0,1,1,0,1,1,1,1,1,1,1,0,0,0,1,1,1,1,0,1,0,1,1,1,1,1,1,1,1,1,1,0,0,1,1,1,1,1,1,1,0,1,1,1,0,1,1,1,0,0,1,1,0,0,1,0,1,1,1,1,1,1,1,1,1,1,0,0,0,1,1,1,1,0,0,0,1,0,1,0,0,1,1,0,1,1,1,0,0,1,1,1,0,1,1,1,1,1,1,1,0,1,1,1,1,1,1,1,0,0,0,0,0,0,0,0,1,1,1,1,1,1,0,0,1,1,1,1,1,1,1,1,1,0,1,1,1,1,1,1,1,1,1,0,1,1,1,0,1,1,1,1,0,0,1,0,0,0,1,1,0,0,1,1,1,1,1,1,0,0,0,1,1,0,1,1,1,1,1,0,0,1,1,1,1,1,1,1,1,1,1,1,1,1,1,1,1,1,1,1,0,0,1,1,1,1,0,0,1,1,1,1,1,1,1,1,0,1,1,1,1,1,0,0,1,1,1,1,1,1,1,1,1,1,1,1,0,1,1,1,1,1,0,1,0,1,0,0,1,1,1,1,0,1,1,0,1,1,1,0,1,1,0,1,0,0,1,1,0,1,1,1,0,1,1,1,1,0,0,0,0,0,1,1,1,1,1,0,0,0,0,1,1,0,1,1,1,0,0,0,1,1,1,1,1,1,1,0,0,1,1,1,1,0,0,0,1,0,0,1,1,1,1,1,0,0,0,1,0,0,0,0,0,1,1,0,0,1,1,1,1,0,0,1,1,0,0,1,0,0,1,0,0,1,1,1,1,1,1,0,1,0,0,0,1,1,1,1,0,0,1,0,1,0,0,1,1,0,0,0,1,1,1,0,0,1,1,0,0,1,1,1,1,1,1,1,1,1,0,0,1,1,1,1,1,1,0,1,1,1,1,1,1,1,1,1,1,0,1,1,1,1,1,1,1,0,0,0,1,1,1,1,1,1,0,1,1,1,1,0,1,0,1,1,0,1,1,0,1,1,1,1,1,1,1,1,0,1,1,1,1,1,1,1,1,0,0,1,1,1,1,1,0,0,1,1,1,0,0,1,0,0,1,0,1,1,1,1,1,1,1,1,1,0,1,1,1,1,1,1,1,1,1,1,1,1,0,0,0,0,1,1,1,1,1,1,0,0,0,0,1,1,1,0,1,0,0,0,1,0,0,1,1,1,1,1,1,1,1,0,1,1,1,1,1,1,1,1,0,1,1,1,1,1,1,1,0,1,1,1,1,1,1,1,1,0,1,0,0,1,0,0,1,1,0,0,0,1,1,1,1,1,1,1,1,1,1,1,1,0,1,1,1,0,0,1,1,1,1,1,0,1,1,0,1,0,1,1,1,1,1,1,0,0,0,0,0,1,0,1,1,1,1,1,0,1,1,0,1,0,1,1,1,1,1,0,1,1,1,1,1,0,1,1,1,1,0,1,1,1,1,0,0,0,0,1,1,1,0,1,0,1,1,1,1,1,0,0,1,1,0,1,1,1,1,1,0,1,1,1,1,1,1,1,1,1,1,1,1,0,0,0,1,0,0,1,0,0,1,0,1,1,0,0,0,0,1,1,1,0,0,1,1,1,0,0,0,1,0,0,1,1,1,1,0,0,0,0,1,1,1,1,1,0,1,0,0,0,0,1,0,0,0,1,1,1,1,1,0,0,1,1,1,1,1,0,0,0,0,0,0,0,0,1,1,1,1,1,0,1,1,1,1,0,0,1,1,1,0,1,1,1,1,1,1,1,1,0,0,0,1,1,1,0,0,1,1,0,0,1,1,1,1,0,0,0,0,0,0,1,0,0,0,1,1,1,1,0,0,1,0,0,0,1,1,1,0,1,1,0,1,1,1,1,0,0,1,1,0,1,1,0,0,0,0,1,1,0,1,1,0,1,1,1,1,1,0,1,1,1,0,1,1,0,0,1,0,1,1,1,1,1,1,0,0,1,0,1,0,0,0,1,1,1,0,0,1,1,0,1,0,0,1,1,1,1,1,0,0,0,0,0,0,1,1,0,0,1,1,1,1,0,0,0,0,1,1,0,1,1,1,1,1,0,0,0,0,0,0,1,0,1,1,1,1,1,0,1,0,1,0,1,1,1,0,0,1,0,1,1,0,1,1,0,0,1,1,1,1,1,1,1,1,0,0,0,0,1,0,0,1,1,0,1,1,1,1,0,0,0,0,1,1,0,0,0,0,1,1,0,1,1,1,0,0,1,1,1,1,1,0,0,0,0,0,0,1,1,1,1,1,1,0,1,0,0,0,0,1,1,1,1,1,1,1,1,1,1,0,0,0,0,1,1,0,1,0,1,0,0,1,0,1,1,0,1,0,0,1,0,0,0,0,1,0,1,1,1,1,0,1,1,1,1,1,0,1,1,0,1,0,1,0,0,0,1,1,0,0,1,1,0,0,1,1,1,0,0,0,0,1,1,0,0,1,0,0,1,1,1,1,0,0,0,0,1,1,1,1,0,0,0,1,1,1,1,1,1,0,0,0,0,1,1,1,1,0,0,1,1,0,0,1,0,1,0,0,1,1,1,0,0,0,0,0,1,0,0,1,1,1,1,1,1,0,0,0,0,1,0,0,1,1,1,0,1,0,1,1,1,0,0,0,1,1,0,1,1,1,1,1,0,1,0,1,0,1,1,1,1,1,1,0,1,0,1,1,1,0,1,0,0,0,0,1,0,0,1,0,1,1,1,1,1,1,1,0,1,1,0,1,1,0,0,1,0,1,1,1,0,0,1,0,0,0,0,1,0,1,1,1,0,0,1,1,1,0,1,1,0,0,1,1,1,1,1,1,1,1,1,1,0,1,1,0,0,0,0,0,0,0,1,0,1,1,1,0,1,1,1,1,1,0,1,0,0,1,1,1,1,1,1,0,1,1,0,0,1,0,1,1,0,0,1,1,1,0,0,0,1,1,1,1,1,1,0,0,0,0,0,0,0,1,1,0,1,0,0,1,0,1,0,1,1,1,1,1,1,1,1,1,1,0,0,0,1,1,1,0,0,1,1,1,0,1,0,0,1,0,0,0,1,0,1,1,1,1,0,0,1,1,1,1,1,0,1,1,1,1,1,1,1,1,0,0,0,0,0,1,0,1,0,1,1,0,1,0,0,0,0,1,0,0,0,1,0,0,0,1,1,1,1,0,0,0,1,0,1,1,1,1,1,0,1,1,1,1,0,0,0,0,1,0,1,0,0,0,0,1,1,1,0,0,1,0,1,1,0,0,0,0,0,1,1,1,1,1,1,1,0,0,0,0,1,1,1,1,1,1,1,1,1,1,1,0,0,1,0,0,1,1,0,0,1,1,0,0,1,1,1,1,1,1,1,0,1,1,1,1,1,0,0,0,1,1,1,1,1,1,1,0,1,1,1,0,0,0,1,1,0,0,1,1,1,0,0,1,1,0,0,0,1,0,1,0,0,1,0,1,1,1,1,1,0,1,0,0,1,1,1,1,0,0,0,0,1,1,1,1,1,1,1,1,1,0,0,1,1,1,1,1,0,0,0,1,1,0,0,0,1,0,1,1,1,1,0,0,1,1,1,0,1,1,0,0,1,1,1,1,1,1,1,1,1,1,1,1,0,1,0,1,1,1,1,1,1,0,1,1,1,0,0,0,0,1,1,1,0,1,1,1,0,0,1,1,1,1,1,1,0,0,1,1,1,0,0,1,0,0,0,1,1,1,0,1,1,1,1,1,0,0,1,1,1,1,1,1,1,1,0,0,0,0,1,0,0,0,0,1,1,0,1,1,0,1,0,1,1,1,1,1,1,0,1,1,1,1,1,0,0,0,1,1,0,0,0,1,1,1,1,0,0,0,1,0,1,1,1,1,1,1,1,1,0,1,1,1,0,0,1,0,0,0,1,0,1,0,1,1,1,1,0,0,1,1,1,1,0,0,1,1,1,1,1,1,1,1,1,0,0,1,0,0,0,0,0,0,1,0,1,1,0,1,1,1,1,0,0,0,1,0,0,0,1,1,1,0,1,1,1,1,0,0,0,0,1,0,0,0,0,1,0,0,0,0,0,0,0,0,1,1,0,1,1,1,1,1,1,1,1,0,1,1,1,0,1,1,0,1,1,1,1,0,0,1,0,0,0,1,1,1,1,1,1,1,1,1,1,0,1,1,1,1,1,0,0,0,0,0,0,1,1,1,1,1,1,1,1,0,1,0,1,1,0,1,1,1,1,1,1,1,1,1,1,0,0,0,0,0,0,1,0,0,0,1,0,0,1,0,1,1,1,0,0,0,1,1,0,1,1,1,1,1,1,1,0,0,0,0,1,1,1,1,1,1,1,1,1,0,1,1,1,1,0,0,1,1,1,1,1,1,1,1,1,0,0,0,1,0,1,1,1,1,1,1,1,1,1,0,0,0,1,0,0,1,1,1,1,1,1,1,0,1,1,0,1,0,1,0,0,0,1,1,0,0,1,1,0,0,0,0,1,1,0,0,0,0,1,0,1,1,1,0,1,0,1,1,1,1,1,0,1,1,1,1,0,0,0,1,1,1,1,1,0,1,0,0,1,1,1,1,1,1,1,1,1,1,0,1,0,0,0,1,1,1,0,0,0,0,0,1,1,0,0,0,1,0,0,0,1,1,1,1,1,1,0,0,1,1,0,0,0,0,0,0,0,1,1,1,0,1,1,1,1,1,0,0,1,0,0,0,0,0,1,1,1,1,0,0,0,0,0,0,1,0,0,1,0,1,1,1,1,0,0,1,0,0,0,0,0,1,1,1,1,1,1,1,0,1,0,0,0,0,0,1,1,1,1,1,0,1,1,0,0,1,1,1,1,1,1,0,1,1,0,1,0,1,1,1,0,1,0,1,1,0,1,0,0,1,1,0,0,1,1,1,1,1,0,1,0,0,1,1,1,1,1,0,0,1,1,1,0,1,1,1,0,0,0,0,1,1,0,0,0,1,0,0,1,0,1,1,1,0,0,1,1,0,1,0,1,1,0,0,1,0,1,1,1,0,0,0,0,0,1,0,0,1,1,1,1,1,0,0,0],\"coloraxis\":\"coloraxis\",\"symbol\":\"circle\"},\"name\":\"\",\"showlegend\":false,\"type\":\"splom\"}],                        {\"template\":{\"data\":{\"histogram2dcontour\":[{\"type\":\"histogram2dcontour\",\"colorbar\":{\"outlinewidth\":0,\"ticks\":\"\"},\"colorscale\":[[0.0,\"#0d0887\"],[0.1111111111111111,\"#46039f\"],[0.2222222222222222,\"#7201a8\"],[0.3333333333333333,\"#9c179e\"],[0.4444444444444444,\"#bd3786\"],[0.5555555555555556,\"#d8576b\"],[0.6666666666666666,\"#ed7953\"],[0.7777777777777778,\"#fb9f3a\"],[0.8888888888888888,\"#fdca26\"],[1.0,\"#f0f921\"]]}],\"choropleth\":[{\"type\":\"choropleth\",\"colorbar\":{\"outlinewidth\":0,\"ticks\":\"\"}}],\"histogram2d\":[{\"type\":\"histogram2d\",\"colorbar\":{\"outlinewidth\":0,\"ticks\":\"\"},\"colorscale\":[[0.0,\"#0d0887\"],[0.1111111111111111,\"#46039f\"],[0.2222222222222222,\"#7201a8\"],[0.3333333333333333,\"#9c179e\"],[0.4444444444444444,\"#bd3786\"],[0.5555555555555556,\"#d8576b\"],[0.6666666666666666,\"#ed7953\"],[0.7777777777777778,\"#fb9f3a\"],[0.8888888888888888,\"#fdca26\"],[1.0,\"#f0f921\"]]}],\"heatmap\":[{\"type\":\"heatmap\",\"colorbar\":{\"outlinewidth\":0,\"ticks\":\"\"},\"colorscale\":[[0.0,\"#0d0887\"],[0.1111111111111111,\"#46039f\"],[0.2222222222222222,\"#7201a8\"],[0.3333333333333333,\"#9c179e\"],[0.4444444444444444,\"#bd3786\"],[0.5555555555555556,\"#d8576b\"],[0.6666666666666666,\"#ed7953\"],[0.7777777777777778,\"#fb9f3a\"],[0.8888888888888888,\"#fdca26\"],[1.0,\"#f0f921\"]]}],\"heatmapgl\":[{\"type\":\"heatmapgl\",\"colorbar\":{\"outlinewidth\":0,\"ticks\":\"\"},\"colorscale\":[[0.0,\"#0d0887\"],[0.1111111111111111,\"#46039f\"],[0.2222222222222222,\"#7201a8\"],[0.3333333333333333,\"#9c179e\"],[0.4444444444444444,\"#bd3786\"],[0.5555555555555556,\"#d8576b\"],[0.6666666666666666,\"#ed7953\"],[0.7777777777777778,\"#fb9f3a\"],[0.8888888888888888,\"#fdca26\"],[1.0,\"#f0f921\"]]}],\"contourcarpet\":[{\"type\":\"contourcarpet\",\"colorbar\":{\"outlinewidth\":0,\"ticks\":\"\"}}],\"contour\":[{\"type\":\"contour\",\"colorbar\":{\"outlinewidth\":0,\"ticks\":\"\"},\"colorscale\":[[0.0,\"#0d0887\"],[0.1111111111111111,\"#46039f\"],[0.2222222222222222,\"#7201a8\"],[0.3333333333333333,\"#9c179e\"],[0.4444444444444444,\"#bd3786\"],[0.5555555555555556,\"#d8576b\"],[0.6666666666666666,\"#ed7953\"],[0.7777777777777778,\"#fb9f3a\"],[0.8888888888888888,\"#fdca26\"],[1.0,\"#f0f921\"]]}],\"surface\":[{\"type\":\"surface\",\"colorbar\":{\"outlinewidth\":0,\"ticks\":\"\"},\"colorscale\":[[0.0,\"#0d0887\"],[0.1111111111111111,\"#46039f\"],[0.2222222222222222,\"#7201a8\"],[0.3333333333333333,\"#9c179e\"],[0.4444444444444444,\"#bd3786\"],[0.5555555555555556,\"#d8576b\"],[0.6666666666666666,\"#ed7953\"],[0.7777777777777778,\"#fb9f3a\"],[0.8888888888888888,\"#fdca26\"],[1.0,\"#f0f921\"]]}],\"mesh3d\":[{\"type\":\"mesh3d\",\"colorbar\":{\"outlinewidth\":0,\"ticks\":\"\"}}],\"scatter\":[{\"fillpattern\":{\"fillmode\":\"overlay\",\"size\":10,\"solidity\":0.2},\"type\":\"scatter\"}],\"parcoords\":[{\"type\":\"parcoords\",\"line\":{\"colorbar\":{\"outlinewidth\":0,\"ticks\":\"\"}}}],\"scatterpolargl\":[{\"type\":\"scatterpolargl\",\"marker\":{\"colorbar\":{\"outlinewidth\":0,\"ticks\":\"\"}}}],\"bar\":[{\"error_x\":{\"color\":\"#2a3f5f\"},\"error_y\":{\"color\":\"#2a3f5f\"},\"marker\":{\"line\":{\"color\":\"#E5ECF6\",\"width\":0.5},\"pattern\":{\"fillmode\":\"overlay\",\"size\":10,\"solidity\":0.2}},\"type\":\"bar\"}],\"scattergeo\":[{\"type\":\"scattergeo\",\"marker\":{\"colorbar\":{\"outlinewidth\":0,\"ticks\":\"\"}}}],\"scatterpolar\":[{\"type\":\"scatterpolar\",\"marker\":{\"colorbar\":{\"outlinewidth\":0,\"ticks\":\"\"}}}],\"histogram\":[{\"marker\":{\"pattern\":{\"fillmode\":\"overlay\",\"size\":10,\"solidity\":0.2}},\"type\":\"histogram\"}],\"scattergl\":[{\"type\":\"scattergl\",\"marker\":{\"colorbar\":{\"outlinewidth\":0,\"ticks\":\"\"}}}],\"scatter3d\":[{\"type\":\"scatter3d\",\"line\":{\"colorbar\":{\"outlinewidth\":0,\"ticks\":\"\"}},\"marker\":{\"colorbar\":{\"outlinewidth\":0,\"ticks\":\"\"}}}],\"scattermapbox\":[{\"type\":\"scattermapbox\",\"marker\":{\"colorbar\":{\"outlinewidth\":0,\"ticks\":\"\"}}}],\"scatterternary\":[{\"type\":\"scatterternary\",\"marker\":{\"colorbar\":{\"outlinewidth\":0,\"ticks\":\"\"}}}],\"scattercarpet\":[{\"type\":\"scattercarpet\",\"marker\":{\"colorbar\":{\"outlinewidth\":0,\"ticks\":\"\"}}}],\"carpet\":[{\"aaxis\":{\"endlinecolor\":\"#2a3f5f\",\"gridcolor\":\"white\",\"linecolor\":\"white\",\"minorgridcolor\":\"white\",\"startlinecolor\":\"#2a3f5f\"},\"baxis\":{\"endlinecolor\":\"#2a3f5f\",\"gridcolor\":\"white\",\"linecolor\":\"white\",\"minorgridcolor\":\"white\",\"startlinecolor\":\"#2a3f5f\"},\"type\":\"carpet\"}],\"table\":[{\"cells\":{\"fill\":{\"color\":\"#EBF0F8\"},\"line\":{\"color\":\"white\"}},\"header\":{\"fill\":{\"color\":\"#C8D4E3\"},\"line\":{\"color\":\"white\"}},\"type\":\"table\"}],\"barpolar\":[{\"marker\":{\"line\":{\"color\":\"#E5ECF6\",\"width\":0.5},\"pattern\":{\"fillmode\":\"overlay\",\"size\":10,\"solidity\":0.2}},\"type\":\"barpolar\"}],\"pie\":[{\"automargin\":true,\"type\":\"pie\"}]},\"layout\":{\"autotypenumbers\":\"strict\",\"colorway\":[\"#636efa\",\"#EF553B\",\"#00cc96\",\"#ab63fa\",\"#FFA15A\",\"#19d3f3\",\"#FF6692\",\"#B6E880\",\"#FF97FF\",\"#FECB52\"],\"font\":{\"color\":\"#2a3f5f\"},\"hovermode\":\"closest\",\"hoverlabel\":{\"align\":\"left\"},\"paper_bgcolor\":\"white\",\"plot_bgcolor\":\"#E5ECF6\",\"polar\":{\"bgcolor\":\"#E5ECF6\",\"angularaxis\":{\"gridcolor\":\"white\",\"linecolor\":\"white\",\"ticks\":\"\"},\"radialaxis\":{\"gridcolor\":\"white\",\"linecolor\":\"white\",\"ticks\":\"\"}},\"ternary\":{\"bgcolor\":\"#E5ECF6\",\"aaxis\":{\"gridcolor\":\"white\",\"linecolor\":\"white\",\"ticks\":\"\"},\"baxis\":{\"gridcolor\":\"white\",\"linecolor\":\"white\",\"ticks\":\"\"},\"caxis\":{\"gridcolor\":\"white\",\"linecolor\":\"white\",\"ticks\":\"\"}},\"coloraxis\":{\"colorbar\":{\"outlinewidth\":0,\"ticks\":\"\"}},\"colorscale\":{\"sequential\":[[0.0,\"#0d0887\"],[0.1111111111111111,\"#46039f\"],[0.2222222222222222,\"#7201a8\"],[0.3333333333333333,\"#9c179e\"],[0.4444444444444444,\"#bd3786\"],[0.5555555555555556,\"#d8576b\"],[0.6666666666666666,\"#ed7953\"],[0.7777777777777778,\"#fb9f3a\"],[0.8888888888888888,\"#fdca26\"],[1.0,\"#f0f921\"]],\"sequentialminus\":[[0.0,\"#0d0887\"],[0.1111111111111111,\"#46039f\"],[0.2222222222222222,\"#7201a8\"],[0.3333333333333333,\"#9c179e\"],[0.4444444444444444,\"#bd3786\"],[0.5555555555555556,\"#d8576b\"],[0.6666666666666666,\"#ed7953\"],[0.7777777777777778,\"#fb9f3a\"],[0.8888888888888888,\"#fdca26\"],[1.0,\"#f0f921\"]],\"diverging\":[[0,\"#8e0152\"],[0.1,\"#c51b7d\"],[0.2,\"#de77ae\"],[0.3,\"#f1b6da\"],[0.4,\"#fde0ef\"],[0.5,\"#f7f7f7\"],[0.6,\"#e6f5d0\"],[0.7,\"#b8e186\"],[0.8,\"#7fbc41\"],[0.9,\"#4d9221\"],[1,\"#276419\"]]},\"xaxis\":{\"gridcolor\":\"white\",\"linecolor\":\"white\",\"ticks\":\"\",\"title\":{\"standoff\":15},\"zerolinecolor\":\"white\",\"automargin\":true,\"zerolinewidth\":2},\"yaxis\":{\"gridcolor\":\"white\",\"linecolor\":\"white\",\"ticks\":\"\",\"title\":{\"standoff\":15},\"zerolinecolor\":\"white\",\"automargin\":true,\"zerolinewidth\":2},\"scene\":{\"xaxis\":{\"backgroundcolor\":\"#E5ECF6\",\"gridcolor\":\"white\",\"linecolor\":\"white\",\"showbackground\":true,\"ticks\":\"\",\"zerolinecolor\":\"white\",\"gridwidth\":2},\"yaxis\":{\"backgroundcolor\":\"#E5ECF6\",\"gridcolor\":\"white\",\"linecolor\":\"white\",\"showbackground\":true,\"ticks\":\"\",\"zerolinecolor\":\"white\",\"gridwidth\":2},\"zaxis\":{\"backgroundcolor\":\"#E5ECF6\",\"gridcolor\":\"white\",\"linecolor\":\"white\",\"showbackground\":true,\"ticks\":\"\",\"zerolinecolor\":\"white\",\"gridwidth\":2}},\"shapedefaults\":{\"line\":{\"color\":\"#2a3f5f\"}},\"annotationdefaults\":{\"arrowcolor\":\"#2a3f5f\",\"arrowhead\":0,\"arrowwidth\":1},\"geo\":{\"bgcolor\":\"white\",\"landcolor\":\"#E5ECF6\",\"subunitcolor\":\"white\",\"showland\":true,\"showlakes\":true,\"lakecolor\":\"white\"},\"title\":{\"x\":0.05},\"mapbox\":{\"style\":\"light\"}}},\"coloraxis\":{\"colorbar\":{\"title\":{\"text\":\"conceder\"}},\"colorscale\":[[0.0,\"#0d0887\"],[0.1111111111111111,\"#46039f\"],[0.2222222222222222,\"#7201a8\"],[0.3333333333333333,\"#9c179e\"],[0.4444444444444444,\"#bd3786\"],[0.5555555555555556,\"#d8576b\"],[0.6666666666666666,\"#ed7953\"],[0.7777777777777778,\"#fb9f3a\"],[0.8888888888888888,\"#fdca26\"],[1.0,\"#f0f921\"]]},\"legend\":{\"tracegroupgap\":0},\"margin\":{\"t\":60},\"dragmode\":\"select\"},                        {\"responsive\": true}                    ).then(function(){\n",
              "                            \n",
              "var gd = document.getElementById('33e53973-b58c-459e-9653-c6698a6db771');\n",
              "var x = new MutationObserver(function (mutations, observer) {{\n",
              "        var display = window.getComputedStyle(gd).display;\n",
              "        if (!display || display === 'none') {{\n",
              "            console.log([gd, 'removed!']);\n",
              "            Plotly.purge(gd);\n",
              "            observer.disconnect();\n",
              "        }}\n",
              "}});\n",
              "\n",
              "// Listen for the removal of the full notebook cells\n",
              "var notebookContainer = gd.closest('#notebook-container');\n",
              "if (notebookContainer) {{\n",
              "    x.observe(notebookContainer, {childList: true});\n",
              "}}\n",
              "\n",
              "// Listen for the clearing of the current output cell\n",
              "var outputEl = gd.closest('.output');\n",
              "if (outputEl) {{\n",
              "    x.observe(outputEl, {childList: true});\n",
              "}}\n",
              "\n",
              "                        })                };                            </script>        </div>\n",
              "</body>\n",
              "</html>"
            ]
          },
          "metadata": {}
        }
      ]
    },
    {
      "cell_type": "markdown",
      "source": [
        "**Tratamento de valores faltantes (Não encontrado)**"
      ],
      "metadata": {
        "id": "ld2ggF_T8kcC"
      }
    },
    {
      "cell_type": "code",
      "source": [
        "# Buscar null em todos os registros\n",
        "data_consig.isnull().sum()"
      ],
      "metadata": {
        "colab": {
          "base_uri": "https://localhost:8080/"
        },
        "id": "bitc1LxG8qdD",
        "outputId": "a0ff5225-ae65-4836-905d-4d4d02e6e4fb"
      },
      "execution_count": 31,
      "outputs": [
        {
          "output_type": "execute_result",
          "data": {
            "text/plain": [
              "sexo                  0\n",
              "idade                 0\n",
              "uf                    0\n",
              "situacao_funcional    0\n",
              "tipo_contrato         0\n",
              "pmt_valor             0\n",
              "margem_saldo          0\n",
              "conceder              0\n",
              "dtype: int64"
            ]
          },
          "metadata": {},
          "execution_count": 31
        }
      ]
    },
    {
      "cell_type": "markdown",
      "source": [
        "**Análise de balanceamento por Oversampling**"
      ],
      "metadata": {
        "id": "5-GzzKAZBCB8"
      }
    },
    {
      "cell_type": "code",
      "source": [
        "# Funcão para contar os valores únicos da coluna \"conceder\" e verificar o balanceamento\n",
        "np.unique(data_consig['conceder'], return_counts=True)"
      ],
      "metadata": {
        "colab": {
          "base_uri": "https://localhost:8080/"
        },
        "id": "6_F_GHxA4H-A",
        "outputId": "0e3b551e-9281-4f46-a08f-57623ef450ae"
      },
      "execution_count": 32,
      "outputs": [
        {
          "output_type": "execute_result",
          "data": {
            "text/plain": [
              "(array([0, 1]), array([1900, 3100]))"
            ]
          },
          "metadata": {},
          "execution_count": 32
        }
      ]
    },
    {
      "cell_type": "code",
      "source": [
        "# Plotando em gráfico o balanceamento\n",
        "sns.countplot(x=data_consig['conceder']);"
      ],
      "metadata": {
        "colab": {
          "base_uri": "https://localhost:8080/",
          "height": 449
        },
        "id": "b-Ez-Ntu4Mxy",
        "outputId": "4e514c30-fb37-4cf5-8de2-fd59fb720f3e"
      },
      "execution_count": 33,
      "outputs": [
        {
          "output_type": "display_data",
          "data": {
            "text/plain": [
              "<Figure size 640x480 with 1 Axes>"
            ],
            "image/png": "[encoded data removed]"
          },
          "metadata": {}
        }
      ]
    },
    {
      "cell_type": "code",
      "source": [
        "# Dividir entre previsores e classes\n",
        "X = data_consig.drop('conceder', axis=1)\n",
        "y = data_consig[['conceder']]\n",
        "\n",
        "# Codificar variáveis categóricas\n",
        "label_encoder_sexo = LabelEncoder()\n",
        "label_encoder_uf = LabelEncoder()\n",
        "label_encoder_sit_func = LabelEncoder()\n",
        "label_encoder_tp_cont = LabelEncoder()\n",
        "\n",
        "X.iloc[:,0] = label_encoder_sexo.fit_transform(X.iloc[:,0])\n",
        "X.iloc[:,2] = label_encoder_uf.fit_transform(X.iloc[:,2])\n",
        "X.iloc[:,3] = label_encoder_sit_func.fit_transform(X.iloc[:,3])\n",
        "X.iloc[:,4] = label_encoder_tp_cont.fit_transform(X.iloc[:,4])\n",
        "\n",
        "# Holdout\n",
        "X_consig_training, X_consig_test, y_consig_training, y_consig_test = train_test_split(X, y)\n"
      ],
      "metadata": {
        "id": "KfLXXXlLg84C"
      },
      "execution_count": 34,
      "outputs": []
    },
    {
      "cell_type": "code",
      "source": [
        "# Funcão para validação cruzada\n",
        "def cross_validation(model, X_consig, y_consig, oversampling=False):\n",
        "    kfold = KFold(n_splits=10)\n",
        "\n",
        "    # lista de acurácias de cada split\n",
        "    accuracy_split = []\n",
        "\n",
        "    for idx,(idx_training, idx_validation) in enumerate(kfold.split(X_consig)):\n",
        "        X_split_training = X_consig.iloc[idx_training,:]\n",
        "        y_split_training = y_consig.iloc[idx_training,:]\n",
        "\n",
        "        # oversampling, só no split de treino!\n",
        "        if oversampling:\n",
        "            sm = SMOTE(random_state=42)\n",
        "            X_split_training, y_split_training = sm.fit_resample(X_split_training, y_split_training)\n",
        "\n",
        "        # Treinando o modelo\n",
        "        model.fit(X_split_training, y_split_training.values.flatten())\n",
        "\n",
        "        X_split_validation = X_consig.iloc[idx_validation, :]\n",
        "        y_split_validation = y_consig.iloc[idx_validation, :]\n",
        "\n",
        "        # Validação SEM oversampling\n",
        "        predict_validation = model.predict(X_split_validation)\n",
        "\n",
        "        acuracia_split = accuracy_score(y_split_validation, predict_validation)\n",
        "\n",
        "        accuracy_split.append(acuracia_split)\n",
        "\n",
        "        print(f'Acurácia do split {idx}: {accuracy_split}')\n",
        "    return accuracy_split"
      ],
      "metadata": {
        "id": "Hk7U7yl8hNhK"
      },
      "execution_count": 35,
      "outputs": []
    },
    {
      "cell_type": "code",
      "source": [
        "# Criando o modelo\n",
        "model_hgb = HistGradientBoostingClassifier()\n",
        "\n",
        "mean_accuracy_with_smote = mean(cross_validation(model_hgb, X_consig_training, y_consig_training, oversampling=False))\n",
        "mean_accuracy_no_smote = mean(cross_validation(model_hgb, X_consig_training, y_consig_training, oversampling=True))\n",
        "\n",
        "f'No smote: {mean_accuracy_no_smote:.02f}, with_smo: {mean_accuracy_with_smote:.02f}'"
      ],
      "metadata": {
        "colab": {
          "base_uri": "https://localhost:8080/",
          "height": 393
        },
        "id": "Lkx8z_GDi6LF",
        "outputId": "371c02da-092d-4fbc-8366-707782a24b86"
      },
      "execution_count": 36,
      "outputs": [
        {
          "output_type": "stream",
          "name": "stdout",
          "text": [
            "Acurácia do split 0: [0.9946666666666667]\n",
            "Acurácia do split 1: [0.9946666666666667, 0.9946666666666667]\n",
            "Acurácia do split 2: [0.9946666666666667, 0.9946666666666667, 0.9946666666666667]\n",
            "Acurácia do split 3: [0.9946666666666667, 0.9946666666666667, 0.9946666666666667, 0.992]\n",
            "Acurácia do split 4: [0.9946666666666667, 0.9946666666666667, 0.9946666666666667, 0.992, 0.9946666666666667]\n",
            "Acurácia do split 5: [0.9946666666666667, 0.9946666666666667, 0.9946666666666667, 0.992, 0.9946666666666667, 0.984]\n",
            "Acurácia do split 6: [0.9946666666666667, 0.9946666666666667, 0.9946666666666667, 0.992, 0.9946666666666667, 0.984, 0.9946666666666667]\n",
            "Acurácia do split 7: [0.9946666666666667, 0.9946666666666667, 0.9946666666666667, 0.992, 0.9946666666666667, 0.984, 0.9946666666666667, 1.0]\n",
            "Acurácia do split 8: [0.9946666666666667, 0.9946666666666667, 0.9946666666666667, 0.992, 0.9946666666666667, 0.984, 0.9946666666666667, 1.0, 0.9973333333333333]\n",
            "Acurácia do split 9: [0.9946666666666667, 0.9946666666666667, 0.9946666666666667, 0.992, 0.9946666666666667, 0.984, 0.9946666666666667, 1.0, 0.9973333333333333, 0.9893333333333333]\n",
            "Acurácia do split 0: [0.992]\n",
            "Acurácia do split 1: [0.992, 0.9973333333333333]\n",
            "Acurácia do split 2: [0.992, 0.9973333333333333, 0.992]\n",
            "Acurácia do split 3: [0.992, 0.9973333333333333, 0.992, 0.9893333333333333]\n",
            "Acurácia do split 4: [0.992, 0.9973333333333333, 0.992, 0.9893333333333333, 0.9866666666666667]\n",
            "Acurácia do split 5: [0.992, 0.9973333333333333, 0.992, 0.9893333333333333, 0.9866666666666667, 0.992]\n",
            "Acurácia do split 6: [0.992, 0.9973333333333333, 0.992, 0.9893333333333333, 0.9866666666666667, 0.992, 0.9893333333333333]\n",
            "Acurácia do split 7: [0.992, 0.9973333333333333, 0.992, 0.9893333333333333, 0.9866666666666667, 0.992, 0.9893333333333333, 0.9973333333333333]\n",
            "Acurácia do split 8: [0.992, 0.9973333333333333, 0.992, 0.9893333333333333, 0.9866666666666667, 0.992, 0.9893333333333333, 0.9973333333333333, 0.9973333333333333]\n",
            "Acurácia do split 9: [0.992, 0.9973333333333333, 0.992, 0.9893333333333333, 0.9866666666666667, 0.992, 0.9893333333333333, 0.9973333333333333, 0.9973333333333333, 0.992]\n"
          ]
        },
        {
          "output_type": "execute_result",
          "data": {
            "text/plain": [
              "'No smote: 0.99, with_smo: 0.99'"
            ],
            "application/vnd.google.colaboratory.intrinsic+json": {
              "type": "string"
            }
          },
          "metadata": {},
          "execution_count": 36
        }
      ]
    },
    {
      "cell_type": "markdown",
      "source": [
        "- Com Oversampling = 0,99\n",
        "- Sem Oversampling = 0,99\n",
        "\n",
        "Como podemos notar, não houve ganho aplicando Oversampling. Desta forma, **não iremos utilizá-lo**.\n",
        "\n",
        "** Importante: realizamos essas análise, apenas em uma base de treinamento isolada."
      ],
      "metadata": {
        "id": "rLsRw8bejN9H"
      }
    },
    {
      "cell_type": "markdown",
      "source": [
        "**Holdout - Divisão das bases em treinamento e teste. No caso, dividiremos a base de treinamento em 75% e teste com 25%.**"
      ],
      "metadata": {
        "id": "XDxOTwig-4vl"
      }
    },
    {
      "cell_type": "code",
      "source": [
        "# Divisão das bases de treinamento e teste\n",
        "# Transformando as variáveis para numpy\n",
        "X_consig = X.values\n",
        "y_consig = y.values\n",
        "X_consig_training, X_consig_test, y_consig_training, y_consig_test = train_test_split(X_consig, y_consig, test_size=0.25, random_state=10) #\n",
        "X_consig_training.shape, y_consig_training.shape # Exibindo a dimensionalidade da base de treinamento"
      ],
      "metadata": {
        "colab": {
          "base_uri": "https://localhost:8080/"
        },
        "id": "MceGj79f_Hcv",
        "outputId": "0796e48d-c2a5-4ac4-e291-140c181054c9"
      },
      "execution_count": 37,
      "outputs": [
        {
          "output_type": "execute_result",
          "data": {
            "text/plain": [
              "((3750, 7), (3750, 1))"
            ]
          },
          "metadata": {},
          "execution_count": 37
        }
      ]
    },
    {
      "cell_type": "code",
      "source": [
        "# Parâmetros e partições da validação cruzada\n",
        "scoring = 'accuracy'\n",
        "num_particoes = 10\n",
        "kfold = StratifiedKFold(n_splits=num_particoes, shuffle=True, random_state=10) # validação cruzada com estratificação"
      ],
      "metadata": {
        "id": "GbVckon-_Mp3"
      },
      "execution_count": 38,
      "outputs": []
    },
    {
      "cell_type": "code",
      "source": [
        "# Modelagem e Inferência\n",
        "# Criação e avaliação de modelos: linha base\n",
        "np.random.seed(7) # definindo uma semente global\n",
        "\n",
        "# Lista que armazenará os modelos\n",
        "models = []\n",
        "\n",
        "# Criando os modelos e adicionando-os na lista de modelos\n",
        "models.append(('LR', LogisticRegression(max_iter=200)))\n",
        "models.append(('KNN', KNeighborsClassifier()))\n",
        "models.append(('CART', DecisionTreeClassifier()))\n",
        "models.append(('NB', GaussianNB()))\n",
        "models.append(('SVM', SVC()))\n",
        "\n",
        "# Definindo os parâmetros do classificador base para o BaggingClassifier\n",
        "base = DecisionTreeClassifier()\n",
        "num_trees = 100\n",
        "max_features = 3\n",
        "\n",
        "# Criando os modelos para o VotingClassifier\n",
        "bases = []\n",
        "model1 = LogisticRegression(max_iter=200)\n",
        "bases.append(('logistic', model1))\n",
        "model2 = DecisionTreeClassifier()\n",
        "bases.append(('cart', model2))\n",
        "model3 = SVC()\n",
        "bases.append(('svm', model3))\n",
        "\n",
        "# Criando os ensembles e adicionando-os na lista de modelos\n",
        "models.append(('Bagging', BaggingClassifier(estimator=base, n_estimators=num_trees)))\n",
        "models.append(('RF', RandomForestClassifier(n_estimators=num_trees, max_features=max_features)))\n",
        "models.append(('ET', ExtraTreesClassifier(n_estimators=num_trees, max_features=max_features)))\n",
        "models.append(('Ada', AdaBoostClassifier(n_estimators=num_trees)))\n",
        "models.append(('GB', GradientBoostingClassifier(n_estimators=num_trees)))\n",
        "models.append(('Voting', VotingClassifier(bases)))\n",
        "\n",
        "# Listas para armazenar os resultados\n",
        "results = []\n",
        "names = []\n",
        "\n",
        "# Avaliação dos modelos\n",
        "for name, model in models:\n",
        "    cv_results = cross_val_score(model, X_consig_training, y_consig_training, cv=kfold, scoring=scoring)\n",
        "    results.append(cv_results)\n",
        "    names.append(name)\n",
        "    msg = \"%s: %f (%f)\" % (name, cv_results.mean(), cv_results.std())\n",
        "    print(msg)\n",
        "\n",
        "\n",
        "\n",
        "# Boxplot de comparação dos modelos\n",
        "fig = plt.figure(figsize=(15,10))\n",
        "fig.suptitle('Comparação dos Modelos')\n",
        "ax = fig.add_subplot(111)\n",
        "plt.boxplot(results)\n",
        "ax.set_xticklabels(names)\n",
        "plt.show()"
      ],
      "metadata": {
        "id": "4dZVffw1_Pa3",
        "colab": {
          "base_uri": "https://localhost:8080/",
          "height": 1000
        },
        "outputId": "986c6a13-c559-4321-cb7b-aa3a8becebef"
      },
      "execution_count": 39,
      "outputs": [
        {
          "output_type": "stream",
          "name": "stdout",
          "text": [
            "LR: 0.781600 (0.018608)\n",
            "KNN: 0.814400 (0.016958)\n",
            "CART: 0.985867 (0.006751)\n",
            "NB: 0.719467 (0.024753)\n",
            "SVM: 0.807733 (0.014725)\n",
            "Bagging: 0.990133 (0.005969)\n",
            "RF: 0.991467 (0.003733)\n",
            "ET: 0.973867 (0.006510)\n",
            "Ada: 0.988800 (0.002872)\n",
            "GB: 0.988800 (0.005307)\n",
            "Voting: 0.927467 (0.012666)\n"
          ]
        },
        {
          "output_type": "display_data",
          "data": {
            "text/plain": [
              "<Figure size 1500x1000 with 1 Axes>"
            ],
            "image/png": "[encoded data removed]"
          },
          "metadata": {}
        }
      ]
    },
    {
      "cell_type": "markdown",
      "source": [
        "**Percebemos que o RandomForest teve um ótimo desempenho**"
      ],
      "metadata": {
        "id": "zAQamia6z4u-"
      }
    },
    {
      "cell_type": "code",
      "source": [
        "# Criação e avaliação de modelos: dados padronizados e normalizados\n",
        "\n",
        "np.random.seed(7) # definindo uma semente global para este bloco\n",
        "\n",
        "# Listas para armazenar os pipelines e os resultados para todas as visões do dataset\n",
        "pipelines = []\n",
        "results = []\n",
        "names = []\n",
        "\n",
        "\n",
        "# Criando os elementos do pipeline\n",
        "\n",
        "# Algoritmos que serão utilizados\n",
        "reg_log = ('LR', LogisticRegression(max_iter=200))\n",
        "knn = ('KNN', KNeighborsClassifier())\n",
        "cart = ('CART', DecisionTreeClassifier())\n",
        "naive_bayes = ('NB', GaussianNB())\n",
        "svm = ('SVM', SVC())\n",
        "bagging = ('Bag', BaggingClassifier(estimator=base, n_estimators=num_trees))\n",
        "random_forest = ('RF', RandomForestClassifier(n_estimators=num_trees, max_features=max_features))\n",
        "extra_trees = ('ET', ExtraTreesClassifier(n_estimators=num_trees, max_features=max_features))\n",
        "adaboost = ('Ada', AdaBoostClassifier(n_estimators=num_trees))\n",
        "gradient_boosting = ('GB', GradientBoostingClassifier(n_estimators=num_trees))\n",
        "voting = ('Voting', VotingClassifier(bases))\n",
        "\n",
        "# Transformações que serão utilizadas\n",
        "standard_scaler = ('StandardScaler', StandardScaler())\n",
        "min_max_scaler = ('MinMaxScaler', MinMaxScaler())\n",
        "\n",
        "\n",
        "\n",
        "# Montando os pipelines\n",
        "\n",
        "# Dataset original\n",
        "pipelines.append(('LR-orig', Pipeline([reg_log])))\n",
        "pipelines.append(('KNN-orig', Pipeline([knn])))\n",
        "pipelines.append(('CART-orig', Pipeline([cart])))\n",
        "pipelines.append(('NB-orig', Pipeline([naive_bayes])))\n",
        "pipelines.append(('SVM-orig', Pipeline([svm])))\n",
        "pipelines.append(('Bag-orig', Pipeline([bagging])))\n",
        "pipelines.append(('RF-orig', Pipeline([random_forest])))\n",
        "pipelines.append(('ET-orig', Pipeline([extra_trees])))\n",
        "pipelines.append(('Ada-orig', Pipeline([adaboost])))\n",
        "pipelines.append(('GB-orig', Pipeline([gradient_boosting])))\n",
        "pipelines.append(('Vot-orig', Pipeline([voting])))\n",
        "\n",
        "# Dataset Padronizado\n",
        "pipelines.append(('LR-padr', Pipeline([standard_scaler, reg_log])))\n",
        "pipelines.append(('KNN-padr', Pipeline([standard_scaler, knn])))\n",
        "pipelines.append(('CART-padr', Pipeline([standard_scaler, cart])))\n",
        "pipelines.append(('NB-padr', Pipeline([standard_scaler, naive_bayes])))\n",
        "pipelines.append(('SVM-padr', Pipeline([standard_scaler, svm])))\n",
        "pipelines.append(('Bag-padr', Pipeline([standard_scaler, bagging])))\n",
        "pipelines.append(('RF-padr', Pipeline([standard_scaler, random_forest])))\n",
        "pipelines.append(('ET-padr', Pipeline([standard_scaler, extra_trees])))\n",
        "pipelines.append(('Ada-padr', Pipeline([standard_scaler, adaboost])))\n",
        "pipelines.append(('GB-padr', Pipeline([standard_scaler, gradient_boosting])))\n",
        "pipelines.append(('Vot-padr', Pipeline([standard_scaler, voting])))\n",
        "\n",
        "# Dataset Normalizado\n",
        "pipelines.append(('LR-norm', Pipeline([min_max_scaler, reg_log])))\n",
        "pipelines.append(('KNN-norm', Pipeline([min_max_scaler, knn])))\n",
        "pipelines.append(('CART-norm', Pipeline([min_max_scaler, cart])))\n",
        "pipelines.append(('NB-norm', Pipeline([min_max_scaler, naive_bayes])))\n",
        "pipelines.append(('SVM-norm', Pipeline([min_max_scaler, svm])))\n",
        "pipelines.append(('Bag-norm', Pipeline([min_max_scaler, bagging])))\n",
        "pipelines.append(('RF-norm', Pipeline([min_max_scaler, random_forest])))\n",
        "pipelines.append(('ET-norm', Pipeline([min_max_scaler, extra_trees])))\n",
        "pipelines.append(('Ada-norm', Pipeline([min_max_scaler, adaboost])))\n",
        "pipelines.append(('GB-norm', Pipeline([min_max_scaler, gradient_boosting])))\n",
        "pipelines.append(('Vot-norm', Pipeline([min_max_scaler, voting])))\n",
        "\n",
        "# Executando os pipelines\n",
        "for name, model in pipelines:\n",
        "    cv_results = cross_val_score(model, X_consig_training, y_consig_training, cv=kfold, scoring=scoring)\n",
        "    results.append(cv_results)\n",
        "    names.append(name)\n",
        "    msg = \"%s: %.3f (%.3f)\" % (name, cv_results.mean(), cv_results.std()) # formatando para 3 casas decimais\n",
        "    print(msg)\n",
        "\n",
        "# Boxplot de comparação dos modelos\n",
        "fig = plt.figure(figsize=(25,6))\n",
        "fig.suptitle('Comparação dos Modelos - Dataset orginal, padronizado e normalizado')\n",
        "ax = fig.add_subplot(111)\n",
        "plt.boxplot(results)\n",
        "ax.set_xticklabels(names, rotation=90)\n",
        "plt.show()"
      ],
      "metadata": {
        "colab": {
          "base_uri": "https://localhost:8080/",
          "height": 1000
        },
        "id": "btx0YiTH4mYq",
        "outputId": "5c986ebb-983c-4654-eabe-a01ea5b80e73"
      },
      "execution_count": 40,
      "outputs": [
        {
          "output_type": "stream",
          "name": "stdout",
          "text": [
            "LR-orig: 0.782 (0.019)\n",
            "KNN-orig: 0.814 (0.017)\n",
            "CART-orig: 0.986 (0.007)\n",
            "NB-orig: 0.719 (0.025)\n",
            "SVM-orig: 0.808 (0.015)\n",
            "Bag-orig: 0.990 (0.006)\n",
            "RF-orig: 0.991 (0.004)\n",
            "ET-orig: 0.974 (0.007)\n",
            "Ada-orig: 0.989 (0.003)\n",
            "GB-orig: 0.989 (0.005)\n",
            "Vot-orig: 0.927 (0.013)\n",
            "LR-padr: 0.783 (0.021)\n",
            "KNN-padr: 0.889 (0.013)\n",
            "CART-padr: 0.985 (0.008)\n",
            "NB-padr: 0.701 (0.023)\n",
            "SVM-padr: 0.925 (0.014)\n",
            "Bag-padr: 0.989 (0.007)\n",
            "RF-padr: 0.990 (0.005)\n",
            "ET-padr: 0.972 (0.009)\n",
            "Ada-padr: 0.989 (0.003)\n",
            "GB-padr: 0.989 (0.005)\n",
            "Vot-padr: 0.939 (0.014)\n",
            "LR-norm: 0.767 (0.020)\n",
            "KNN-norm: 0.864 (0.015)\n",
            "CART-norm: 0.986 (0.007)\n",
            "NB-norm: 0.701 (0.023)\n",
            "SVM-norm: 0.816 (0.018)\n",
            "Bag-norm: 0.990 (0.005)\n",
            "RF-norm: 0.991 (0.006)\n",
            "ET-norm: 0.973 (0.009)\n",
            "Ada-norm: 0.989 (0.003)\n",
            "GB-norm: 0.989 (0.005)\n",
            "Vot-norm: 0.849 (0.017)\n"
          ]
        },
        {
          "output_type": "display_data",
          "data": {
            "text/plain": [
              "<Figure size 2500x600 with 1 Axes>"
            ],
            "image/png": "[encoded data removed]"
          },
          "metadata": {}
        }
      ]
    },
    {
      "cell_type": "markdown",
      "source": [
        "**Não constatamos melhoras, após aplicarmos a padronização e normalização.**"
      ],
      "metadata": {
        "id": "hSye1YSp0klz"
      }
    },
    {
      "cell_type": "code",
      "source": [
        "# Otimização dos hiperparâmetros\n",
        "# Tuning do RandomForestClassifier\n",
        "\n",
        "np.random.seed(7) # definindo uma semente global para este bloco\n",
        "\n",
        "pipelines = []\n",
        "\n",
        "# Definindo os componentes do pipeline\n",
        "random_forest = ('RF', RandomForestClassifier(n_estimators=num_trees, max_features=max_features))\n",
        "\n",
        "standard_scaler = ('StandardScaler', StandardScaler())\n",
        "min_max_scaler = ('MinMaxScaler', MinMaxScaler())\n",
        "\n",
        "pipelines.append(('RF-orig', Pipeline(steps=[random_forest])))\n",
        "pipelines.append(('RF-padr', Pipeline(steps=[standard_scaler, random_forest])))\n",
        "pipelines.append(('RF-norm', Pipeline(steps=[min_max_scaler, random_forest])))\n",
        "\n",
        "param_grid = {\n",
        "    'RF__n_estimators': [10,50,100],\n",
        "    'RF__max_depth': [5, 10, 15],\n",
        "    'RF__criterion': ['gini','entropy','log_loss'],\n",
        "    'RF__max_features': [0.5, 1.0, 1.5],\n",
        "}\n",
        "\n",
        "# Prepara e executa o GridSearchCV\n",
        "for name, model in pipelines:\n",
        "    grid = GridSearchCV(estimator=model, param_grid=param_grid, scoring=scoring, cv=kfold)\n",
        "    grid.fit(X_consig_training, y_consig_training)\n",
        "    # imprime a melhor configuração\n",
        "    #print(\"Melhor: %f usando %s\" % (name, grid.best_score_, grid.best_params_))\n",
        "    print(name,grid.best_score_,grid.best_params_)"
      ],
      "metadata": {
        "colab": {
          "base_uri": "https://localhost:8080/"
        },
        "id": "xenUn6hbdKcK",
        "outputId": "b9fb2d62-0d30-47cf-ca89-799b06bb31bb"
      },
      "execution_count": 41,
      "outputs": [
        {
          "output_type": "stream",
          "name": "stdout",
          "text": [
            "RF-orig 0.9925333333333335 {'RF__criterion': 'entropy', 'RF__max_depth': 15, 'RF__max_features': 1.0, 'RF__n_estimators': 100}\n",
            "RF-padr 0.9928000000000001 {'RF__criterion': 'log_loss', 'RF__max_depth': 15, 'RF__max_features': 1.0, 'RF__n_estimators': 50}\n",
            "RF-norm 0.9925333333333335 {'RF__criterion': 'entropy', 'RF__max_depth': 15, 'RF__max_features': 1.0, 'RF__n_estimators': 50}\n"
          ]
        }
      ]
    },
    {
      "cell_type": "markdown",
      "source": [
        "**Após ajustarmos os hiperparâmetros, também não percebemos melhoras significativas.**"
      ],
      "metadata": {
        "id": "YDJMiT5F08sD"
      }
    },
    {
      "cell_type": "code",
      "source": [
        "# Finalização do Modelo\n",
        "# Avaliação do modelo com o conjunto de testes\n",
        "\n",
        "# Preparação do modelo\n",
        "scaler = StandardScaler().fit(X_consig_training) # ajuste do scaler com o conjunto de treino\n",
        "rescaledX = scaler.transform(X_consig_training) # aplicação da padronização no conjunto de treino\n",
        "model = RandomForestClassifier(n_estimators=50, max_features=1.0, criterion='log_loss', max_depth=15)\n",
        "model.fit(rescaledX, y_consig_training)\n",
        "\n",
        "# Estimativa da acurácia no conjunto de teste\n",
        "rescaledTestX = scaler.transform(X_consig_test) # aplicação da padronização no conjunto de teste\n",
        "predictions = model.predict(rescaledTestX)\n",
        "print(accuracy_score(y_consig_test, predictions))"
      ],
      "metadata": {
        "colab": {
          "base_uri": "https://localhost:8080/"
        },
        "id": "FElz-Wp3dtG0",
        "outputId": "49fdbcf7-39a0-4edb-dd15-903d4e6600b8"
      },
      "execution_count": 42,
      "outputs": [
        {
          "output_type": "stream",
          "name": "stdout",
          "text": [
            "0.9896\n"
          ]
        }
      ]
    },
    {
      "cell_type": "code",
      "source": [
        "# Preparação do modelo com TODO o dataset\n",
        "scaler = StandardScaler().fit(X_consig) # ajuste do scaler com TODO o dataset\n",
        "rescaledX = scaler.transform(X_consig) # aplicação da padronização com TODO o dataset\n",
        "model.fit(rescaledX, y_consig)"
      ],
      "metadata": {
        "colab": {
          "base_uri": "https://localhost:8080/",
          "height": 92
        },
        "id": "fwra9XRrdxVc",
        "outputId": "b9642798-ae0d-4663-d88a-a1f45332b552"
      },
      "execution_count": 43,
      "outputs": [
        {
          "output_type": "execute_result",
          "data": {
            "text/plain": [
              "RandomForestClassifier(criterion='log_loss', max_depth=15, max_features=1.0,\n",
              "                       n_estimators=50)"
            ],
            "text/html": [
              "<style>#sk-container-id-1 {color: black;background-color: white;}#sk-container-id-1 pre{padding: 0;}#sk-container-id-1 div.sk-toggleable {background-color: white;}#sk-container-id-1 label.sk-toggleable__label {cursor: pointer;display: block;width: 100%;margin-bottom: 0;padding: 0.3em;box-sizing: border-box;text-align: center;}#sk-container-id-1 label.sk-toggleable__label-arrow:before {content: \"▸\";float: left;margin-right: 0.25em;color: #696969;}#sk-container-id-1 label.sk-toggleable__label-arrow:hover:before {color: black;}#sk-container-id-1 div.sk-estimator:hover label.sk-toggleable__label-arrow:before {color: black;}#sk-container-id-1 div.sk-toggleable__content {max-height: 0;max-width: 0;overflow: hidden;text-align: left;background-color: #f0f8ff;}#sk-container-id-1 div.sk-toggleable__content pre {margin: 0.2em;color: black;border-radius: 0.25em;background-color: #f0f8ff;}#sk-container-id-1 input.sk-toggleable__control:checked~div.sk-toggleable__content {max-height: 200px;max-width: 100%;overflow: auto;}#sk-container-id-1 input.sk-toggleable__control:checked~label.sk-toggleable__label-arrow:before {content: \"▾\";}#sk-container-id-1 div.sk-estimator input.sk-toggleable__control:checked~label.sk-toggleable__label {background-color: #d4ebff;}#sk-container-id-1 div.sk-label input.sk-toggleable__control:checked~label.sk-toggleable__label {background-color: #d4ebff;}#sk-container-id-1 input.sk-hidden--visually {border: 0;clip: rect(1px 1px 1px 1px);clip: rect(1px, 1px, 1px, 1px);height: 1px;margin: -1px;overflow: hidden;padding: 0;position: absolute;width: 1px;}#sk-container-id-1 div.sk-estimator {font-family: monospace;background-color: #f0f8ff;border: 1px dotted black;border-radius: 0.25em;box-sizing: border-box;margin-bottom: 0.5em;}#sk-container-id-1 div.sk-estimator:hover {background-color: #d4ebff;}#sk-container-id-1 div.sk-parallel-item::after {content: \"\";width: 100%;border-bottom: 1px solid gray;flex-grow: 1;}#sk-container-id-1 div.sk-label:hover label.sk-toggleable__label {background-color: #d4ebff;}#sk-container-id-1 div.sk-serial::before {content: \"\";position: absolute;border-left: 1px solid gray;box-sizing: border-box;top: 0;bottom: 0;left: 50%;z-index: 0;}#sk-container-id-1 div.sk-serial {display: flex;flex-direction: column;align-items: center;background-color: white;padding-right: 0.2em;padding-left: 0.2em;position: relative;}#sk-container-id-1 div.sk-item {position: relative;z-index: 1;}#sk-container-id-1 div.sk-parallel {display: flex;align-items: stretch;justify-content: center;background-color: white;position: relative;}#sk-container-id-1 div.sk-item::before, #sk-container-id-1 div.sk-parallel-item::before {content: \"\";position: absolute;border-left: 1px solid gray;box-sizing: border-box;top: 0;bottom: 0;left: 50%;z-index: -1;}#sk-container-id-1 div.sk-parallel-item {display: flex;flex-direction: column;z-index: 1;position: relative;background-color: white;}#sk-container-id-1 div.sk-parallel-item:first-child::after {align-self: flex-end;width: 50%;}#sk-container-id-1 div.sk-parallel-item:last-child::after {align-self: flex-start;width: 50%;}#sk-container-id-1 div.sk-parallel-item:only-child::after {width: 0;}#sk-container-id-1 div.sk-dashed-wrapped {border: 1px dashed gray;margin: 0 0.4em 0.5em 0.4em;box-sizing: border-box;padding-bottom: 0.4em;background-color: white;}#sk-container-id-1 div.sk-label label {font-family: monospace;font-weight: bold;display: inline-block;line-height: 1.2em;}#sk-container-id-1 div.sk-label-container {text-align: center;}#sk-container-id-1 div.sk-container {/* jupyter's `normalize.less` sets `[hidden] { display: none; }` but bootstrap.min.css set `[hidden] { display: none !important; }` so we also need the `!important` here to be able to override the default hidden behavior on the sphinx rendered scikit-learn.org. See: https://github.com/scikit-learn/scikit-learn/issues/21755 */display: inline-block !important;position: relative;}#sk-container-id-1 div.sk-text-repr-fallback {display: none;}</style><div id=\"sk-container-id-1\" class=\"sk-top-container\"><div class=\"sk-text-repr-fallback\"><pre>RandomForestClassifier(criterion=&#x27;log_loss&#x27;, max_depth=15, max_features=1.0,\n",
              "                       n_estimators=50)</pre><b>In a Jupyter environment, please rerun this cell to show the HTML representation or trust the notebook. <br />On GitHub, the HTML representation is unable to render, please try loading this page with nbviewer.org.</b></div><div class=\"sk-container\" hidden><div class=\"sk-item\"><div class=\"sk-estimator sk-toggleable\"><input class=\"sk-toggleable__control sk-hidden--visually\" id=\"sk-estimator-id-1\" type=\"checkbox\" checked><label for=\"sk-estimator-id-1\" class=\"sk-toggleable__label sk-toggleable__label-arrow\">RandomForestClassifier</label><div class=\"sk-toggleable__content\"><pre>RandomForestClassifier(criterion=&#x27;log_loss&#x27;, max_depth=15, max_features=1.0,\n",
              "                       n_estimators=50)</pre></div></div></div></div></div>"
            ]
          },
          "metadata": {},
          "execution_count": 43
        }
      ]
    },
    {
      "cell_type": "code",
      "source": [
        "# Matriz de confusão\n",
        "confusion_matrix(y_consig_test, predictions)"
      ],
      "metadata": {
        "colab": {
          "base_uri": "https://localhost:8080/"
        },
        "id": "gcq1hueIdy4d",
        "outputId": "875bce81-3f0f-4899-f814-6b4bb160cd07"
      },
      "execution_count": 44,
      "outputs": [
        {
          "output_type": "execute_result",
          "data": {
            "text/plain": [
              "array([[454,   6],\n",
              "       [  7, 783]])"
            ]
          },
          "metadata": {},
          "execution_count": 44
        }
      ]
    },
    {
      "cell_type": "code",
      "source": [
        "# Visualizando através do gráfico da matriz de confusão\n",
        "cm = confusion_matrix(y_consig_test, predictions)\n",
        "cm_display = ConfusionMatrixDisplay(cm).plot()"
      ],
      "metadata": {
        "colab": {
          "base_uri": "https://localhost:8080/",
          "height": 449
        },
        "id": "_M1vHqEyd1-C",
        "outputId": "f8e59963-bbb5-4503-e2ad-31595c942443"
      },
      "execution_count": 45,
      "outputs": [
        {
          "output_type": "display_data",
          "data": {
            "text/plain": [
              "<Figure size 640x480 with 2 Axes>"
            ],
            "image/png": "[encoded data removed]"
          },
          "metadata": {}
        }
      ]
    },
    {
      "cell_type": "markdown",
      "source": [
        "**Análise da Matriz de Confusão**\n",
        "\n",
        "- Verdadeiro Positivo: 455 - Quando o classificador previu SIM (CONCEDER = 0) e a classe correta é SIM (CONCEDER=0)\n",
        "- Verdadeiro Negativo: 785 - Quando o classificador previu NÂO (CONCEDER = 1) e a classe correta é NÂO (CONCEDER=1)\n",
        "- Falso Positivo: 5 - Quando o classificador previu SIM (CONCEDER = 0) e a classe correta é NÂO (CONCEDER = 1)\n",
        "- Falso Negativo: 5 - Quando o classificador previu NÂO (CONCEDER = 1) e a classe correta é SIM (CONCEDER = 0)\n",
        "\n",
        "Total de Registros: 1250\n",
        "Taxa de acerto (acurácia): (455 + 785) / 1250 = 0,992\n"
      ],
      "metadata": {
        "id": "iW6paLFFlBXu"
      }
    },
    {
      "cell_type": "code",
      "source": [
        "from sklearn.metrics import PrecisionRecallDisplay\n",
        "\n",
        "display = PrecisionRecallDisplay.from_predictions(y_consig_test, predictions, name=\"RandomForrest\")\n",
        "plt.show()"
      ],
      "metadata": {
        "colab": {
          "base_uri": "https://localhost:8080/",
          "height": 449
        },
        "id": "rFrMuAHO5ZcR",
        "outputId": "b2b70c01-aa0c-4898-ef4f-5fdf6e155a6f"
      },
      "execution_count": 46,
      "outputs": [
        {
          "output_type": "display_data",
          "data": {
            "text/plain": [
              "<Figure size 640x480 with 1 Axes>"
            ],
            "image/png": "[encoded data removed]"
          },
          "metadata": {}
        }
      ]
    },
    {
      "cell_type": "markdown",
      "source": [
        "***Importante: Essa plotagem não permite o aumento de casas decimais!!!***"
      ],
      "metadata": {
        "id": "8CQQw-yvP-MU"
      }
    },
    {
      "cell_type": "markdown",
      "source": [
        "Análise de Precision e Recall\n",
        "\n",
        "**Precision**\n",
        "\n",
        "Quando o modelo previu SIM, o quanto ele estava certo?\n",
        "- 455 / (455 + 5) = 0,989\n",
        "- O modelo identifica corretamente 99% para concessão do crédito\n",
        "\n",
        "**Recall**\n",
        "- 455 / (455 + 5) = 0,989\n",
        "- O modelo identifica corretamente 99% de toda base"
      ],
      "metadata": {
        "id": "f0C-ZyTzoK7R"
      }
    },
    {
      "cell_type": "code",
      "source": [
        "# Simulando a aplicação do modelo em dados não vistos\n",
        "# Novos dados - não sabemos a classe!\n",
        "data = {'sexo': ['MASCULINO', 'MASCULINO', 'FEMININO'],\n",
        "        'idade': [90, 30, 56],\n",
        "        'uf': ['RJ', 'BA', 'SP'],\n",
        "        'situacao_funcional':['ATIVO PERMANENTE','APOSENTADO', 'APOSENTADO'],\n",
        "        'tipo_contrato': ['ESTAVEL', 'ESTAVEL', 'NAO ESTAVEL'],\n",
        "        'pmt_valor': [100, 500, 35000],\n",
        "        'margem_saldo': [200, 5000, 4000],\n",
        "        }\n",
        "\n",
        "atributos = ['sexo','idade','uf','situacao_funcional','tipo_contrato', 'pmt_valor', 'margem_saldo']\n",
        "entrada = pd.DataFrame(data, columns=atributos)\n",
        "\n",
        "array_entrada = entrada.values\n",
        "X_entrada = array_entrada[:,0:7]\n",
        "\n",
        "\n",
        "# Codificar variáveis categóricas\n",
        "label_encoder_sex = LabelEncoder()\n",
        "label_encoder_u = LabelEncoder()\n",
        "label_encoder_sit_fun = LabelEncoder()\n",
        "label_encoder_tp_con = LabelEncoder()\n",
        "X_entrada[:,0] = label_encoder_sex.fit_transform(X_entrada[:,0])\n",
        "X_entrada[:,2] = label_encoder_u.fit_transform(X_entrada[:,2])\n",
        "X_entrada[:,3] = label_encoder_sit_fun.fit_transform(X_entrada[:,3])\n",
        "X_entrada[:,4] = label_encoder_tp_con.fit_transform(X_entrada[:,4])\n",
        "\n",
        "# Padronização nos dados de entrada usando o scaler utilizado em X\n",
        "rescaledEntradaX = scaler.transform(X_entrada)\n",
        "print(rescaledEntradaX)"
      ],
      "metadata": {
        "colab": {
          "base_uri": "https://localhost:8080/"
        },
        "id": "JH-m68KEAXTi",
        "outputId": "f8f33eec-ad2d-45d5-b2f5-7214d22130b5"
      },
      "execution_count": 47,
      "outputs": [
        {
          "output_type": "stream",
          "name": "stdout",
          "text": [
            "[[ 1.23656155e+00  1.37189553e+00 -1.83751337e+00 -1.24936346e+00\n",
            "  -4.40973600e-01 -7.73886984e-01 -5.06432696e-01]\n",
            " [ 1.23656155e+00 -1.44826669e+00 -1.97734606e+00 -1.65864193e+00\n",
            "  -4.40973600e-01 -6.30180789e-01  1.30429089e-01]\n",
            " [-8.08694075e-01 -2.26196395e-01 -1.69768069e+00 -1.65864193e+00\n",
            "   2.26770945e+00  1.17644784e+01 -2.25044957e-03]]\n"
          ]
        }
      ]
    },
    {
      "cell_type": "code",
      "source": [
        "# Predição de classes dos dados de entrada\n",
        "saidas = model.predict(rescaledEntradaX)\n",
        "print(saidas)"
      ],
      "metadata": {
        "colab": {
          "base_uri": "https://localhost:8080/"
        },
        "id": "hTB0i6zvAc50",
        "outputId": "e540f08c-f236-43ca-80e8-4ccae64da48f"
      },
      "execution_count": 48,
      "outputs": [
        {
          "output_type": "stream",
          "name": "stdout",
          "text": [
            "[1 0 1]\n"
          ]
        }
      ]
    },
    {
      "cell_type": "markdown",
      "source": [
        "**Resumo:**\n",
        "\n",
        "Conforme saída acima, o modelo \"preditou\" corretamente os dados não vistos, respeitando a regra de negócio (A regrá principal consiste em ser menor que 85 anos de idade, com margem de saldo superior à 35% dos parcelamentos vigentes), somente o segundo registro está correto.\n",
        "\n"
      ],
      "metadata": {
        "id": "yxEutSi_AkfP"
      }
    }
  ]
}